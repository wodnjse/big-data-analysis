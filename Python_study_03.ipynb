{
  "nbformat": 4,
  "nbformat_minor": 0,
  "metadata": {
    "colab": {
      "name": "Python-study-03.ipynb",
      "provenance": [],
      "authorship_tag": "ABX9TyM5nX7l+z3jggymrlMtaLBR",
      "include_colab_link": true
    },
    "kernelspec": {
      "name": "python3",
      "display_name": "Python 3"
    },
    "language_info": {
      "name": "python"
    }
  },
  "cells": [
    {
      "cell_type": "markdown",
      "metadata": {
        "id": "view-in-github",
        "colab_type": "text"
      },
      "source": [
        "<a href=\"https://colab.research.google.com/github/wodnjse/big-data-analysis/blob/main/Python_study_03.ipynb\" target=\"_parent\"><img src=\"https://colab.research.google.com/assets/colab-badge.svg\" alt=\"Open In Colab\"/></a>"
      ]
    },
    {
      "cell_type": "code",
      "execution_count": null,
      "metadata": {
        "colab": {
          "base_uri": "https://localhost:8080/"
        },
        "cellView": "code",
        "id": "6blxbEnIJQA3",
        "outputId": "758d13f6-f1a1-4ac7-e712-0aec7817b26e"
      },
      "outputs": [
        {
          "output_type": "stream",
          "name": "stdout",
          "text": [
            "[37, 23, 10, 33, 29, 40, 16]\n",
            "[37, 23, 10, 33, 29, 40, 16, 16]\n",
            "[37, 23, 10, 33, 29, 40, 16, 37, 23, 10, 33, 29, 40, 16, 16]\n",
            "False\n",
            "10은 있어!\n"
          ]
        }
      ],
      "source": [
        "# 리스트 수정\n",
        "list2 = [37, 23, 10, 33, 29, 40]\n",
        "\n",
        "# 16의 값을 추가\n",
        "# append() 사용\n",
        "list2.append(16)\n",
        "print(list2)\n",
        "\n",
        "# + [값] 사용\n",
        "list3 = list2 + [16]\n",
        "print (list3)\n",
        "\n",
        "list4 = list2 + list3\n",
        "print(list4)\n",
        "\n",
        "# 리스트 안에 값 확인하기\n",
        "n = 12\n",
        "ownership = n in list3  \n",
        "print(ownership)\n",
        "\n",
        "n = 10\n",
        "if n in list3: # if문을 사용하여 list3안에 n(10)이 들어있는지 확인\n",
        "  print('{}은 있어!'.format(n)) "
      ]
    },
    {
      "cell_type": "code",
      "source": [
        "# 리스트 삭제\n",
        "# del 사용 \n",
        "print(list4)\n",
        "\n",
        "del list4[12]\n",
        "print(list4)"
      ],
      "metadata": {
        "colab": {
          "base_uri": "https://localhost:8080/"
        },
        "id": "wmq-MGHiKzZ9",
        "outputId": "0f9ebcd3-e9a8-4d2f-bd88-f1fb911fa96d"
      },
      "execution_count": null,
      "outputs": [
        {
          "output_type": "stream",
          "name": "stdout",
          "text": [
            "[37, 23, 10, 33, 29, 40, 37, 23, 10, 33, 29, 40, 16]\n",
            "[37, 23, 10, 33, 29, 40, 37, 23, 10, 33, 29, 40]\n"
          ]
        }
      ]
    },
    {
      "cell_type": "code",
      "source": [
        "# remove() 사용\n",
        "list4.remove(40)\n",
        "print(list4)"
      ],
      "metadata": {
        "colab": {
          "base_uri": "https://localhost:8080/"
        },
        "id": "ao52LqZHK8M8",
        "outputId": "51c204b0-43a3-4aa6-cdab-7976ad7a0068"
      },
      "execution_count": null,
      "outputs": [
        {
          "output_type": "stream",
          "name": "stdout",
          "text": [
            "[37, 23, 10, 33, 29, 37, 23, 10, 33, 29]\n"
          ]
        }
      ]
    },
    {
      "cell_type": "code",
      "source": [
        "# del 리스트이름(인덱스번호)\n",
        "del(list4[-1])\n",
        "print(list4)"
      ],
      "metadata": {
        "colab": {
          "base_uri": "https://localhost:8080/"
        },
        "id": "kISL5ikQLk78",
        "outputId": "97a7bfcb-d280-42ce-dcf6-5c8431b7e3e8"
      },
      "execution_count": null,
      "outputs": [
        {
          "output_type": "stream",
          "name": "stdout",
          "text": [
            "[37, 23, 10, 33, 29, 40, 16, 37, 23, 10, 33, 29, 40, 16]\n"
          ]
        }
      ]
    },
    {
      "cell_type": "code",
      "source": [
        "# 실습\n",
        "# list1 끝에 4가 담기도록 추가\n",
        "list1 = [1, 2, 3]\n",
        "list1.append(4)\n",
        "print(list1)\n",
        "\n",
        "# list1과 list2에 1, 2, 3, 4, 5, 6을 자유롭게 선언해서 list3을 출력했을 때 [1, 2, 3, 4, 5, 6]이 나오게 하기\n",
        "list2 = [4, 5, 6]\n",
        "list3 = list1 + list2\n",
        "print(list3)\n",
        "\n",
        "# 조건문을 활용하여 numbers 안에 5가 들어 있으면 5가 들어 있다 라고 출력하게 하기\n",
        "numbers = 5\n",
        "if numbers in list3:\n",
        "  print(\"5가 들어있다.\")\n",
        "\n",
        "# list1에 1, 2, 3 을 선언하고 2를 삭제하기\n",
        "# remove() \n",
        "list1 = [1, 2, 3]\n",
        "list1.remove(2)\n",
        "print(list1)\n",
        "\n",
        "# del \n",
        "list1 = [1, 2, 3]\n",
        "del list1[1]\n",
        "print(list1)\n",
        "\n",
        "# del() \n",
        "list1 = [1, 2, 3]\n",
        "del(list1[1])\n",
        "print(list1)"
      ],
      "metadata": {
        "colab": {
          "base_uri": "https://localhost:8080/"
        },
        "id": "CGWTJE8OL690",
        "outputId": "ecacf934-a250-4655-a043-c260ccfd20d9"
      },
      "execution_count": null,
      "outputs": [
        {
          "output_type": "stream",
          "name": "stdout",
          "text": [
            "[1, 2, 3, 4]\n",
            "[1, 2, 3, 4, 4, 5, 6]\n",
            "5가 들어있다.\n",
            "[1, 3]\n",
            "[1, 3]\n",
            "[1, 3]\n"
          ]
        }
      ]
    },
    {
      "cell_type": "code",
      "source": [
        "# 리스트 고급\n",
        "\n",
        "list1 = [135, 462, 27, 2753, 234]\n",
        "\n",
        "# 27이라는 값이 몇번째 인덱스에 있는지 위치를 반환하기\n",
        "list1.index(27)\n",
        "print(list1.index(27))\n",
        "\n",
        "# list1에 없는 값의 인덱스를 찾고자 할 때 결과\n",
        "\"\"\"\n",
        "---------------------------------------------------------------------------\n",
        "ValueError                                Traceback (most recent call last)\n",
        "<ipython-input-44-c04859e9a5d5> in <module>()\n",
        "      8 # list1에 없는 값의 인덱스를 찾고자 할 때 결과\n",
        "      9 \n",
        "---> 10 list1.index(2)\n",
        "\n",
        "ValueError: 2 is not in list\n",
        "\"\"\"\n",
        "if 27 in list1:\n",
        "  print(list1.index(27))"
      ],
      "metadata": {
        "colab": {
          "base_uri": "https://localhost:8080/"
        },
        "id": "Unj1XQhNRM2N",
        "outputId": "678a59df-22e8-4c1d-d6d1-e2236a6e6bdf"
      },
      "execution_count": null,
      "outputs": [
        {
          "output_type": "stream",
          "name": "stdout",
          "text": [
            "2\n",
            "2\n"
          ]
        }
      ]
    },
    {
      "cell_type": "code",
      "source": [
        "list2 = [1, 2, 3] + [4, 5, 6]\n",
        "list2\n",
        "\n",
        "list2.extend([9, 10, 11])\n",
        "list2\n",
        "\n",
        "print(list1)\n",
        "list1.insert(2, 16)\n",
        "print(list1)"
      ],
      "metadata": {
        "colab": {
          "base_uri": "https://localhost:8080/"
        },
        "id": "rb-L2NR3V80R",
        "outputId": "63865d62-10ad-48e5-d89c-2e3f9f837e94"
      },
      "execution_count": null,
      "outputs": [
        {
          "output_type": "stream",
          "name": "stdout",
          "text": [
            "[135, 462, 27, 2753, 234]\n",
            "[135, 462, 16, 27, 2753, 234]\n"
          ]
        }
      ]
    },
    {
      "cell_type": "code",
      "source": [
        "# 기존 위치에 있던 값이 오른쪽으로 한칸 밀려남. 마지막 위치가 아니라 마지막에서 한칸 앞에 값이 삽입됨\n",
        "list1.insert(-1, 3000)\n",
        "list1"
      ],
      "metadata": {
        "colab": {
          "base_uri": "https://localhost:8080/"
        },
        "id": "boAQroUhW8yN",
        "outputId": "2702d3f8-59f1-4c96-da69-a23a3815be1b"
      },
      "execution_count": null,
      "outputs": [
        {
          "output_type": "execute_result",
          "data": {
            "text/plain": [
              "[135, 462, 16, 16, 27, 2753, 3000, 3000, 234]"
            ]
          },
          "metadata": {},
          "execution_count": 98
        }
      ]
    },
    {
      "cell_type": "code",
      "source": [
        "# 인덱스 값으로 값 추가하기\n",
        "\n",
        "\n"
      ],
      "metadata": {
        "id": "Vx_GkzvwYIqs"
      },
      "execution_count": null,
      "outputs": []
    },
    {
      "cell_type": "code",
      "source": [
        "# 리스트 정렬\n",
        "\n",
        "list1.sort()\n",
        "print(list1)\n",
        "\n",
        "# 역순 정렬\n",
        "list1.reverse()\n",
        "print(list1)"
      ],
      "metadata": {
        "colab": {
          "base_uri": "https://localhost:8080/"
        },
        "id": "M0uBquyfYe78",
        "outputId": "13710fa1-a017-458d-af8a-103f9f3444d5"
      },
      "execution_count": null,
      "outputs": [
        {
          "output_type": "stream",
          "name": "stdout",
          "text": [
            "[16, 16, 27, 135, 234, 462, 2753, 3000, 3000]\n",
            "[3000, 3000, 2753, 462, 234, 135, 27, 16, 16]\n"
          ]
        }
      ]
    },
    {
      "cell_type": "code",
      "source": [
        "# 실습\n",
        "# safe_index() 함수 완성하기\n",
        "# a_list와 정수 값을 매개변수로 받아서 a_list 안에 값이 있으면 인덱스값 반환, 값이 없으면 None 반환\n",
        "a_list = [1,2,3]\n",
        "\n",
        "def safe_index(value, a_list):\n",
        "  if value in a_list:\n",
        "    return a_list.index(value)\n",
        "  else:\n",
        "    return None\n",
        "\n",
        "value = int(input()) # input()은 모든 값을 str로 지정하기 때문에 int로 변환해줌\n",
        "safe_index(value, a_list)"
      ],
      "metadata": {
        "colab": {
          "base_uri": "https://localhost:8080/"
        },
        "id": "DGgnlKsJYno8",
        "outputId": "8bfb5fbb-1c35-4768-bd28-f488ae849ff1"
      },
      "execution_count": null,
      "outputs": [
        {
          "name": "stdout",
          "output_type": "stream",
          "text": [
            "3\n"
          ]
        },
        {
          "output_type": "execute_result",
          "data": {
            "text/plain": [
              "2"
            ]
          },
          "metadata": {},
          "execution_count": 142
        }
      ]
    }
  ]
}