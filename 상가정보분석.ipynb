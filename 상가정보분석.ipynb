{
  "nbformat": 4,
  "nbformat_minor": 0,
  "metadata": {
    "colab": {
      "name": "상가정보분석.ipynb",
      "provenance": [],
      "authorship_tag": "ABX9TyNQ1EBpgpN6XhpUqfhWma3S",
      "include_colab_link": true
    },
    "kernelspec": {
      "name": "python3",
      "display_name": "Python 3"
    },
    "language_info": {
      "name": "python"
    }
  },
  "cells": [
    {
      "cell_type": "markdown",
      "metadata": {
        "id": "view-in-github",
        "colab_type": "text"
      },
      "source": [
        "<a href=\"https://colab.research.google.com/github/wodnjse/big-data-analysis/blob/main/%EC%83%81%EA%B0%80%EC%A0%95%EB%B3%B4%EB%B6%84%EC%84%9D.ipynb\" target=\"_parent\"><img src=\"https://colab.research.google.com/assets/colab-badge.svg\" alt=\"Open In Colab\"/></a>"
      ]
    },
    {
      "cell_type": "code",
      "execution_count": null,
      "metadata": {
        "colab": {
          "base_uri": "https://localhost:8080/"
        },
        "id": "EbXgIzMssFcF",
        "outputId": "0d58281c-451d-4b79-88d6-6a65ad3b8909"
      },
      "outputs": [
        {
          "output_type": "stream",
          "name": "stdout",
          "text": [
            "Mounted at /content/drive\n"
          ]
        }
      ],
      "source": [
        "from google.colab import drive\n",
        "drive.mount('/content/drive')"
      ]
    },
    {
      "cell_type": "code",
      "source": [
        "import pandas as pd\n",
        "import numpy as np\n",
        "import seaborn as sns\n",
        "import matplotlib.pyplot as plt"
      ],
      "metadata": {
        "id": "kkG2z5VTwgB1"
      },
      "execution_count": null,
      "outputs": []
    },
    {
      "cell_type": "code",
      "source": [
        "plt.title('한글 폰트 설정')\n",
        "plt.plot([-4, -6, 1, 2, 0, 3])\n",
        "#  한글 폰트 깨짐"
      ],
      "metadata": {
        "colab": {
          "base_uri": "https://localhost:8080/",
          "height": 742
        },
        "id": "Re0I6J2Tw6bt",
        "outputId": "1e699b0f-60da-4ca3-c570-3f61f7914588"
      },
      "execution_count": null,
      "outputs": [
        {
          "output_type": "execute_result",
          "data": {
            "text/plain": [
              "[<matplotlib.lines.Line2D at 0x7f5162de9250>]"
            ]
          },
          "metadata": {},
          "execution_count": 3
        },
        {
          "output_type": "stream",
          "name": "stderr",
          "text": [
            "/usr/local/lib/python3.7/dist-packages/matplotlib/backends/backend_agg.py:214: RuntimeWarning: Glyph 54620 missing from current font.\n",
            "  font.set_text(s, 0.0, flags=flags)\n",
            "/usr/local/lib/python3.7/dist-packages/matplotlib/backends/backend_agg.py:214: RuntimeWarning: Glyph 44544 missing from current font.\n",
            "  font.set_text(s, 0.0, flags=flags)\n",
            "/usr/local/lib/python3.7/dist-packages/matplotlib/backends/backend_agg.py:214: RuntimeWarning: Glyph 54256 missing from current font.\n",
            "  font.set_text(s, 0.0, flags=flags)\n",
            "/usr/local/lib/python3.7/dist-packages/matplotlib/backends/backend_agg.py:214: RuntimeWarning: Glyph 53944 missing from current font.\n",
            "  font.set_text(s, 0.0, flags=flags)\n",
            "/usr/local/lib/python3.7/dist-packages/matplotlib/backends/backend_agg.py:214: RuntimeWarning: Glyph 49444 missing from current font.\n",
            "  font.set_text(s, 0.0, flags=flags)\n",
            "/usr/local/lib/python3.7/dist-packages/matplotlib/backends/backend_agg.py:214: RuntimeWarning: Glyph 51221 missing from current font.\n",
            "  font.set_text(s, 0.0, flags=flags)\n",
            "/usr/local/lib/python3.7/dist-packages/matplotlib/backends/backend_agg.py:183: RuntimeWarning: Glyph 54620 missing from current font.\n",
            "  font.set_text(s, 0, flags=flags)\n",
            "/usr/local/lib/python3.7/dist-packages/matplotlib/backends/backend_agg.py:183: RuntimeWarning: Glyph 44544 missing from current font.\n",
            "  font.set_text(s, 0, flags=flags)\n",
            "/usr/local/lib/python3.7/dist-packages/matplotlib/backends/backend_agg.py:183: RuntimeWarning: Glyph 54256 missing from current font.\n",
            "  font.set_text(s, 0, flags=flags)\n",
            "/usr/local/lib/python3.7/dist-packages/matplotlib/backends/backend_agg.py:183: RuntimeWarning: Glyph 53944 missing from current font.\n",
            "  font.set_text(s, 0, flags=flags)\n",
            "/usr/local/lib/python3.7/dist-packages/matplotlib/backends/backend_agg.py:183: RuntimeWarning: Glyph 49444 missing from current font.\n",
            "  font.set_text(s, 0, flags=flags)\n",
            "/usr/local/lib/python3.7/dist-packages/matplotlib/backends/backend_agg.py:183: RuntimeWarning: Glyph 51221 missing from current font.\n",
            "  font.set_text(s, 0, flags=flags)\n"
          ]
        },
        {
          "output_type": "display_data",
          "data": {
            "text/plain": [
              "<Figure size 432x288 with 1 Axes>"
            ],
            "image/png": "[encoded data removed]"
          },
          "metadata": {
            "needs_background": "light"
          }
        }
      ]
    },
    {
      "cell_type": "code",
      "source": [
        "!apt-get install fonts-nanum* -qq  # nanum*: nanum으로 시작하는 모든 폰드 설치\n",
        "\n",
        "import matplotlib.font_manager as fm\n",
        "\n",
        "all_fonts_I_can_use = fm.findSystemFonts(fontpaths=None, fontext='ttf')\n",
        "all_fonts_I_can_use"
      ],
      "metadata": {
        "colab": {
          "base_uri": "https://localhost:8080/"
        },
        "id": "0xwHdeTixeO9",
        "outputId": "b76bf491-6ec8-4cb4-ca6a-5a2e4c4c61ab"
      },
      "execution_count": null,
      "outputs": [
        {
          "output_type": "execute_result",
          "data": {
            "text/plain": [
              "['/usr/share/fonts/truetype/nanum/NanumGothicEcoExtraBold.ttf',\n",
              " '/usr/share/fonts/truetype/liberation/LiberationSansNarrow-Regular.ttf',\n",
              " '/usr/share/fonts/truetype/nanum/NanumMyeongjoBold.ttf',\n",
              " '/usr/share/fonts/truetype/nanum/NanumGothicEco.ttf',\n",
              " '/usr/share/fonts/truetype/liberation/LiberationSerif-Regular.ttf',\n",
              " '/usr/share/fonts/truetype/liberation/LiberationMono-BoldItalic.ttf',\n",
              " '/usr/share/fonts/truetype/liberation/LiberationSans-Italic.ttf',\n",
              " '/usr/share/fonts/truetype/liberation/LiberationSans-BoldItalic.ttf',\n",
              " '/usr/share/fonts/truetype/nanum/NanumSquareR.ttf',\n",
              " '/usr/share/fonts/truetype/nanum/NanumGothicEcoBold.ttf',\n",
              " '/usr/share/fonts/truetype/liberation/LiberationMono-Italic.ttf',\n",
              " '/usr/share/fonts/truetype/nanum/NanumGothicLight.ttf',\n",
              " '/usr/share/fonts/truetype/liberation/LiberationMono-Bold.ttf',\n",
              " '/usr/share/fonts/truetype/nanum/NanumMyeongjo.ttf',\n",
              " '/usr/share/fonts/truetype/nanum/NanumBarunpenB.ttf',\n",
              " '/usr/share/fonts/truetype/nanum/NanumBrush.ttf',\n",
              " '/usr/share/fonts/truetype/liberation/LiberationSans-Regular.ttf',\n",
              " '/usr/share/fonts/truetype/liberation/LiberationMono-Regular.ttf',\n",
              " '/usr/share/fonts/truetype/nanum/NanumGothicBold.ttf',\n",
              " '/usr/share/fonts/truetype/nanum/NanumSquareRoundEB.ttf',\n",
              " '/usr/share/fonts/truetype/liberation/LiberationSerif-Italic.ttf',\n",
              " '/usr/share/fonts/truetype/nanum/NanumMyeongjoEcoExtraBold.ttf',\n",
              " '/usr/share/fonts/truetype/nanum/NanumGothic.ttf',\n",
              " '/usr/share/fonts/truetype/nanum/NanumSquareL.ttf',\n",
              " '/usr/share/fonts/truetype/liberation/LiberationSerif-BoldItalic.ttf',\n",
              " '/usr/share/fonts/truetype/nanum/NanumGothicCoding-Bold.ttf',\n",
              " '/usr/share/fonts/truetype/nanum/NanumBarunGothic.ttf',\n",
              " '/usr/share/fonts/truetype/nanum/NanumSquareRoundL.ttf',\n",
              " '/usr/share/fonts/truetype/liberation/LiberationSansNarrow-Bold.ttf',\n",
              " '/usr/share/fonts/truetype/nanum/NanumMyeongjoEcoBold.ttf',\n",
              " '/usr/share/fonts/truetype/liberation/LiberationSansNarrow-Italic.ttf',\n",
              " '/usr/share/fonts/truetype/nanum/NanumBarunGothicBold.ttf',\n",
              " '/usr/share/fonts/truetype/nanum/NanumBarunGothicUltraLight.ttf',\n",
              " '/usr/share/fonts/truetype/liberation/LiberationSansNarrow-BoldItalic.ttf',\n",
              " '/usr/share/fonts/truetype/liberation/LiberationSerif-Bold.ttf',\n",
              " '/usr/share/fonts/truetype/nanum/NanumBarunpenR.ttf',\n",
              " '/usr/share/fonts/truetype/nanum/NanumBarunGothicLight.ttf',\n",
              " '/usr/share/fonts/truetype/liberation/LiberationSans-Bold.ttf',\n",
              " '/usr/share/fonts/truetype/nanum/NanumPen.ttf',\n",
              " '/usr/share/fonts/truetype/humor-sans/Humor-Sans.ttf',\n",
              " '/usr/share/fonts/truetype/nanum/NanumMyeongjoExtraBold.ttf',\n",
              " '/usr/share/fonts/truetype/nanum/NanumSquareRoundR.ttf',\n",
              " '/usr/share/fonts/truetype/nanum/NanumGothicExtraBold.ttf',\n",
              " '/usr/share/fonts/truetype/nanum/NanumGothicCoding.ttf',\n",
              " '/usr/share/fonts/truetype/nanum/NanumSquareB.ttf',\n",
              " '/usr/share/fonts/truetype/nanum/NanumSquareRoundB.ttf',\n",
              " '/usr/share/fonts/truetype/nanum/NanumMyeongjoEco.ttf',\n",
              " '/usr/share/fonts/truetype/nanum/NanumSquareEB.ttf']"
            ]
          },
          "metadata": {},
          "execution_count": 4
        }
      ]
    },
    {
      "cell_type": "code",
      "source": [
        "fontpath = '/usr/share/fonts/truetype/nanum/NanumBarunGothic.ttf'\n",
        "font = fm.FontProperties(fname=fontpath, size = 9)\n",
        "fm._rebuild()\n",
        "\n",
        "%config lnlineBackend.figure_format = 'retina'  # retina 설정 - 폰트 주변이 흐릿하게 보이는 것을 방지해 글씨가 좀 더 선명하게 보임\n",
        "\n",
        "\n",
        "plt.rc('font', family = 'NanumBarunGothic')"
      ],
      "metadata": {
        "id": "mxxSDdD3zUNF"
      },
      "execution_count": null,
      "outputs": []
    },
    {
      "cell_type": "code",
      "source": [
        "# 주피터 노트북에서 할 때 한글 폰트 설정\n",
        "# win\n",
        "# plt.rc(\"font\", \"family=\"Malgun Gothic\")\n",
        "# mac\n",
        "# plt.rc(\"font\", family=\"AppleGothic\")\n",
        "\n",
        "# 마이너스 출력을 위해\n",
        "# plt.rc(\"axes\", unicode_minus=False)"
      ],
      "metadata": {
        "id": "Ii5JQokHzxJ9"
      },
      "execution_count": null,
      "outputs": []
    },
    {
      "cell_type": "code",
      "source": [
        "plt.title('한글 폰트 설정')\n",
        "plt.plot([-4, -6, 1, 2, 0, 3])"
      ],
      "metadata": {
        "colab": {
          "base_uri": "https://localhost:8080/",
          "height": 373
        },
        "id": "fX426bAb3au1",
        "outputId": "6940d1cc-c2a4-4dac-a8d6-05ce661d06c7"
      },
      "execution_count": null,
      "outputs": [
        {
          "output_type": "execute_result",
          "data": {
            "text/plain": [
              "[<matplotlib.lines.Line2D at 0x7f5162d62e10>]"
            ]
          },
          "metadata": {},
          "execution_count": 7
        },
        {
          "output_type": "stream",
          "name": "stderr",
          "text": [
            "/usr/local/lib/python3.7/dist-packages/matplotlib/backends/backend_agg.py:214: RuntimeWarning: Glyph 8722 missing from current font.\n",
            "  font.set_text(s, 0.0, flags=flags)\n",
            "/usr/local/lib/python3.7/dist-packages/matplotlib/backends/backend_agg.py:183: RuntimeWarning: Glyph 8722 missing from current font.\n",
            "  font.set_text(s, 0, flags=flags)\n"
          ]
        },
        {
          "output_type": "display_data",
          "data": {
            "text/plain": [
              "<Figure size 432x288 with 1 Axes>"
            ],
            "image/png": "[encoded data removed]"
          },
          "metadata": {
            "needs_background": "light"
          }
        }
      ]
    },
    {
      "cell_type": "code",
      "source": [
        "from google.colab import drive\n",
        "drive.mount(\"./mount/\", force_remount=True)"
      ],
      "metadata": {
        "colab": {
          "base_uri": "https://localhost:8080/"
        },
        "id": "-VPFCkPl5edF",
        "outputId": "b7d66f19-1d22-4ed1-ca2e-cabcac24116b"
      },
      "execution_count": null,
      "outputs": [
        {
          "output_type": "stream",
          "name": "stdout",
          "text": [
            "Mounted at ./mount/\n"
          ]
        }
      ]
    },
    {
      "cell_type": "code",
      "source": [
        "df=pd.read_csv(\"mount/MyDrive/Colab Notebooks/빅데이터분석2/data/소상공인시장진흥공단_상가(상권)정보_서울_202112.csv\")\n",
        "df.shape"
      ],
      "metadata": {
        "colab": {
          "base_uri": "https://localhost:8080/"
        },
        "id": "NxLwSdzf52ct",
        "outputId": "cdea11c9-ed5d-4f38-95a8-c6f0c06d827e"
      },
      "execution_count": null,
      "outputs": [
        {
          "output_type": "execute_result",
          "data": {
            "text/plain": [
              "(315294, 39)"
            ]
          },
          "metadata": {},
          "execution_count": 9
        }
      ]
    },
    {
      "cell_type": "code",
      "source": [
        "pd.options.display.max_columns = 39"
      ],
      "metadata": {
        "id": "Mw9Rb9gP9_pR"
      },
      "execution_count": null,
      "outputs": []
    },
    {
      "cell_type": "code",
      "source": [
        "df.head()"
      ],
      "metadata": {
        "colab": {
          "base_uri": "https://localhost:8080/",
          "height": 1000
        },
        "id": "aP8NKuUJ-8C5",
        "outputId": "86033ed4-504d-4822-bbdf-252c13dbffe9"
      },
      "execution_count": null,
      "outputs": [
        {
          "output_type": "execute_result",
          "data": {
            "text/plain": [
              "     상가업소번호         상호명  지점명 상권업종대분류코드 상권업종대분류명 상권업종중분류코드   상권업종중분류명  \\\n",
              "0  23324279       제중건강원  NaN         D       소매       D10    건강/미용식품   \n",
              "1  24525909       민속악기사  NaN         D       소매       D04  취미/오락관련소매   \n",
              "2  24715368       태평양진주  NaN         D       소매       D26   시계/귀금속소매   \n",
              "3  15554136  김선희꼼꼼국어교습소  NaN         R    학문/교육       R01  학원-보습교습입시   \n",
              "4  17174175         비지트  NaN         Q       음식       Q01         한식   \n",
              "\n",
              "  상권업종소분류코드   상권업종소분류명 표준산업분류코드       표준산업분류명  시도코드    시도명  시군구코드  시군구명  \\\n",
              "0    D10A07        건강원   G47216    건강보조식품 소매업    11  서울특별시  11560  영등포구   \n",
              "1    D04A09       악기판매   G47593        악기 소매업    11  서울특별시  11200   성동구   \n",
              "2    D26A01     시계/귀금속   G47830  시계 및 귀금속 소매업    11  서울특별시  11110   종로구   \n",
              "3    R01A01      학원-입시   P85501      일반 교과 학원    11  서울특별시  11710   송파구   \n",
              "4    Q01A01  한식/백반/한정식   I56111       한식 음식점업    11  서울특별시  11650   서초구   \n",
              "\n",
              "        행정동코드         행정동명       법정동코드    법정동명                 지번코드  대지구분코드  \\\n",
              "0  1156053500         영등포동  1156010600  영등포동5가  1156010600100410001       1   \n",
              "1  1120079000          용답동  1120012200     용답동  1120012200101420011       1   \n",
              "2  1111061500  종로1.2.3.4가동  1111015200     봉익동  1111015200100430001       1   \n",
              "3  1171056100         방이1동  1171011100     방이동  1171011100101970003       1   \n",
              "4  1165062100         방배4동  1165010100     방배동  1165010100108540018       1   \n",
              "\n",
              "  대지구분명  지번본번지  지번부번지                    지번주소         도로명코드  \\\n",
              "0    대지     41    1.0  서울특별시 영등포구 영등포동5가 41-1  115604154799   \n",
              "1    대지    142   11.0    서울특별시 성동구 용답동 142-11  112004109480   \n",
              "2    대지     43    1.0      서울특별시 종로구 봉익동 43-1  111104100163   \n",
              "3    대지    197    3.0     서울특별시 송파구 방이동 197-3  117104169448   \n",
              "4    대지    854   18.0    서울특별시 서초구 방배동 854-18  116504163117   \n",
              "\n",
              "                  도로명  건물본번지  건물부번지                     건물관리번호     건물명  \\\n",
              "0   서울특별시 영등포구 영중로14길     11   17.0  1156010600100410002034626     NaN   \n",
              "1      서울특별시 성동구 용답5길      2    NaN  1120012200101420011000227     NaN   \n",
              "2      서울특별시 종로구 서순라길     17   10.0  1111015200100440000000001  금사랑투빌딩   \n",
              "3  서울특별시 송파구 위례성대로12길     31    NaN  1171011100101970003017195     NaN   \n",
              "4    서울특별시 서초구 동광로18길     82    NaN  1165010100108540018009586   상랑의빌딩   \n",
              "\n",
              "                     도로명주소   구우편번호   신우편번호  동정보  층정보  호정보          경도  \\\n",
              "0  서울특별시 영등포구 영중로14길 11-17  150035  7250.0  NaN    1  NaN  126.907168   \n",
              "1         서울특별시 성동구 용답5길 2  133849  4803.0  NaN  NaN  NaN  127.049018   \n",
              "2     서울특별시 종로구 서순라길 17-10  110390  3138.0  NaN  NaN  NaN  126.993530   \n",
              "3    서울특별시 송파구 위례성대로12길 31  138834  5640.0  NaN    2  NaN  127.121520   \n",
              "4      서울특별시 서초구 동광로18길 82  137837  6572.0  NaN    1  NaN  126.991394   \n",
              "\n",
              "          위도  \n",
              "0  37.520613  \n",
              "1  37.566857  \n",
              "2  37.571848  \n",
              "3  37.510967  \n",
              "4  37.488375  "
            ],
            "text/html": [
              "\n",
              "  <div id=\"df-f582f913-19d2-41bc-8d53-a9162f65d2dc\">\n",
              "    <div class=\"colab-df-container\">\n",
              "      <div>\n",
              "<style scoped>\n",
              "    .dataframe tbody tr th:only-of-type {\n",
              "        vertical-align: middle;\n",
              "    }\n",
              "\n",
              "    .dataframe tbody tr th {\n",
              "        vertical-align: top;\n",
              "    }\n",
              "\n",
              "    .dataframe thead th {\n",
              "        text-align: right;\n",
              "    }\n",
              "</style>\n",
              "<table border=\"1\" class=\"dataframe\">\n",
              "  <thead>\n",
              "    <tr style=\"text-align: right;\">\n",
              "      <th></th>\n",
              "      <th>상가업소번호</th>\n",
              "      <th>상호명</th>\n",
              "      <th>지점명</th>\n",
              "      <th>상권업종대분류코드</th>\n",
              "      <th>상권업종대분류명</th>\n",
              "      <th>상권업종중분류코드</th>\n",
              "      <th>상권업종중분류명</th>\n",
              "      <th>상권업종소분류코드</th>\n",
              "      <th>상권업종소분류명</th>\n",
              "      <th>표준산업분류코드</th>\n",
              "      <th>표준산업분류명</th>\n",
              "      <th>시도코드</th>\n",
              "      <th>시도명</th>\n",
              "      <th>시군구코드</th>\n",
              "      <th>시군구명</th>\n",
              "      <th>행정동코드</th>\n",
              "      <th>행정동명</th>\n",
              "      <th>법정동코드</th>\n",
              "      <th>법정동명</th>\n",
              "      <th>지번코드</th>\n",
              "      <th>대지구분코드</th>\n",
              "      <th>대지구분명</th>\n",
              "      <th>지번본번지</th>\n",
              "      <th>지번부번지</th>\n",
              "      <th>지번주소</th>\n",
              "      <th>도로명코드</th>\n",
              "      <th>도로명</th>\n",
              "      <th>건물본번지</th>\n",
              "      <th>건물부번지</th>\n",
              "      <th>건물관리번호</th>\n",
              "      <th>건물명</th>\n",
              "      <th>도로명주소</th>\n",
              "      <th>구우편번호</th>\n",
              "      <th>신우편번호</th>\n",
              "      <th>동정보</th>\n",
              "      <th>층정보</th>\n",
              "      <th>호정보</th>\n",
              "      <th>경도</th>\n",
              "      <th>위도</th>\n",
              "    </tr>\n",
              "  </thead>\n",
              "  <tbody>\n",
              "    <tr>\n",
              "      <th>0</th>\n",
              "      <td>23324279</td>\n",
              "      <td>제중건강원</td>\n",
              "      <td>NaN</td>\n",
              "      <td>D</td>\n",
              "      <td>소매</td>\n",
              "      <td>D10</td>\n",
              "      <td>건강/미용식품</td>\n",
              "      <td>D10A07</td>\n",
              "      <td>건강원</td>\n",
              "      <td>G47216</td>\n",
              "      <td>건강보조식품 소매업</td>\n",
              "      <td>11</td>\n",
              "      <td>서울특별시</td>\n",
              "      <td>11560</td>\n",
              "      <td>영등포구</td>\n",
              "      <td>1156053500</td>\n",
              "      <td>영등포동</td>\n",
              "      <td>1156010600</td>\n",
              "      <td>영등포동5가</td>\n",
              "      <td>1156010600100410001</td>\n",
              "      <td>1</td>\n",
              "      <td>대지</td>\n",
              "      <td>41</td>\n",
              "      <td>1.0</td>\n",
              "      <td>서울특별시 영등포구 영등포동5가 41-1</td>\n",
              "      <td>115604154799</td>\n",
              "      <td>서울특별시 영등포구 영중로14길</td>\n",
              "      <td>11</td>\n",
              "      <td>17.0</td>\n",
              "      <td>1156010600100410002034626</td>\n",
              "      <td>NaN</td>\n",
              "      <td>서울특별시 영등포구 영중로14길 11-17</td>\n",
              "      <td>150035</td>\n",
              "      <td>7250.0</td>\n",
              "      <td>NaN</td>\n",
              "      <td>1</td>\n",
              "      <td>NaN</td>\n",
              "      <td>126.907168</td>\n",
              "      <td>37.520613</td>\n",
              "    </tr>\n",
              "    <tr>\n",
              "      <th>1</th>\n",
              "      <td>24525909</td>\n",
              "      <td>민속악기사</td>\n",
              "      <td>NaN</td>\n",
              "      <td>D</td>\n",
              "      <td>소매</td>\n",
              "      <td>D04</td>\n",
              "      <td>취미/오락관련소매</td>\n",
              "      <td>D04A09</td>\n",
              "      <td>악기판매</td>\n",
              "      <td>G47593</td>\n",
              "      <td>악기 소매업</td>\n",
              "      <td>11</td>\n",
              "      <td>서울특별시</td>\n",
              "      <td>11200</td>\n",
              "      <td>성동구</td>\n",
              "      <td>1120079000</td>\n",
              "      <td>용답동</td>\n",
              "      <td>1120012200</td>\n",
              "      <td>용답동</td>\n",
              "      <td>1120012200101420011</td>\n",
              "      <td>1</td>\n",
              "      <td>대지</td>\n",
              "      <td>142</td>\n",
              "      <td>11.0</td>\n",
              "      <td>서울특별시 성동구 용답동 142-11</td>\n",
              "      <td>112004109480</td>\n",
              "      <td>서울특별시 성동구 용답5길</td>\n",
              "      <td>2</td>\n",
              "      <td>NaN</td>\n",
              "      <td>1120012200101420011000227</td>\n",
              "      <td>NaN</td>\n",
              "      <td>서울특별시 성동구 용답5길 2</td>\n",
              "      <td>133849</td>\n",
              "      <td>4803.0</td>\n",
              "      <td>NaN</td>\n",
              "      <td>NaN</td>\n",
              "      <td>NaN</td>\n",
              "      <td>127.049018</td>\n",
              "      <td>37.566857</td>\n",
              "    </tr>\n",
              "    <tr>\n",
              "      <th>2</th>\n",
              "      <td>24715368</td>\n",
              "      <td>태평양진주</td>\n",
              "      <td>NaN</td>\n",
              "      <td>D</td>\n",
              "      <td>소매</td>\n",
              "      <td>D26</td>\n",
              "      <td>시계/귀금속소매</td>\n",
              "      <td>D26A01</td>\n",
              "      <td>시계/귀금속</td>\n",
              "      <td>G47830</td>\n",
              "      <td>시계 및 귀금속 소매업</td>\n",
              "      <td>11</td>\n",
              "      <td>서울특별시</td>\n",
              "      <td>11110</td>\n",
              "      <td>종로구</td>\n",
              "      <td>1111061500</td>\n",
              "      <td>종로1.2.3.4가동</td>\n",
              "      <td>1111015200</td>\n",
              "      <td>봉익동</td>\n",
              "      <td>1111015200100430001</td>\n",
              "      <td>1</td>\n",
              "      <td>대지</td>\n",
              "      <td>43</td>\n",
              "      <td>1.0</td>\n",
              "      <td>서울특별시 종로구 봉익동 43-1</td>\n",
              "      <td>111104100163</td>\n",
              "      <td>서울특별시 종로구 서순라길</td>\n",
              "      <td>17</td>\n",
              "      <td>10.0</td>\n",
              "      <td>1111015200100440000000001</td>\n",
              "      <td>금사랑투빌딩</td>\n",
              "      <td>서울특별시 종로구 서순라길 17-10</td>\n",
              "      <td>110390</td>\n",
              "      <td>3138.0</td>\n",
              "      <td>NaN</td>\n",
              "      <td>NaN</td>\n",
              "      <td>NaN</td>\n",
              "      <td>126.993530</td>\n",
              "      <td>37.571848</td>\n",
              "    </tr>\n",
              "    <tr>\n",
              "      <th>3</th>\n",
              "      <td>15554136</td>\n",
              "      <td>김선희꼼꼼국어교습소</td>\n",
              "      <td>NaN</td>\n",
              "      <td>R</td>\n",
              "      <td>학문/교육</td>\n",
              "      <td>R01</td>\n",
              "      <td>학원-보습교습입시</td>\n",
              "      <td>R01A01</td>\n",
              "      <td>학원-입시</td>\n",
              "      <td>P85501</td>\n",
              "      <td>일반 교과 학원</td>\n",
              "      <td>11</td>\n",
              "      <td>서울특별시</td>\n",
              "      <td>11710</td>\n",
              "      <td>송파구</td>\n",
              "      <td>1171056100</td>\n",
              "      <td>방이1동</td>\n",
              "      <td>1171011100</td>\n",
              "      <td>방이동</td>\n",
              "      <td>1171011100101970003</td>\n",
              "      <td>1</td>\n",
              "      <td>대지</td>\n",
              "      <td>197</td>\n",
              "      <td>3.0</td>\n",
              "      <td>서울특별시 송파구 방이동 197-3</td>\n",
              "      <td>117104169448</td>\n",
              "      <td>서울특별시 송파구 위례성대로12길</td>\n",
              "      <td>31</td>\n",
              "      <td>NaN</td>\n",
              "      <td>1171011100101970003017195</td>\n",
              "      <td>NaN</td>\n",
              "      <td>서울특별시 송파구 위례성대로12길 31</td>\n",
              "      <td>138834</td>\n",
              "      <td>5640.0</td>\n",
              "      <td>NaN</td>\n",
              "      <td>2</td>\n",
              "      <td>NaN</td>\n",
              "      <td>127.121520</td>\n",
              "      <td>37.510967</td>\n",
              "    </tr>\n",
              "    <tr>\n",
              "      <th>4</th>\n",
              "      <td>17174175</td>\n",
              "      <td>비지트</td>\n",
              "      <td>NaN</td>\n",
              "      <td>Q</td>\n",
              "      <td>음식</td>\n",
              "      <td>Q01</td>\n",
              "      <td>한식</td>\n",
              "      <td>Q01A01</td>\n",
              "      <td>한식/백반/한정식</td>\n",
              "      <td>I56111</td>\n",
              "      <td>한식 음식점업</td>\n",
              "      <td>11</td>\n",
              "      <td>서울특별시</td>\n",
              "      <td>11650</td>\n",
              "      <td>서초구</td>\n",
              "      <td>1165062100</td>\n",
              "      <td>방배4동</td>\n",
              "      <td>1165010100</td>\n",
              "      <td>방배동</td>\n",
              "      <td>1165010100108540018</td>\n",
              "      <td>1</td>\n",
              "      <td>대지</td>\n",
              "      <td>854</td>\n",
              "      <td>18.0</td>\n",
              "      <td>서울특별시 서초구 방배동 854-18</td>\n",
              "      <td>116504163117</td>\n",
              "      <td>서울특별시 서초구 동광로18길</td>\n",
              "      <td>82</td>\n",
              "      <td>NaN</td>\n",
              "      <td>1165010100108540018009586</td>\n",
              "      <td>상랑의빌딩</td>\n",
              "      <td>서울특별시 서초구 동광로18길 82</td>\n",
              "      <td>137837</td>\n",
              "      <td>6572.0</td>\n",
              "      <td>NaN</td>\n",
              "      <td>1</td>\n",
              "      <td>NaN</td>\n",
              "      <td>126.991394</td>\n",
              "      <td>37.488375</td>\n",
              "    </tr>\n",
              "  </tbody>\n",
              "</table>\n",
              "</div>\n",
              "      <button class=\"colab-df-convert\" onclick=\"convertToInteractive('df-f582f913-19d2-41bc-8d53-a9162f65d2dc')\"\n",
              "              title=\"Convert this dataframe to an interactive table.\"\n",
              "              style=\"display:none;\">\n",
              "        \n",
              "  <svg xmlns=\"http://www.w3.org/2000/svg\" height=\"24px\"viewBox=\"0 0 24 24\"\n",
              "       width=\"24px\">\n",
              "    <path d=\"M0 0h24v24H0V0z\" fill=\"none\"/>\n",
              "    <path d=\"M18.56 5.44l.94 2.06.94-2.06 2.06-.94-2.06-.94-.94-2.06-.94 2.06-2.06.94zm-11 1L8.5 8.5l.94-2.06 2.06-.94-2.06-.94L8.5 2.5l-.94 2.06-2.06.94zm10 10l.94 2.06.94-2.06 2.06-.94-2.06-.94-.94-2.06-.94 2.06-2.06.94z\"/><path d=\"M17.41 7.96l-1.37-1.37c-.4-.4-.92-.59-1.43-.59-.52 0-1.04.2-1.43.59L10.3 9.45l-7.72 7.72c-.78.78-.78 2.05 0 2.83L4 21.41c.39.39.9.59 1.41.59.51 0 1.02-.2 1.41-.59l7.78-7.78 2.81-2.81c.8-.78.8-2.07 0-2.86zM5.41 20L4 18.59l7.72-7.72 1.47 1.35L5.41 20z\"/>\n",
              "  </svg>\n",
              "      </button>\n",
              "      \n",
              "  <style>\n",
              "    .colab-df-container {\n",
              "      display:flex;\n",
              "      flex-wrap:wrap;\n",
              "      gap: 12px;\n",
              "    }\n",
              "\n",
              "    .colab-df-convert {\n",
              "      background-color: #E8F0FE;\n",
              "      border: none;\n",
              "      border-radius: 50%;\n",
              "      cursor: pointer;\n",
              "      display: none;\n",
              "      fill: #1967D2;\n",
              "      height: 32px;\n",
              "      padding: 0 0 0 0;\n",
              "      width: 32px;\n",
              "    }\n",
              "\n",
              "    .colab-df-convert:hover {\n",
              "      background-color: #E2EBFA;\n",
              "      box-shadow: 0px 1px 2px rgba(60, 64, 67, 0.3), 0px 1px 3px 1px rgba(60, 64, 67, 0.15);\n",
              "      fill: #174EA6;\n",
              "    }\n",
              "\n",
              "    [theme=dark] .colab-df-convert {\n",
              "      background-color: #3B4455;\n",
              "      fill: #D2E3FC;\n",
              "    }\n",
              "\n",
              "    [theme=dark] .colab-df-convert:hover {\n",
              "      background-color: #434B5C;\n",
              "      box-shadow: 0px 1px 3px 1px rgba(0, 0, 0, 0.15);\n",
              "      filter: drop-shadow(0px 1px 2px rgba(0, 0, 0, 0.3));\n",
              "      fill: #FFFFFF;\n",
              "    }\n",
              "  </style>\n",
              "\n",
              "      <script>\n",
              "        const buttonEl =\n",
              "          document.querySelector('#df-f582f913-19d2-41bc-8d53-a9162f65d2dc button.colab-df-convert');\n",
              "        buttonEl.style.display =\n",
              "          google.colab.kernel.accessAllowed ? 'block' : 'none';\n",
              "\n",
              "        async function convertToInteractive(key) {\n",
              "          const element = document.querySelector('#df-f582f913-19d2-41bc-8d53-a9162f65d2dc');\n",
              "          const dataTable =\n",
              "            await google.colab.kernel.invokeFunction('convertToInteractive',\n",
              "                                                     [key], {});\n",
              "          if (!dataTable) return;\n",
              "\n",
              "          const docLinkHtml = 'Like what you see? Visit the ' +\n",
              "            '<a target=\"_blank\" href=https://colab.research.google.com/notebooks/data_table.ipynb>data table notebook</a>'\n",
              "            + ' to learn more about interactive tables.';\n",
              "          element.innerHTML = '';\n",
              "          dataTable['output_type'] = 'display_data';\n",
              "          await google.colab.output.renderOutput(dataTable, element);\n",
              "          const docLink = document.createElement('div');\n",
              "          docLink.innerHTML = docLinkHtml;\n",
              "          element.appendChild(docLink);\n",
              "        }\n",
              "      </script>\n",
              "    </div>\n",
              "  </div>\n",
              "  "
            ]
          },
          "metadata": {},
          "execution_count": 11
        }
      ]
    },
    {
      "cell_type": "code",
      "source": [
        "df.tail()"
      ],
      "metadata": {
        "colab": {
          "base_uri": "https://localhost:8080/",
          "height": 1000
        },
        "id": "xqSQTALX_nUR",
        "outputId": "99ea1d47-8db1-4712-9cd3-1f5d5e73ce21"
      },
      "execution_count": null,
      "outputs": [
        {
          "output_type": "execute_result",
          "data": {
            "text/plain": [
              "          상가업소번호          상호명  지점명 상권업종대분류코드  상권업종대분류명 상권업종중분류코드    상권업종중분류명  \\\n",
              "315289  17915026      사라헤어하우스  NaN         F     생활서비스       F01     이/미용/건강   \n",
              "315290  17917525   김현진153필라테스  NaN         N  관광/여가/오락       N05   요가/단전/마사지   \n",
              "315291  17913544  26도헤어마곡나루역점  NaN         F     생활서비스       F01     이/미용/건강   \n",
              "315292  17958597        명품케터링  NaN         Q        음식       Q13     음식배달서비스   \n",
              "315293  17938681      페어즈오브슈즈  NaN         D        소매       D06  가방/신발/액세서리   \n",
              "\n",
              "       상권업종소분류코드 상권업종소분류명 표준산업분류코드       표준산업분류명  시도코드    시도명  시군구코드  시군구명  \\\n",
              "315289    F01A01    여성미용실   S96112         두발미용업    11  서울특별시  11620   관악구   \n",
              "315290    N05A01    요가/단식   S96129  기타 미용관련 서비스업    11  서울특별시  11740   강동구   \n",
              "315291    F01A01    여성미용실   S96112         두발미용업    11  서울특별시  11500   강서구   \n",
              "315292    Q13A03   음식출장조달   I56131    출장 음식 서비스업    11  서울특별시  11305   강북구   \n",
              "315293    D06A01     신발소매   G47420        신발 소매업    11  서울특별시  11560  영등포구   \n",
              "\n",
              "             행정동코드  행정동명       법정동코드    법정동명                 지번코드  대지구분코드  \\\n",
              "315289  1162061500   중앙동  1162010100     봉천동  1162010100108610011       1   \n",
              "315290  1174062000  천호3동  1174010900     천호동  1174010900100510007       1   \n",
              "315291  1150060300  가양1동  1150010500     마곡동  1150010500107590001       1   \n",
              "315292  1130557500  삼각산동  1130510100     미아동  1130510100113570000       1   \n",
              "315293  1156053500  영등포동  1156010900  영등포동8가  1156010900100450005       1   \n",
              "\n",
              "       대지구분명  지번본번지  지번부번지                    지번주소         도로명코드  \\\n",
              "315289    대지    861   11.0    서울특별시 관악구 봉천동 861-11  116203120001   \n",
              "315290    대지     51    7.0      서울특별시 강동구 천호동 51-7  117402000006   \n",
              "315291    대지    759    1.0     서울특별시 강서구 마곡동 759-1  115003155047   \n",
              "315292    대지   1357    NaN      서울특별시 강북구 미아동 1357  113054124223   \n",
              "315293    대지     45    5.0  서울특별시 영등포구 영등포동8가 45-5  115603118024   \n",
              "\n",
              "                     도로명  건물본번지  건물부번지                     건물관리번호        건물명  \\\n",
              "315289     서울특별시 관악구 관악로    185    NaN  1162010100108610014026971        NaN   \n",
              "315290    서울특별시 강동구 양재대로   1517    NaN  1174010900100510007009699       남해빌딩   \n",
              "315291    서울특별시 강서구 마곡서로    152    NaN  1150010500107590001000001    두산더랜드타워   \n",
              "315292  서울특별시 강북구 삼양로19길    113    NaN  1130510100113570000035071  삼각산아이원아파트   \n",
              "315293    서울특별시 영등포구 영중로    116    NaN  1156010900100450005031978        NaN   \n",
              "\n",
              "                       도로명주소   구우편번호   신우편번호  동정보  층정보  호정보          경도  \\\n",
              "315289     서울특별시 관악구 관악로 185  151811  8758.0  NaN    3  NaN  126.952644   \n",
              "315290   서울특별시 강동구 양재대로 1517  134862  5316.0  NaN    1  NaN  127.140855   \n",
              "315291    서울특별시 강서구 마곡서로 152  157805  7788.0  306  NaN  NaN  126.825623   \n",
              "315292  서울특별시 강북구 삼양로19길 113  142718  1198.0  120  NaN  NaN  127.017829   \n",
              "315293    서울특별시 영등포구 영중로 116  150030  7229.0  NaN  NaN  NaN  126.905938   \n",
              "\n",
              "               위도  \n",
              "315289  37.481784  \n",
              "315290  37.541259  \n",
              "315291  37.567747  \n",
              "315292  37.617041  \n",
              "315293  37.526557  "
            ],
            "text/html": [
              "\n",
              "  <div id=\"df-402500a3-5362-4ca6-b3a4-cc549db26a08\">\n",
              "    <div class=\"colab-df-container\">\n",
              "      <div>\n",
              "<style scoped>\n",
              "    .dataframe tbody tr th:only-of-type {\n",
              "        vertical-align: middle;\n",
              "    }\n",
              "\n",
              "    .dataframe tbody tr th {\n",
              "        vertical-align: top;\n",
              "    }\n",
              "\n",
              "    .dataframe thead th {\n",
              "        text-align: right;\n",
              "    }\n",
              "</style>\n",
              "<table border=\"1\" class=\"dataframe\">\n",
              "  <thead>\n",
              "    <tr style=\"text-align: right;\">\n",
              "      <th></th>\n",
              "      <th>상가업소번호</th>\n",
              "      <th>상호명</th>\n",
              "      <th>지점명</th>\n",
              "      <th>상권업종대분류코드</th>\n",
              "      <th>상권업종대분류명</th>\n",
              "      <th>상권업종중분류코드</th>\n",
              "      <th>상권업종중분류명</th>\n",
              "      <th>상권업종소분류코드</th>\n",
              "      <th>상권업종소분류명</th>\n",
              "      <th>표준산업분류코드</th>\n",
              "      <th>표준산업분류명</th>\n",
              "      <th>시도코드</th>\n",
              "      <th>시도명</th>\n",
              "      <th>시군구코드</th>\n",
              "      <th>시군구명</th>\n",
              "      <th>행정동코드</th>\n",
              "      <th>행정동명</th>\n",
              "      <th>법정동코드</th>\n",
              "      <th>법정동명</th>\n",
              "      <th>지번코드</th>\n",
              "      <th>대지구분코드</th>\n",
              "      <th>대지구분명</th>\n",
              "      <th>지번본번지</th>\n",
              "      <th>지번부번지</th>\n",
              "      <th>지번주소</th>\n",
              "      <th>도로명코드</th>\n",
              "      <th>도로명</th>\n",
              "      <th>건물본번지</th>\n",
              "      <th>건물부번지</th>\n",
              "      <th>건물관리번호</th>\n",
              "      <th>건물명</th>\n",
              "      <th>도로명주소</th>\n",
              "      <th>구우편번호</th>\n",
              "      <th>신우편번호</th>\n",
              "      <th>동정보</th>\n",
              "      <th>층정보</th>\n",
              "      <th>호정보</th>\n",
              "      <th>경도</th>\n",
              "      <th>위도</th>\n",
              "    </tr>\n",
              "  </thead>\n",
              "  <tbody>\n",
              "    <tr>\n",
              "      <th>315289</th>\n",
              "      <td>17915026</td>\n",
              "      <td>사라헤어하우스</td>\n",
              "      <td>NaN</td>\n",
              "      <td>F</td>\n",
              "      <td>생활서비스</td>\n",
              "      <td>F01</td>\n",
              "      <td>이/미용/건강</td>\n",
              "      <td>F01A01</td>\n",
              "      <td>여성미용실</td>\n",
              "      <td>S96112</td>\n",
              "      <td>두발미용업</td>\n",
              "      <td>11</td>\n",
              "      <td>서울특별시</td>\n",
              "      <td>11620</td>\n",
              "      <td>관악구</td>\n",
              "      <td>1162061500</td>\n",
              "      <td>중앙동</td>\n",
              "      <td>1162010100</td>\n",
              "      <td>봉천동</td>\n",
              "      <td>1162010100108610011</td>\n",
              "      <td>1</td>\n",
              "      <td>대지</td>\n",
              "      <td>861</td>\n",
              "      <td>11.0</td>\n",
              "      <td>서울특별시 관악구 봉천동 861-11</td>\n",
              "      <td>116203120001</td>\n",
              "      <td>서울특별시 관악구 관악로</td>\n",
              "      <td>185</td>\n",
              "      <td>NaN</td>\n",
              "      <td>1162010100108610014026971</td>\n",
              "      <td>NaN</td>\n",
              "      <td>서울특별시 관악구 관악로 185</td>\n",
              "      <td>151811</td>\n",
              "      <td>8758.0</td>\n",
              "      <td>NaN</td>\n",
              "      <td>3</td>\n",
              "      <td>NaN</td>\n",
              "      <td>126.952644</td>\n",
              "      <td>37.481784</td>\n",
              "    </tr>\n",
              "    <tr>\n",
              "      <th>315290</th>\n",
              "      <td>17917525</td>\n",
              "      <td>김현진153필라테스</td>\n",
              "      <td>NaN</td>\n",
              "      <td>N</td>\n",
              "      <td>관광/여가/오락</td>\n",
              "      <td>N05</td>\n",
              "      <td>요가/단전/마사지</td>\n",
              "      <td>N05A01</td>\n",
              "      <td>요가/단식</td>\n",
              "      <td>S96129</td>\n",
              "      <td>기타 미용관련 서비스업</td>\n",
              "      <td>11</td>\n",
              "      <td>서울특별시</td>\n",
              "      <td>11740</td>\n",
              "      <td>강동구</td>\n",
              "      <td>1174062000</td>\n",
              "      <td>천호3동</td>\n",
              "      <td>1174010900</td>\n",
              "      <td>천호동</td>\n",
              "      <td>1174010900100510007</td>\n",
              "      <td>1</td>\n",
              "      <td>대지</td>\n",
              "      <td>51</td>\n",
              "      <td>7.0</td>\n",
              "      <td>서울특별시 강동구 천호동 51-7</td>\n",
              "      <td>117402000006</td>\n",
              "      <td>서울특별시 강동구 양재대로</td>\n",
              "      <td>1517</td>\n",
              "      <td>NaN</td>\n",
              "      <td>1174010900100510007009699</td>\n",
              "      <td>남해빌딩</td>\n",
              "      <td>서울특별시 강동구 양재대로 1517</td>\n",
              "      <td>134862</td>\n",
              "      <td>5316.0</td>\n",
              "      <td>NaN</td>\n",
              "      <td>1</td>\n",
              "      <td>NaN</td>\n",
              "      <td>127.140855</td>\n",
              "      <td>37.541259</td>\n",
              "    </tr>\n",
              "    <tr>\n",
              "      <th>315291</th>\n",
              "      <td>17913544</td>\n",
              "      <td>26도헤어마곡나루역점</td>\n",
              "      <td>NaN</td>\n",
              "      <td>F</td>\n",
              "      <td>생활서비스</td>\n",
              "      <td>F01</td>\n",
              "      <td>이/미용/건강</td>\n",
              "      <td>F01A01</td>\n",
              "      <td>여성미용실</td>\n",
              "      <td>S96112</td>\n",
              "      <td>두발미용업</td>\n",
              "      <td>11</td>\n",
              "      <td>서울특별시</td>\n",
              "      <td>11500</td>\n",
              "      <td>강서구</td>\n",
              "      <td>1150060300</td>\n",
              "      <td>가양1동</td>\n",
              "      <td>1150010500</td>\n",
              "      <td>마곡동</td>\n",
              "      <td>1150010500107590001</td>\n",
              "      <td>1</td>\n",
              "      <td>대지</td>\n",
              "      <td>759</td>\n",
              "      <td>1.0</td>\n",
              "      <td>서울특별시 강서구 마곡동 759-1</td>\n",
              "      <td>115003155047</td>\n",
              "      <td>서울특별시 강서구 마곡서로</td>\n",
              "      <td>152</td>\n",
              "      <td>NaN</td>\n",
              "      <td>1150010500107590001000001</td>\n",
              "      <td>두산더랜드타워</td>\n",
              "      <td>서울특별시 강서구 마곡서로 152</td>\n",
              "      <td>157805</td>\n",
              "      <td>7788.0</td>\n",
              "      <td>306</td>\n",
              "      <td>NaN</td>\n",
              "      <td>NaN</td>\n",
              "      <td>126.825623</td>\n",
              "      <td>37.567747</td>\n",
              "    </tr>\n",
              "    <tr>\n",
              "      <th>315292</th>\n",
              "      <td>17958597</td>\n",
              "      <td>명품케터링</td>\n",
              "      <td>NaN</td>\n",
              "      <td>Q</td>\n",
              "      <td>음식</td>\n",
              "      <td>Q13</td>\n",
              "      <td>음식배달서비스</td>\n",
              "      <td>Q13A03</td>\n",
              "      <td>음식출장조달</td>\n",
              "      <td>I56131</td>\n",
              "      <td>출장 음식 서비스업</td>\n",
              "      <td>11</td>\n",
              "      <td>서울특별시</td>\n",
              "      <td>11305</td>\n",
              "      <td>강북구</td>\n",
              "      <td>1130557500</td>\n",
              "      <td>삼각산동</td>\n",
              "      <td>1130510100</td>\n",
              "      <td>미아동</td>\n",
              "      <td>1130510100113570000</td>\n",
              "      <td>1</td>\n",
              "      <td>대지</td>\n",
              "      <td>1357</td>\n",
              "      <td>NaN</td>\n",
              "      <td>서울특별시 강북구 미아동 1357</td>\n",
              "      <td>113054124223</td>\n",
              "      <td>서울특별시 강북구 삼양로19길</td>\n",
              "      <td>113</td>\n",
              "      <td>NaN</td>\n",
              "      <td>1130510100113570000035071</td>\n",
              "      <td>삼각산아이원아파트</td>\n",
              "      <td>서울특별시 강북구 삼양로19길 113</td>\n",
              "      <td>142718</td>\n",
              "      <td>1198.0</td>\n",
              "      <td>120</td>\n",
              "      <td>NaN</td>\n",
              "      <td>NaN</td>\n",
              "      <td>127.017829</td>\n",
              "      <td>37.617041</td>\n",
              "    </tr>\n",
              "    <tr>\n",
              "      <th>315293</th>\n",
              "      <td>17938681</td>\n",
              "      <td>페어즈오브슈즈</td>\n",
              "      <td>NaN</td>\n",
              "      <td>D</td>\n",
              "      <td>소매</td>\n",
              "      <td>D06</td>\n",
              "      <td>가방/신발/액세서리</td>\n",
              "      <td>D06A01</td>\n",
              "      <td>신발소매</td>\n",
              "      <td>G47420</td>\n",
              "      <td>신발 소매업</td>\n",
              "      <td>11</td>\n",
              "      <td>서울특별시</td>\n",
              "      <td>11560</td>\n",
              "      <td>영등포구</td>\n",
              "      <td>1156053500</td>\n",
              "      <td>영등포동</td>\n",
              "      <td>1156010900</td>\n",
              "      <td>영등포동8가</td>\n",
              "      <td>1156010900100450005</td>\n",
              "      <td>1</td>\n",
              "      <td>대지</td>\n",
              "      <td>45</td>\n",
              "      <td>5.0</td>\n",
              "      <td>서울특별시 영등포구 영등포동8가 45-5</td>\n",
              "      <td>115603118024</td>\n",
              "      <td>서울특별시 영등포구 영중로</td>\n",
              "      <td>116</td>\n",
              "      <td>NaN</td>\n",
              "      <td>1156010900100450005031978</td>\n",
              "      <td>NaN</td>\n",
              "      <td>서울특별시 영등포구 영중로 116</td>\n",
              "      <td>150030</td>\n",
              "      <td>7229.0</td>\n",
              "      <td>NaN</td>\n",
              "      <td>NaN</td>\n",
              "      <td>NaN</td>\n",
              "      <td>126.905938</td>\n",
              "      <td>37.526557</td>\n",
              "    </tr>\n",
              "  </tbody>\n",
              "</table>\n",
              "</div>\n",
              "      <button class=\"colab-df-convert\" onclick=\"convertToInteractive('df-402500a3-5362-4ca6-b3a4-cc549db26a08')\"\n",
              "              title=\"Convert this dataframe to an interactive table.\"\n",
              "              style=\"display:none;\">\n",
              "        \n",
              "  <svg xmlns=\"http://www.w3.org/2000/svg\" height=\"24px\"viewBox=\"0 0 24 24\"\n",
              "       width=\"24px\">\n",
              "    <path d=\"M0 0h24v24H0V0z\" fill=\"none\"/>\n",
              "    <path d=\"M18.56 5.44l.94 2.06.94-2.06 2.06-.94-2.06-.94-.94-2.06-.94 2.06-2.06.94zm-11 1L8.5 8.5l.94-2.06 2.06-.94-2.06-.94L8.5 2.5l-.94 2.06-2.06.94zm10 10l.94 2.06.94-2.06 2.06-.94-2.06-.94-.94-2.06-.94 2.06-2.06.94z\"/><path d=\"M17.41 7.96l-1.37-1.37c-.4-.4-.92-.59-1.43-.59-.52 0-1.04.2-1.43.59L10.3 9.45l-7.72 7.72c-.78.78-.78 2.05 0 2.83L4 21.41c.39.39.9.59 1.41.59.51 0 1.02-.2 1.41-.59l7.78-7.78 2.81-2.81c.8-.78.8-2.07 0-2.86zM5.41 20L4 18.59l7.72-7.72 1.47 1.35L5.41 20z\"/>\n",
              "  </svg>\n",
              "      </button>\n",
              "      \n",
              "  <style>\n",
              "    .colab-df-container {\n",
              "      display:flex;\n",
              "      flex-wrap:wrap;\n",
              "      gap: 12px;\n",
              "    }\n",
              "\n",
              "    .colab-df-convert {\n",
              "      background-color: #E8F0FE;\n",
              "      border: none;\n",
              "      border-radius: 50%;\n",
              "      cursor: pointer;\n",
              "      display: none;\n",
              "      fill: #1967D2;\n",
              "      height: 32px;\n",
              "      padding: 0 0 0 0;\n",
              "      width: 32px;\n",
              "    }\n",
              "\n",
              "    .colab-df-convert:hover {\n",
              "      background-color: #E2EBFA;\n",
              "      box-shadow: 0px 1px 2px rgba(60, 64, 67, 0.3), 0px 1px 3px 1px rgba(60, 64, 67, 0.15);\n",
              "      fill: #174EA6;\n",
              "    }\n",
              "\n",
              "    [theme=dark] .colab-df-convert {\n",
              "      background-color: #3B4455;\n",
              "      fill: #D2E3FC;\n",
              "    }\n",
              "\n",
              "    [theme=dark] .colab-df-convert:hover {\n",
              "      background-color: #434B5C;\n",
              "      box-shadow: 0px 1px 3px 1px rgba(0, 0, 0, 0.15);\n",
              "      filter: drop-shadow(0px 1px 2px rgba(0, 0, 0, 0.3));\n",
              "      fill: #FFFFFF;\n",
              "    }\n",
              "  </style>\n",
              "\n",
              "      <script>\n",
              "        const buttonEl =\n",
              "          document.querySelector('#df-402500a3-5362-4ca6-b3a4-cc549db26a08 button.colab-df-convert');\n",
              "        buttonEl.style.display =\n",
              "          google.colab.kernel.accessAllowed ? 'block' : 'none';\n",
              "\n",
              "        async function convertToInteractive(key) {\n",
              "          const element = document.querySelector('#df-402500a3-5362-4ca6-b3a4-cc549db26a08');\n",
              "          const dataTable =\n",
              "            await google.colab.kernel.invokeFunction('convertToInteractive',\n",
              "                                                     [key], {});\n",
              "          if (!dataTable) return;\n",
              "\n",
              "          const docLinkHtml = 'Like what you see? Visit the ' +\n",
              "            '<a target=\"_blank\" href=https://colab.research.google.com/notebooks/data_table.ipynb>data table notebook</a>'\n",
              "            + ' to learn more about interactive tables.';\n",
              "          element.innerHTML = '';\n",
              "          dataTable['output_type'] = 'display_data';\n",
              "          await google.colab.output.renderOutput(dataTable, element);\n",
              "          const docLink = document.createElement('div');\n",
              "          docLink.innerHTML = docLinkHtml;\n",
              "          element.appendChild(docLink);\n",
              "        }\n",
              "      </script>\n",
              "    </div>\n",
              "  </div>\n",
              "  "
            ]
          },
          "metadata": {},
          "execution_count": 12
        }
      ]
    },
    {
      "cell_type": "code",
      "source": [
        "df.index  # 정보의 range 확인"
      ],
      "metadata": {
        "colab": {
          "base_uri": "https://localhost:8080/"
        },
        "id": "A7bK2lcB_4Ip",
        "outputId": "c9d3e93e-f3f0-46a5-9304-a01993ca5a6a"
      },
      "execution_count": null,
      "outputs": [
        {
          "output_type": "execute_result",
          "data": {
            "text/plain": [
              "RangeIndex(start=0, stop=315294, step=1)"
            ]
          },
          "metadata": {},
          "execution_count": 13
        }
      ]
    },
    {
      "cell_type": "code",
      "source": [
        "df.columns  # 컬럼의 이름 확인"
      ],
      "metadata": {
        "colab": {
          "base_uri": "https://localhost:8080/"
        },
        "id": "q-4Ys-NSACwZ",
        "outputId": "de83c82f-8221-4fa9-81a6-b2ebdba0a0c9"
      },
      "execution_count": null,
      "outputs": [
        {
          "output_type": "execute_result",
          "data": {
            "text/plain": [
              "Index(['상가업소번호', '상호명', '지점명', '상권업종대분류코드', '상권업종대분류명', '상권업종중분류코드',\n",
              "       '상권업종중분류명', '상권업종소분류코드', '상권업종소분류명', '표준산업분류코드', '표준산업분류명', '시도코드',\n",
              "       '시도명', '시군구코드', '시군구명', '행정동코드', '행정동명', '법정동코드', '법정동명', '지번코드',\n",
              "       '대지구분코드', '대지구분명', '지번본번지', '지번부번지', '지번주소', '도로명코드', '도로명', '건물본번지',\n",
              "       '건물부번지', '건물관리번호', '건물명', '도로명주소', '구우편번호', '신우편번호', '동정보', '층정보',\n",
              "       '호정보', '경도', '위도'],\n",
              "      dtype='object')"
            ]
          },
          "metadata": {},
          "execution_count": 14
        }
      ]
    },
    {
      "cell_type": "code",
      "source": [
        "df.info()  # 전체 정보 확인"
      ],
      "metadata": {
        "colab": {
          "base_uri": "https://localhost:8080/"
        },
        "id": "vHjfXIYoAh3i",
        "outputId": "755343fa-2da7-48e7-e538-7f8899b1a15a"
      },
      "execution_count": null,
      "outputs": [
        {
          "output_type": "stream",
          "name": "stdout",
          "text": [
            "<class 'pandas.core.frame.DataFrame'>\n",
            "RangeIndex: 315294 entries, 0 to 315293\n",
            "Data columns (total 39 columns):\n",
            " #   Column     Non-Null Count   Dtype  \n",
            "---  ------     --------------   -----  \n",
            " 0   상가업소번호     315294 non-null  int64  \n",
            " 1   상호명        315293 non-null  object \n",
            " 2   지점명        55561 non-null   object \n",
            " 3   상권업종대분류코드  315294 non-null  object \n",
            " 4   상권업종대분류명   315294 non-null  object \n",
            " 5   상권업종중분류코드  315294 non-null  object \n",
            " 6   상권업종중분류명   315294 non-null  object \n",
            " 7   상권업종소분류코드  315294 non-null  object \n",
            " 8   상권업종소분류명   315294 non-null  object \n",
            " 9   표준산업분류코드   296187 non-null  object \n",
            " 10  표준산업분류명    296187 non-null  object \n",
            " 11  시도코드       315294 non-null  int64  \n",
            " 12  시도명        315294 non-null  object \n",
            " 13  시군구코드      315294 non-null  int64  \n",
            " 14  시군구명       315294 non-null  object \n",
            " 15  행정동코드      315294 non-null  int64  \n",
            " 16  행정동명       315289 non-null  object \n",
            " 17  법정동코드      315294 non-null  int64  \n",
            " 18  법정동명       315294 non-null  object \n",
            " 19  지번코드       315294 non-null  int64  \n",
            " 20  대지구분코드     315294 non-null  int64  \n",
            " 21  대지구분명      315294 non-null  object \n",
            " 22  지번본번지      315294 non-null  int64  \n",
            " 23  지번부번지      250869 non-null  float64\n",
            " 24  지번주소       315294 non-null  object \n",
            " 25  도로명코드      315294 non-null  int64  \n",
            " 26  도로명        315294 non-null  object \n",
            " 27  건물본번지      315294 non-null  int64  \n",
            " 28  건물부번지      40831 non-null   float64\n",
            " 29  건물관리번호     315294 non-null  object \n",
            " 30  건물명        153358 non-null  object \n",
            " 31  도로명주소      315294 non-null  object \n",
            " 32  구우편번호      315294 non-null  int64  \n",
            " 33  신우편번호      315244 non-null  float64\n",
            " 34  동정보        30401 non-null   object \n",
            " 35  층정보        190592 non-null  object \n",
            " 36  호정보        0 non-null       float64\n",
            " 37  경도         315294 non-null  float64\n",
            " 38  위도         315294 non-null  float64\n",
            "dtypes: float64(6), int64(11), object(22)\n",
            "memory usage: 93.8+ MB\n"
          ]
        }
      ]
    },
    {
      "cell_type": "code",
      "source": [
        "df.dtypes  # 열 이름과 자료형만 출력"
      ],
      "metadata": {
        "colab": {
          "base_uri": "https://localhost:8080/"
        },
        "id": "EO7BfpMTAv5R",
        "outputId": "b80ca3d1-4ea8-43a2-ca20-d0dca69b124e"
      },
      "execution_count": null,
      "outputs": [
        {
          "output_type": "execute_result",
          "data": {
            "text/plain": [
              "상가업소번호         int64\n",
              "상호명           object\n",
              "지점명           object\n",
              "상권업종대분류코드     object\n",
              "상권업종대분류명      object\n",
              "상권업종중분류코드     object\n",
              "상권업종중분류명      object\n",
              "상권업종소분류코드     object\n",
              "상권업종소분류명      object\n",
              "표준산업분류코드      object\n",
              "표준산업분류명       object\n",
              "시도코드           int64\n",
              "시도명           object\n",
              "시군구코드          int64\n",
              "시군구명          object\n",
              "행정동코드          int64\n",
              "행정동명          object\n",
              "법정동코드          int64\n",
              "법정동명          object\n",
              "지번코드           int64\n",
              "대지구분코드         int64\n",
              "대지구분명         object\n",
              "지번본번지          int64\n",
              "지번부번지        float64\n",
              "지번주소          object\n",
              "도로명코드          int64\n",
              "도로명           object\n",
              "건물본번지          int64\n",
              "건물부번지        float64\n",
              "건물관리번호        object\n",
              "건물명           object\n",
              "도로명주소         object\n",
              "구우편번호          int64\n",
              "신우편번호        float64\n",
              "동정보           object\n",
              "층정보           object\n",
              "호정보          float64\n",
              "경도           float64\n",
              "위도           float64\n",
              "dtype: object"
            ]
          },
          "metadata": {},
          "execution_count": 16
        }
      ]
    },
    {
      "cell_type": "code",
      "source": [
        "n = df.isnull().sum()"
      ],
      "metadata": {
        "id": "oPHGkmltA84J"
      },
      "execution_count": null,
      "outputs": []
    },
    {
      "cell_type": "code",
      "source": [
        "n.plot.bar()"
      ],
      "metadata": {
        "colab": {
          "base_uri": "https://localhost:8080/",
          "height": 353
        },
        "id": "cIq12L_nBZYp",
        "outputId": "e449343e-4ecb-45ca-cedd-3d653e5554ea"
      },
      "execution_count": null,
      "outputs": [
        {
          "output_type": "execute_result",
          "data": {
            "text/plain": [
              "<matplotlib.axes._subplots.AxesSubplot at 0x7f5159cf0910>"
            ]
          },
          "metadata": {},
          "execution_count": 18
        },
        {
          "output_type": "display_data",
          "data": {
            "text/plain": [
              "<Figure size 432x288 with 1 Axes>"
            ],
            "image/png": "[encoded data removed]"
          },
          "metadata": {
            "needs_background": "light"
          }
        }
      ]
    },
    {
      "cell_type": "code",
      "source": [
        "n.sort_values().plot.barh(figsize=(7,9))  # 결측치가 많은 순서대로 정렬 / figsize 7 = 행 길이,8 열 간격(inch)"
      ],
      "metadata": {
        "colab": {
          "base_uri": "https://localhost:8080/",
          "height": 555
        },
        "id": "ISGXG9VEE2hx",
        "outputId": "7090243b-a888-49de-c5e1-370bb8757a7e"
      },
      "execution_count": null,
      "outputs": [
        {
          "output_type": "execute_result",
          "data": {
            "text/plain": [
              "<matplotlib.axes._subplots.AxesSubplot at 0x7f5159bc9910>"
            ]
          },
          "metadata": {},
          "execution_count": 19
        },
        {
          "output_type": "display_data",
          "data": {
            "text/plain": [
              "<Figure size 504x648 with 1 Axes>"
            ],
            "image/png": "[encoded data removed]"
          },
          "metadata": {
            "needs_background": "light"
          }
        }
      ]
    },
    {
      "cell_type": "code",
      "source": [
        "import missingno as msno  # 결측치 나타냄\n",
        "\n",
        "msno.matrix(df)"
      ],
      "metadata": {
        "colab": {
          "base_uri": "https://localhost:8080/",
          "height": 429
        },
        "id": "rCb9ZFjcFqHJ",
        "outputId": "7b8ef7d8-811b-499d-a30b-390296f3600d"
      },
      "execution_count": null,
      "outputs": [
        {
          "output_type": "execute_result",
          "data": {
            "text/plain": [
              "<matplotlib.axes._subplots.AxesSubplot at 0x7f5159a2e710>"
            ]
          },
          "metadata": {},
          "execution_count": 20
        },
        {
          "output_type": "display_data",
          "data": {
            "text/plain": [
              "<Figure size 1800x720 with 2 Axes>"
            ],
            "image/png": "[encoded data removed]"
          },
          "metadata": {
            "needs_background": "light"
          }
        }
      ]
    },
    {
      "cell_type": "code",
      "source": [
        "msno.heatmap(df)  # 히트맵으로 출력 / 비어있는 칸은 관련성 없음."
      ],
      "metadata": {
        "colab": {
          "base_uri": "https://localhost:8080/",
          "height": 712
        },
        "id": "d8vL7TL4F5QJ",
        "outputId": "62c9a870-0506-4fc8-8cd7-cf81b172a762"
      },
      "execution_count": null,
      "outputs": [
        {
          "output_type": "stream",
          "name": "stderr",
          "text": [
            "/usr/local/lib/python3.7/dist-packages/matplotlib/backends/backend_agg.py:214: RuntimeWarning: Glyph 8722 missing from current font.\n",
            "  font.set_text(s, 0.0, flags=flags)\n",
            "/usr/local/lib/python3.7/dist-packages/matplotlib/backends/backend_agg.py:183: RuntimeWarning: Glyph 8722 missing from current font.\n",
            "  font.set_text(s, 0, flags=flags)\n"
          ]
        },
        {
          "output_type": "execute_result",
          "data": {
            "text/plain": [
              "<matplotlib.axes._subplots.AxesSubplot at 0x7f51578fc8d0>"
            ]
          },
          "metadata": {},
          "execution_count": 21
        },
        {
          "output_type": "display_data",
          "data": {
            "text/plain": [
              "<Figure size 1440x864 with 2 Axes>"
            ],
            "image/png": "[encoded data removed]"
          },
          "metadata": {
            "needs_background": "light"
          }
        }
      ]
    },
    {
      "cell_type": "code",
      "source": [
        "msno.dendrogram(df) # 관련있는 것 끼리 연결"
      ],
      "metadata": {
        "colab": {
          "base_uri": "https://localhost:8080/",
          "height": 428
        },
        "id": "-zKJVdX0HHSx",
        "outputId": "0b9c3afd-c73f-4fd0-d124-0f27e2ff085b"
      },
      "execution_count": null,
      "outputs": [
        {
          "output_type": "execute_result",
          "data": {
            "text/plain": [
              "<matplotlib.axes._subplots.AxesSubplot at 0x7f515701f310>"
            ]
          },
          "metadata": {},
          "execution_count": 22
        },
        {
          "output_type": "display_data",
          "data": {
            "text/plain": [
              "<Figure size 1800x720 with 1 Axes>"
            ],
            "image/png": "[encoded data removed]"
          },
          "metadata": {
            "needs_background": "light"
          }
        }
      ]
    },
    {
      "cell_type": "code",
      "source": [
        "not_use = n.sort_values(ascending = False).head(9)  # ascending(오름차순) 뒤에 False가 붙어 내림차순이 됨\n",
        "not_use_col = not_use.index\n",
        "not_use_col"
      ],
      "metadata": {
        "colab": {
          "base_uri": "https://localhost:8080/"
        },
        "id": "uuvZpsNYHK9Z",
        "outputId": "60ffd1d5-ec15-418b-d04e-02c60099c319"
      },
      "execution_count": null,
      "outputs": [
        {
          "output_type": "execute_result",
          "data": {
            "text/plain": [
              "Index(['호정보', '동정보', '건물부번지', '지점명', '건물명', '층정보', '지번부번지', '표준산업분류코드',\n",
              "       '표준산업분류명'],\n",
              "      dtype='object')"
            ]
          },
          "metadata": {},
          "execution_count": 23
        }
      ]
    },
    {
      "cell_type": "code",
      "source": [
        "# 한 번 더 실행 시 이미 삭제되었기 때문에 오류발생\n",
        "print(df.shape)\n",
        "\n",
        "df = df.drop(not_use_col, axis = 1)  # 행 삭제 / axis 행인지 열인지 구분(1: 행, 0: 열)\n",
        "print(df.shape)"
      ],
      "metadata": {
        "colab": {
          "base_uri": "https://localhost:8080/"
        },
        "id": "cNxGbUcPH1WQ",
        "outputId": "644eb063-3765-4158-c002-9e6cace88c0d"
      },
      "execution_count": null,
      "outputs": [
        {
          "output_type": "stream",
          "name": "stdout",
          "text": [
            "(315294, 39)\n",
            "(315294, 30)\n"
          ]
        }
      ]
    },
    {
      "cell_type": "code",
      "source": [
        "df.info()"
      ],
      "metadata": {
        "colab": {
          "base_uri": "https://localhost:8080/"
        },
        "id": "OtM3R2AqKFE5",
        "outputId": "9e0977ef-efab-422a-bca8-8ed12d0b518f"
      },
      "execution_count": null,
      "outputs": [
        {
          "output_type": "stream",
          "name": "stdout",
          "text": [
            "<class 'pandas.core.frame.DataFrame'>\n",
            "RangeIndex: 315294 entries, 0 to 315293\n",
            "Data columns (total 30 columns):\n",
            " #   Column     Non-Null Count   Dtype  \n",
            "---  ------     --------------   -----  \n",
            " 0   상가업소번호     315294 non-null  int64  \n",
            " 1   상호명        315293 non-null  object \n",
            " 2   상권업종대분류코드  315294 non-null  object \n",
            " 3   상권업종대분류명   315294 non-null  object \n",
            " 4   상권업종중분류코드  315294 non-null  object \n",
            " 5   상권업종중분류명   315294 non-null  object \n",
            " 6   상권업종소분류코드  315294 non-null  object \n",
            " 7   상권업종소분류명   315294 non-null  object \n",
            " 8   시도코드       315294 non-null  int64  \n",
            " 9   시도명        315294 non-null  object \n",
            " 10  시군구코드      315294 non-null  int64  \n",
            " 11  시군구명       315294 non-null  object \n",
            " 12  행정동코드      315294 non-null  int64  \n",
            " 13  행정동명       315289 non-null  object \n",
            " 14  법정동코드      315294 non-null  int64  \n",
            " 15  법정동명       315294 non-null  object \n",
            " 16  지번코드       315294 non-null  int64  \n",
            " 17  대지구분코드     315294 non-null  int64  \n",
            " 18  대지구분명      315294 non-null  object \n",
            " 19  지번본번지      315294 non-null  int64  \n",
            " 20  지번주소       315294 non-null  object \n",
            " 21  도로명코드      315294 non-null  int64  \n",
            " 22  도로명        315294 non-null  object \n",
            " 23  건물본번지      315294 non-null  int64  \n",
            " 24  건물관리번호     315294 non-null  object \n",
            " 25  도로명주소      315294 non-null  object \n",
            " 26  구우편번호      315294 non-null  int64  \n",
            " 27  신우편번호      315244 non-null  float64\n",
            " 28  경도         315294 non-null  float64\n",
            " 29  위도         315294 non-null  float64\n",
            "dtypes: float64(3), int64(11), object(16)\n",
            "memory usage: 72.2+ MB\n"
          ]
        }
      ]
    },
    {
      "cell_type": "code",
      "source": [
        "cols = df.columns\n",
        "cols"
      ],
      "metadata": {
        "colab": {
          "base_uri": "https://localhost:8080/"
        },
        "id": "6mLfW9xSKSmZ",
        "outputId": "3bad58b6-8847-4238-ef3f-416ee36981d6"
      },
      "execution_count": null,
      "outputs": [
        {
          "output_type": "execute_result",
          "data": {
            "text/plain": [
              "Index(['상가업소번호', '상호명', '상권업종대분류코드', '상권업종대분류명', '상권업종중분류코드', '상권업종중분류명',\n",
              "       '상권업종소분류코드', '상권업종소분류명', '시도코드', '시도명', '시군구코드', '시군구명', '행정동코드',\n",
              "       '행정동명', '법정동코드', '법정동명', '지번코드', '대지구분코드', '대지구분명', '지번본번지', '지번주소',\n",
              "       '도로명코드', '도로명', '건물본번지', '건물관리번호', '도로명주소', '구우편번호', '신우편번호', '경도',\n",
              "       '위도'],\n",
              "      dtype='object')"
            ]
          },
          "metadata": {},
          "execution_count": 26
        }
      ]
    },
    {
      "cell_type": "code",
      "source": [
        "col_code = cols[cols.str.contains('코드|번호')]\n",
        "col_code"
      ],
      "metadata": {
        "colab": {
          "base_uri": "https://localhost:8080/"
        },
        "id": "upqy3SALLA6x",
        "outputId": "f96a8eba-dce1-4a66-aa19-35cf75850521"
      },
      "execution_count": null,
      "outputs": [
        {
          "output_type": "execute_result",
          "data": {
            "text/plain": [
              "Index(['상가업소번호', '상권업종대분류코드', '상권업종중분류코드', '상권업종소분류코드', '시도코드', '시군구코드',\n",
              "       '행정동코드', '법정동코드', '지번코드', '대지구분코드', '도로명코드', '건물관리번호', '구우편번호',\n",
              "       '신우편번호'],\n",
              "      dtype='object')"
            ]
          },
          "metadata": {},
          "execution_count": 28
        }
      ]
    },
    {
      "cell_type": "code",
      "source": [
        "print(df.shape)\n",
        "\n",
        "df = df.drop(col_code, axis = 1)\n",
        "print(df.shape)"
      ],
      "metadata": {
        "colab": {
          "base_uri": "https://localhost:8080/"
        },
        "id": "raF3lb-KLNDj",
        "outputId": "2dd22624-901c-4b95-a49c-256c22b3739c"
      },
      "execution_count": null,
      "outputs": [
        {
          "output_type": "stream",
          "name": "stdout",
          "text": [
            "(315294, 30)\n",
            "(315294, 16)\n"
          ]
        }
      ]
    },
    {
      "cell_type": "code",
      "source": [
        "df.info()"
      ],
      "metadata": {
        "colab": {
          "base_uri": "https://localhost:8080/"
        },
        "id": "65QbweaXLO4_",
        "outputId": "d9825ad5-e77c-4ed6-c898-004436c3b480"
      },
      "execution_count": null,
      "outputs": [
        {
          "output_type": "stream",
          "name": "stdout",
          "text": [
            "<class 'pandas.core.frame.DataFrame'>\n",
            "RangeIndex: 315294 entries, 0 to 315293\n",
            "Data columns (total 16 columns):\n",
            " #   Column    Non-Null Count   Dtype  \n",
            "---  ------    --------------   -----  \n",
            " 0   상호명       315293 non-null  object \n",
            " 1   상권업종대분류명  315294 non-null  object \n",
            " 2   상권업종중분류명  315294 non-null  object \n",
            " 3   상권업종소분류명  315294 non-null  object \n",
            " 4   시도명       315294 non-null  object \n",
            " 5   시군구명      315294 non-null  object \n",
            " 6   행정동명      315289 non-null  object \n",
            " 7   법정동명      315294 non-null  object \n",
            " 8   대지구분명     315294 non-null  object \n",
            " 9   지번본번지     315294 non-null  int64  \n",
            " 10  지번주소      315294 non-null  object \n",
            " 11  도로명       315294 non-null  object \n",
            " 12  건물본번지     315294 non-null  int64  \n",
            " 13  도로명주소     315294 non-null  object \n",
            " 14  경도        315294 non-null  float64\n",
            " 15  위도        315294 non-null  float64\n",
            "dtypes: float64(2), int64(2), object(12)\n",
            "memory usage: 38.5+ MB\n"
          ]
        }
      ]
    },
    {
      "cell_type": "code",
      "source": [
        "# 시리즈 형태\n",
        "df['상호명'].head()  # 상호명 5개 불러옴 "
      ],
      "metadata": {
        "colab": {
          "base_uri": "https://localhost:8080/"
        },
        "id": "Ek8lz8ZDLq94",
        "outputId": "e5d86882-731c-4f9b-cdf5-48b3ed550f66"
      },
      "execution_count": null,
      "outputs": [
        {
          "output_type": "execute_result",
          "data": {
            "text/plain": [
              "0         제중건강원\n",
              "1         민속악기사\n",
              "2         태평양진주\n",
              "3    김선희꼼꼼국어교습소\n",
              "4           비지트\n",
              "Name: 상호명, dtype: object"
            ]
          },
          "metadata": {},
          "execution_count": 36
        }
      ]
    },
    {
      "cell_type": "code",
      "source": [
        "df[['상호명']].head()  # 데이터 프레임 형태"
      ],
      "metadata": {
        "colab": {
          "base_uri": "https://localhost:8080/",
          "height": 206
        },
        "id": "VO8O3wQ9LxTK",
        "outputId": "62074a7b-fa2b-4574-c0bd-e1af10cc9c79"
      },
      "execution_count": null,
      "outputs": [
        {
          "output_type": "execute_result",
          "data": {
            "text/plain": [
              "          상호명\n",
              "0       제중건강원\n",
              "1       민속악기사\n",
              "2       태평양진주\n",
              "3  김선희꼼꼼국어교습소\n",
              "4         비지트"
            ],
            "text/html": [
              "\n",
              "  <div id=\"df-6a5e9234-bf7a-42c4-9a7c-0e61fcfecf83\">\n",
              "    <div class=\"colab-df-container\">\n",
              "      <div>\n",
              "<style scoped>\n",
              "    .dataframe tbody tr th:only-of-type {\n",
              "        vertical-align: middle;\n",
              "    }\n",
              "\n",
              "    .dataframe tbody tr th {\n",
              "        vertical-align: top;\n",
              "    }\n",
              "\n",
              "    .dataframe thead th {\n",
              "        text-align: right;\n",
              "    }\n",
              "</style>\n",
              "<table border=\"1\" class=\"dataframe\">\n",
              "  <thead>\n",
              "    <tr style=\"text-align: right;\">\n",
              "      <th></th>\n",
              "      <th>상호명</th>\n",
              "    </tr>\n",
              "  </thead>\n",
              "  <tbody>\n",
              "    <tr>\n",
              "      <th>0</th>\n",
              "      <td>제중건강원</td>\n",
              "    </tr>\n",
              "    <tr>\n",
              "      <th>1</th>\n",
              "      <td>민속악기사</td>\n",
              "    </tr>\n",
              "    <tr>\n",
              "      <th>2</th>\n",
              "      <td>태평양진주</td>\n",
              "    </tr>\n",
              "    <tr>\n",
              "      <th>3</th>\n",
              "      <td>김선희꼼꼼국어교습소</td>\n",
              "    </tr>\n",
              "    <tr>\n",
              "      <th>4</th>\n",
              "      <td>비지트</td>\n",
              "    </tr>\n",
              "  </tbody>\n",
              "</table>\n",
              "</div>\n",
              "      <button class=\"colab-df-convert\" onclick=\"convertToInteractive('df-6a5e9234-bf7a-42c4-9a7c-0e61fcfecf83')\"\n",
              "              title=\"Convert this dataframe to an interactive table.\"\n",
              "              style=\"display:none;\">\n",
              "        \n",
              "  <svg xmlns=\"http://www.w3.org/2000/svg\" height=\"24px\"viewBox=\"0 0 24 24\"\n",
              "       width=\"24px\">\n",
              "    <path d=\"M0 0h24v24H0V0z\" fill=\"none\"/>\n",
              "    <path d=\"M18.56 5.44l.94 2.06.94-2.06 2.06-.94-2.06-.94-.94-2.06-.94 2.06-2.06.94zm-11 1L8.5 8.5l.94-2.06 2.06-.94-2.06-.94L8.5 2.5l-.94 2.06-2.06.94zm10 10l.94 2.06.94-2.06 2.06-.94-2.06-.94-.94-2.06-.94 2.06-2.06.94z\"/><path d=\"M17.41 7.96l-1.37-1.37c-.4-.4-.92-.59-1.43-.59-.52 0-1.04.2-1.43.59L10.3 9.45l-7.72 7.72c-.78.78-.78 2.05 0 2.83L4 21.41c.39.39.9.59 1.41.59.51 0 1.02-.2 1.41-.59l7.78-7.78 2.81-2.81c.8-.78.8-2.07 0-2.86zM5.41 20L4 18.59l7.72-7.72 1.47 1.35L5.41 20z\"/>\n",
              "  </svg>\n",
              "      </button>\n",
              "      \n",
              "  <style>\n",
              "    .colab-df-container {\n",
              "      display:flex;\n",
              "      flex-wrap:wrap;\n",
              "      gap: 12px;\n",
              "    }\n",
              "\n",
              "    .colab-df-convert {\n",
              "      background-color: #E8F0FE;\n",
              "      border: none;\n",
              "      border-radius: 50%;\n",
              "      cursor: pointer;\n",
              "      display: none;\n",
              "      fill: #1967D2;\n",
              "      height: 32px;\n",
              "      padding: 0 0 0 0;\n",
              "      width: 32px;\n",
              "    }\n",
              "\n",
              "    .colab-df-convert:hover {\n",
              "      background-color: #E2EBFA;\n",
              "      box-shadow: 0px 1px 2px rgba(60, 64, 67, 0.3), 0px 1px 3px 1px rgba(60, 64, 67, 0.15);\n",
              "      fill: #174EA6;\n",
              "    }\n",
              "\n",
              "    [theme=dark] .colab-df-convert {\n",
              "      background-color: #3B4455;\n",
              "      fill: #D2E3FC;\n",
              "    }\n",
              "\n",
              "    [theme=dark] .colab-df-convert:hover {\n",
              "      background-color: #434B5C;\n",
              "      box-shadow: 0px 1px 3px 1px rgba(0, 0, 0, 0.15);\n",
              "      filter: drop-shadow(0px 1px 2px rgba(0, 0, 0, 0.3));\n",
              "      fill: #FFFFFF;\n",
              "    }\n",
              "  </style>\n",
              "\n",
              "      <script>\n",
              "        const buttonEl =\n",
              "          document.querySelector('#df-6a5e9234-bf7a-42c4-9a7c-0e61fcfecf83 button.colab-df-convert');\n",
              "        buttonEl.style.display =\n",
              "          google.colab.kernel.accessAllowed ? 'block' : 'none';\n",
              "\n",
              "        async function convertToInteractive(key) {\n",
              "          const element = document.querySelector('#df-6a5e9234-bf7a-42c4-9a7c-0e61fcfecf83');\n",
              "          const dataTable =\n",
              "            await google.colab.kernel.invokeFunction('convertToInteractive',\n",
              "                                                     [key], {});\n",
              "          if (!dataTable) return;\n",
              "\n",
              "          const docLinkHtml = 'Like what you see? Visit the ' +\n",
              "            '<a target=\"_blank\" href=https://colab.research.google.com/notebooks/data_table.ipynb>data table notebook</a>'\n",
              "            + ' to learn more about interactive tables.';\n",
              "          element.innerHTML = '';\n",
              "          dataTable['output_type'] = 'display_data';\n",
              "          await google.colab.output.renderOutput(dataTable, element);\n",
              "          const docLink = document.createElement('div');\n",
              "          docLink.innerHTML = docLinkHtml;\n",
              "          element.appendChild(docLink);\n",
              "        }\n",
              "      </script>\n",
              "    </div>\n",
              "  </div>\n",
              "  "
            ]
          },
          "metadata": {},
          "execution_count": 37
        }
      ]
    },
    {
      "cell_type": "code",
      "source": [
        "# df['상호명', '도로명주소']  # 열 두 개 이상일 시 시리즈 형태로는 출력 불가능\n",
        "\n",
        "df[['상호명', '도로명주소']]  # 열 두 개 이상일 시 데이터 프레임 형식으로만  출력 가능 '[]' 한번 더 감싸줌"
      ],
      "metadata": {
        "colab": {
          "base_uri": "https://localhost:8080/",
          "height": 424
        },
        "id": "wnKpTyQCMHt5",
        "outputId": "d57cad7e-f93e-4e26-a61c-18ec34e8f2cf"
      },
      "execution_count": null,
      "outputs": [
        {
          "output_type": "execute_result",
          "data": {
            "text/plain": [
              "                상호명                    도로명주소\n",
              "0             제중건강원  서울특별시 영등포구 영중로14길 11-17\n",
              "1             민속악기사         서울특별시 성동구 용답5길 2\n",
              "2             태평양진주     서울특별시 종로구 서순라길 17-10\n",
              "3        김선희꼼꼼국어교습소    서울특별시 송파구 위례성대로12길 31\n",
              "4               비지트      서울특별시 서초구 동광로18길 82\n",
              "...             ...                      ...\n",
              "315289      사라헤어하우스        서울특별시 관악구 관악로 185\n",
              "315290   김현진153필라테스      서울특별시 강동구 양재대로 1517\n",
              "315291  26도헤어마곡나루역점       서울특별시 강서구 마곡서로 152\n",
              "315292        명품케터링     서울특별시 강북구 삼양로19길 113\n",
              "315293      페어즈오브슈즈       서울특별시 영등포구 영중로 116\n",
              "\n",
              "[315294 rows x 2 columns]"
            ],
            "text/html": [
              "\n",
              "  <div id=\"df-1648b126-03b6-4486-9dd6-9b230bbee05f\">\n",
              "    <div class=\"colab-df-container\">\n",
              "      <div>\n",
              "<style scoped>\n",
              "    .dataframe tbody tr th:only-of-type {\n",
              "        vertical-align: middle;\n",
              "    }\n",
              "\n",
              "    .dataframe tbody tr th {\n",
              "        vertical-align: top;\n",
              "    }\n",
              "\n",
              "    .dataframe thead th {\n",
              "        text-align: right;\n",
              "    }\n",
              "</style>\n",
              "<table border=\"1\" class=\"dataframe\">\n",
              "  <thead>\n",
              "    <tr style=\"text-align: right;\">\n",
              "      <th></th>\n",
              "      <th>상호명</th>\n",
              "      <th>도로명주소</th>\n",
              "    </tr>\n",
              "  </thead>\n",
              "  <tbody>\n",
              "    <tr>\n",
              "      <th>0</th>\n",
              "      <td>제중건강원</td>\n",
              "      <td>서울특별시 영등포구 영중로14길 11-17</td>\n",
              "    </tr>\n",
              "    <tr>\n",
              "      <th>1</th>\n",
              "      <td>민속악기사</td>\n",
              "      <td>서울특별시 성동구 용답5길 2</td>\n",
              "    </tr>\n",
              "    <tr>\n",
              "      <th>2</th>\n",
              "      <td>태평양진주</td>\n",
              "      <td>서울특별시 종로구 서순라길 17-10</td>\n",
              "    </tr>\n",
              "    <tr>\n",
              "      <th>3</th>\n",
              "      <td>김선희꼼꼼국어교습소</td>\n",
              "      <td>서울특별시 송파구 위례성대로12길 31</td>\n",
              "    </tr>\n",
              "    <tr>\n",
              "      <th>4</th>\n",
              "      <td>비지트</td>\n",
              "      <td>서울특별시 서초구 동광로18길 82</td>\n",
              "    </tr>\n",
              "    <tr>\n",
              "      <th>...</th>\n",
              "      <td>...</td>\n",
              "      <td>...</td>\n",
              "    </tr>\n",
              "    <tr>\n",
              "      <th>315289</th>\n",
              "      <td>사라헤어하우스</td>\n",
              "      <td>서울특별시 관악구 관악로 185</td>\n",
              "    </tr>\n",
              "    <tr>\n",
              "      <th>315290</th>\n",
              "      <td>김현진153필라테스</td>\n",
              "      <td>서울특별시 강동구 양재대로 1517</td>\n",
              "    </tr>\n",
              "    <tr>\n",
              "      <th>315291</th>\n",
              "      <td>26도헤어마곡나루역점</td>\n",
              "      <td>서울특별시 강서구 마곡서로 152</td>\n",
              "    </tr>\n",
              "    <tr>\n",
              "      <th>315292</th>\n",
              "      <td>명품케터링</td>\n",
              "      <td>서울특별시 강북구 삼양로19길 113</td>\n",
              "    </tr>\n",
              "    <tr>\n",
              "      <th>315293</th>\n",
              "      <td>페어즈오브슈즈</td>\n",
              "      <td>서울특별시 영등포구 영중로 116</td>\n",
              "    </tr>\n",
              "  </tbody>\n",
              "</table>\n",
              "<p>315294 rows × 2 columns</p>\n",
              "</div>\n",
              "      <button class=\"colab-df-convert\" onclick=\"convertToInteractive('df-1648b126-03b6-4486-9dd6-9b230bbee05f')\"\n",
              "              title=\"Convert this dataframe to an interactive table.\"\n",
              "              style=\"display:none;\">\n",
              "        \n",
              "  <svg xmlns=\"http://www.w3.org/2000/svg\" height=\"24px\"viewBox=\"0 0 24 24\"\n",
              "       width=\"24px\">\n",
              "    <path d=\"M0 0h24v24H0V0z\" fill=\"none\"/>\n",
              "    <path d=\"M18.56 5.44l.94 2.06.94-2.06 2.06-.94-2.06-.94-.94-2.06-.94 2.06-2.06.94zm-11 1L8.5 8.5l.94-2.06 2.06-.94-2.06-.94L8.5 2.5l-.94 2.06-2.06.94zm10 10l.94 2.06.94-2.06 2.06-.94-2.06-.94-.94-2.06-.94 2.06-2.06.94z\"/><path d=\"M17.41 7.96l-1.37-1.37c-.4-.4-.92-.59-1.43-.59-.52 0-1.04.2-1.43.59L10.3 9.45l-7.72 7.72c-.78.78-.78 2.05 0 2.83L4 21.41c.39.39.9.59 1.41.59.51 0 1.02-.2 1.41-.59l7.78-7.78 2.81-2.81c.8-.78.8-2.07 0-2.86zM5.41 20L4 18.59l7.72-7.72 1.47 1.35L5.41 20z\"/>\n",
              "  </svg>\n",
              "      </button>\n",
              "      \n",
              "  <style>\n",
              "    .colab-df-container {\n",
              "      display:flex;\n",
              "      flex-wrap:wrap;\n",
              "      gap: 12px;\n",
              "    }\n",
              "\n",
              "    .colab-df-convert {\n",
              "      background-color: #E8F0FE;\n",
              "      border: none;\n",
              "      border-radius: 50%;\n",
              "      cursor: pointer;\n",
              "      display: none;\n",
              "      fill: #1967D2;\n",
              "      height: 32px;\n",
              "      padding: 0 0 0 0;\n",
              "      width: 32px;\n",
              "    }\n",
              "\n",
              "    .colab-df-convert:hover {\n",
              "      background-color: #E2EBFA;\n",
              "      box-shadow: 0px 1px 2px rgba(60, 64, 67, 0.3), 0px 1px 3px 1px rgba(60, 64, 67, 0.15);\n",
              "      fill: #174EA6;\n",
              "    }\n",
              "\n",
              "    [theme=dark] .colab-df-convert {\n",
              "      background-color: #3B4455;\n",
              "      fill: #D2E3FC;\n",
              "    }\n",
              "\n",
              "    [theme=dark] .colab-df-convert:hover {\n",
              "      background-color: #434B5C;\n",
              "      box-shadow: 0px 1px 3px 1px rgba(0, 0, 0, 0.15);\n",
              "      filter: drop-shadow(0px 1px 2px rgba(0, 0, 0, 0.3));\n",
              "      fill: #FFFFFF;\n",
              "    }\n",
              "  </style>\n",
              "\n",
              "      <script>\n",
              "        const buttonEl =\n",
              "          document.querySelector('#df-1648b126-03b6-4486-9dd6-9b230bbee05f button.colab-df-convert');\n",
              "        buttonEl.style.display =\n",
              "          google.colab.kernel.accessAllowed ? 'block' : 'none';\n",
              "\n",
              "        async function convertToInteractive(key) {\n",
              "          const element = document.querySelector('#df-1648b126-03b6-4486-9dd6-9b230bbee05f');\n",
              "          const dataTable =\n",
              "            await google.colab.kernel.invokeFunction('convertToInteractive',\n",
              "                                                     [key], {});\n",
              "          if (!dataTable) return;\n",
              "\n",
              "          const docLinkHtml = 'Like what you see? Visit the ' +\n",
              "            '<a target=\"_blank\" href=https://colab.research.google.com/notebooks/data_table.ipynb>data table notebook</a>'\n",
              "            + ' to learn more about interactive tables.';\n",
              "          element.innerHTML = '';\n",
              "          dataTable['output_type'] = 'display_data';\n",
              "          await google.colab.output.renderOutput(dataTable, element);\n",
              "          const docLink = document.createElement('div');\n",
              "          docLink.innerHTML = docLinkHtml;\n",
              "          element.appendChild(docLink);\n",
              "        }\n",
              "      </script>\n",
              "    </div>\n",
              "  </div>\n",
              "  "
            ]
          },
          "metadata": {},
          "execution_count": 38
        }
      ]
    },
    {
      "cell_type": "code",
      "source": [
        "df.loc[0]  # 시리즈 형태"
      ],
      "metadata": {
        "colab": {
          "base_uri": "https://localhost:8080/"
        },
        "id": "IRLWnevaMs_Q",
        "outputId": "5dbc44b1-3867-42b0-c211-e29559756408"
      },
      "execution_count": null,
      "outputs": [
        {
          "output_type": "execute_result",
          "data": {
            "text/plain": [
              "상호명                           제중건강원\n",
              "상권업종대분류명                         소매\n",
              "상권업종중분류명                    건강/미용식품\n",
              "상권업종소분류명                        건강원\n",
              "시도명                           서울특별시\n",
              "시군구명                           영등포구\n",
              "행정동명                           영등포동\n",
              "법정동명                         영등포동5가\n",
              "대지구분명                            대지\n",
              "지번본번지                            41\n",
              "지번주소         서울특별시 영등포구 영등포동5가 41-1\n",
              "도로명               서울특별시 영등포구 영중로14길\n",
              "건물본번지                            11\n",
              "도로명주소       서울특별시 영등포구 영중로14길 11-17\n",
              "경도                       126.907168\n",
              "위도                        37.520613\n",
              "Name: 0, dtype: object"
            ]
          },
          "metadata": {},
          "execution_count": 41
        }
      ]
    },
    {
      "cell_type": "code",
      "source": [
        "df.loc[[0]] # 데이터 프레임 형태"
      ],
      "metadata": {
        "colab": {
          "base_uri": "https://localhost:8080/",
          "height": 264
        },
        "id": "5MRJG1kBNUy5",
        "outputId": "08aa1757-28fc-40c1-94a8-4ad677070e9d"
      },
      "execution_count": null,
      "outputs": [
        {
          "output_type": "execute_result",
          "data": {
            "text/plain": [
              "     상호명 상권업종대분류명 상권업종중분류명 상권업종소분류명    시도명  시군구명  행정동명    법정동명 대지구분명  지번본번지  \\\n",
              "0  제중건강원       소매  건강/미용식품      건강원  서울특별시  영등포구  영등포동  영등포동5가    대지     41   \n",
              "\n",
              "                     지번주소                도로명  건물본번지                    도로명주소  \\\n",
              "0  서울특별시 영등포구 영등포동5가 41-1  서울특별시 영등포구 영중로14길     11  서울특별시 영등포구 영중로14길 11-17   \n",
              "\n",
              "           경도         위도  \n",
              "0  126.907168  37.520613  "
            ],
            "text/html": [
              "\n",
              "  <div id=\"df-83a7f02a-496e-4d95-b49f-7eb67e15b251\">\n",
              "    <div class=\"colab-df-container\">\n",
              "      <div>\n",
              "<style scoped>\n",
              "    .dataframe tbody tr th:only-of-type {\n",
              "        vertical-align: middle;\n",
              "    }\n",
              "\n",
              "    .dataframe tbody tr th {\n",
              "        vertical-align: top;\n",
              "    }\n",
              "\n",
              "    .dataframe thead th {\n",
              "        text-align: right;\n",
              "    }\n",
              "</style>\n",
              "<table border=\"1\" class=\"dataframe\">\n",
              "  <thead>\n",
              "    <tr style=\"text-align: right;\">\n",
              "      <th></th>\n",
              "      <th>상호명</th>\n",
              "      <th>상권업종대분류명</th>\n",
              "      <th>상권업종중분류명</th>\n",
              "      <th>상권업종소분류명</th>\n",
              "      <th>시도명</th>\n",
              "      <th>시군구명</th>\n",
              "      <th>행정동명</th>\n",
              "      <th>법정동명</th>\n",
              "      <th>대지구분명</th>\n",
              "      <th>지번본번지</th>\n",
              "      <th>지번주소</th>\n",
              "      <th>도로명</th>\n",
              "      <th>건물본번지</th>\n",
              "      <th>도로명주소</th>\n",
              "      <th>경도</th>\n",
              "      <th>위도</th>\n",
              "    </tr>\n",
              "  </thead>\n",
              "  <tbody>\n",
              "    <tr>\n",
              "      <th>0</th>\n",
              "      <td>제중건강원</td>\n",
              "      <td>소매</td>\n",
              "      <td>건강/미용식품</td>\n",
              "      <td>건강원</td>\n",
              "      <td>서울특별시</td>\n",
              "      <td>영등포구</td>\n",
              "      <td>영등포동</td>\n",
              "      <td>영등포동5가</td>\n",
              "      <td>대지</td>\n",
              "      <td>41</td>\n",
              "      <td>서울특별시 영등포구 영등포동5가 41-1</td>\n",
              "      <td>서울특별시 영등포구 영중로14길</td>\n",
              "      <td>11</td>\n",
              "      <td>서울특별시 영등포구 영중로14길 11-17</td>\n",
              "      <td>126.907168</td>\n",
              "      <td>37.520613</td>\n",
              "    </tr>\n",
              "  </tbody>\n",
              "</table>\n",
              "</div>\n",
              "      <button class=\"colab-df-convert\" onclick=\"convertToInteractive('df-83a7f02a-496e-4d95-b49f-7eb67e15b251')\"\n",
              "              title=\"Convert this dataframe to an interactive table.\"\n",
              "              style=\"display:none;\">\n",
              "        \n",
              "  <svg xmlns=\"http://www.w3.org/2000/svg\" height=\"24px\"viewBox=\"0 0 24 24\"\n",
              "       width=\"24px\">\n",
              "    <path d=\"M0 0h24v24H0V0z\" fill=\"none\"/>\n",
              "    <path d=\"M18.56 5.44l.94 2.06.94-2.06 2.06-.94-2.06-.94-.94-2.06-.94 2.06-2.06.94zm-11 1L8.5 8.5l.94-2.06 2.06-.94-2.06-.94L8.5 2.5l-.94 2.06-2.06.94zm10 10l.94 2.06.94-2.06 2.06-.94-2.06-.94-.94-2.06-.94 2.06-2.06.94z\"/><path d=\"M17.41 7.96l-1.37-1.37c-.4-.4-.92-.59-1.43-.59-.52 0-1.04.2-1.43.59L10.3 9.45l-7.72 7.72c-.78.78-.78 2.05 0 2.83L4 21.41c.39.39.9.59 1.41.59.51 0 1.02-.2 1.41-.59l7.78-7.78 2.81-2.81c.8-.78.8-2.07 0-2.86zM5.41 20L4 18.59l7.72-7.72 1.47 1.35L5.41 20z\"/>\n",
              "  </svg>\n",
              "      </button>\n",
              "      \n",
              "  <style>\n",
              "    .colab-df-container {\n",
              "      display:flex;\n",
              "      flex-wrap:wrap;\n",
              "      gap: 12px;\n",
              "    }\n",
              "\n",
              "    .colab-df-convert {\n",
              "      background-color: #E8F0FE;\n",
              "      border: none;\n",
              "      border-radius: 50%;\n",
              "      cursor: pointer;\n",
              "      display: none;\n",
              "      fill: #1967D2;\n",
              "      height: 32px;\n",
              "      padding: 0 0 0 0;\n",
              "      width: 32px;\n",
              "    }\n",
              "\n",
              "    .colab-df-convert:hover {\n",
              "      background-color: #E2EBFA;\n",
              "      box-shadow: 0px 1px 2px rgba(60, 64, 67, 0.3), 0px 1px 3px 1px rgba(60, 64, 67, 0.15);\n",
              "      fill: #174EA6;\n",
              "    }\n",
              "\n",
              "    [theme=dark] .colab-df-convert {\n",
              "      background-color: #3B4455;\n",
              "      fill: #D2E3FC;\n",
              "    }\n",
              "\n",
              "    [theme=dark] .colab-df-convert:hover {\n",
              "      background-color: #434B5C;\n",
              "      box-shadow: 0px 1px 3px 1px rgba(0, 0, 0, 0.15);\n",
              "      filter: drop-shadow(0px 1px 2px rgba(0, 0, 0, 0.3));\n",
              "      fill: #FFFFFF;\n",
              "    }\n",
              "  </style>\n",
              "\n",
              "      <script>\n",
              "        const buttonEl =\n",
              "          document.querySelector('#df-83a7f02a-496e-4d95-b49f-7eb67e15b251 button.colab-df-convert');\n",
              "        buttonEl.style.display =\n",
              "          google.colab.kernel.accessAllowed ? 'block' : 'none';\n",
              "\n",
              "        async function convertToInteractive(key) {\n",
              "          const element = document.querySelector('#df-83a7f02a-496e-4d95-b49f-7eb67e15b251');\n",
              "          const dataTable =\n",
              "            await google.colab.kernel.invokeFunction('convertToInteractive',\n",
              "                                                     [key], {});\n",
              "          if (!dataTable) return;\n",
              "\n",
              "          const docLinkHtml = 'Like what you see? Visit the ' +\n",
              "            '<a target=\"_blank\" href=https://colab.research.google.com/notebooks/data_table.ipynb>data table notebook</a>'\n",
              "            + ' to learn more about interactive tables.';\n",
              "          element.innerHTML = '';\n",
              "          dataTable['output_type'] = 'display_data';\n",
              "          await google.colab.output.renderOutput(dataTable, element);\n",
              "          const docLink = document.createElement('div');\n",
              "          docLink.innerHTML = docLinkHtml;\n",
              "          element.appendChild(docLink);\n",
              "        }\n",
              "      </script>\n",
              "    </div>\n",
              "  </div>\n",
              "  "
            ]
          },
          "metadata": {},
          "execution_count": 43
        }
      ]
    },
    {
      "cell_type": "code",
      "source": [
        "df.loc[[0,1,2]]"
      ],
      "metadata": {
        "colab": {
          "base_uri": "https://localhost:8080/",
          "height": 483
        },
        "id": "xSgBRwqjNa7J",
        "outputId": "8073c75a-6e1b-444b-c701-c6af34d9acd6"
      },
      "execution_count": null,
      "outputs": [
        {
          "output_type": "execute_result",
          "data": {
            "text/plain": [
              "     상호명 상권업종대분류명   상권업종중분류명 상권업종소분류명    시도명  시군구명         행정동명    법정동명 대지구분명  \\\n",
              "0  제중건강원       소매    건강/미용식품      건강원  서울특별시  영등포구         영등포동  영등포동5가    대지   \n",
              "1  민속악기사       소매  취미/오락관련소매     악기판매  서울특별시   성동구          용답동     용답동    대지   \n",
              "2  태평양진주       소매   시계/귀금속소매   시계/귀금속  서울특별시   종로구  종로1.2.3.4가동     봉익동    대지   \n",
              "\n",
              "   지번본번지                    지번주소                도로명  건물본번지  \\\n",
              "0     41  서울특별시 영등포구 영등포동5가 41-1  서울특별시 영등포구 영중로14길     11   \n",
              "1    142    서울특별시 성동구 용답동 142-11     서울특별시 성동구 용답5길      2   \n",
              "2     43      서울특별시 종로구 봉익동 43-1     서울특별시 종로구 서순라길     17   \n",
              "\n",
              "                     도로명주소          경도         위도  \n",
              "0  서울특별시 영등포구 영중로14길 11-17  126.907168  37.520613  \n",
              "1         서울특별시 성동구 용답5길 2  127.049018  37.566857  \n",
              "2     서울특별시 종로구 서순라길 17-10  126.993530  37.571848  "
            ],
            "text/html": [
              "\n",
              "  <div id=\"df-fb4f105a-d7a9-4c0c-9cae-1c3fba7ded92\">\n",
              "    <div class=\"colab-df-container\">\n",
              "      <div>\n",
              "<style scoped>\n",
              "    .dataframe tbody tr th:only-of-type {\n",
              "        vertical-align: middle;\n",
              "    }\n",
              "\n",
              "    .dataframe tbody tr th {\n",
              "        vertical-align: top;\n",
              "    }\n",
              "\n",
              "    .dataframe thead th {\n",
              "        text-align: right;\n",
              "    }\n",
              "</style>\n",
              "<table border=\"1\" class=\"dataframe\">\n",
              "  <thead>\n",
              "    <tr style=\"text-align: right;\">\n",
              "      <th></th>\n",
              "      <th>상호명</th>\n",
              "      <th>상권업종대분류명</th>\n",
              "      <th>상권업종중분류명</th>\n",
              "      <th>상권업종소분류명</th>\n",
              "      <th>시도명</th>\n",
              "      <th>시군구명</th>\n",
              "      <th>행정동명</th>\n",
              "      <th>법정동명</th>\n",
              "      <th>대지구분명</th>\n",
              "      <th>지번본번지</th>\n",
              "      <th>지번주소</th>\n",
              "      <th>도로명</th>\n",
              "      <th>건물본번지</th>\n",
              "      <th>도로명주소</th>\n",
              "      <th>경도</th>\n",
              "      <th>위도</th>\n",
              "    </tr>\n",
              "  </thead>\n",
              "  <tbody>\n",
              "    <tr>\n",
              "      <th>0</th>\n",
              "      <td>제중건강원</td>\n",
              "      <td>소매</td>\n",
              "      <td>건강/미용식품</td>\n",
              "      <td>건강원</td>\n",
              "      <td>서울특별시</td>\n",
              "      <td>영등포구</td>\n",
              "      <td>영등포동</td>\n",
              "      <td>영등포동5가</td>\n",
              "      <td>대지</td>\n",
              "      <td>41</td>\n",
              "      <td>서울특별시 영등포구 영등포동5가 41-1</td>\n",
              "      <td>서울특별시 영등포구 영중로14길</td>\n",
              "      <td>11</td>\n",
              "      <td>서울특별시 영등포구 영중로14길 11-17</td>\n",
              "      <td>126.907168</td>\n",
              "      <td>37.520613</td>\n",
              "    </tr>\n",
              "    <tr>\n",
              "      <th>1</th>\n",
              "      <td>민속악기사</td>\n",
              "      <td>소매</td>\n",
              "      <td>취미/오락관련소매</td>\n",
              "      <td>악기판매</td>\n",
              "      <td>서울특별시</td>\n",
              "      <td>성동구</td>\n",
              "      <td>용답동</td>\n",
              "      <td>용답동</td>\n",
              "      <td>대지</td>\n",
              "      <td>142</td>\n",
              "      <td>서울특별시 성동구 용답동 142-11</td>\n",
              "      <td>서울특별시 성동구 용답5길</td>\n",
              "      <td>2</td>\n",
              "      <td>서울특별시 성동구 용답5길 2</td>\n",
              "      <td>127.049018</td>\n",
              "      <td>37.566857</td>\n",
              "    </tr>\n",
              "    <tr>\n",
              "      <th>2</th>\n",
              "      <td>태평양진주</td>\n",
              "      <td>소매</td>\n",
              "      <td>시계/귀금속소매</td>\n",
              "      <td>시계/귀금속</td>\n",
              "      <td>서울특별시</td>\n",
              "      <td>종로구</td>\n",
              "      <td>종로1.2.3.4가동</td>\n",
              "      <td>봉익동</td>\n",
              "      <td>대지</td>\n",
              "      <td>43</td>\n",
              "      <td>서울특별시 종로구 봉익동 43-1</td>\n",
              "      <td>서울특별시 종로구 서순라길</td>\n",
              "      <td>17</td>\n",
              "      <td>서울특별시 종로구 서순라길 17-10</td>\n",
              "      <td>126.993530</td>\n",
              "      <td>37.571848</td>\n",
              "    </tr>\n",
              "  </tbody>\n",
              "</table>\n",
              "</div>\n",
              "      <button class=\"colab-df-convert\" onclick=\"convertToInteractive('df-fb4f105a-d7a9-4c0c-9cae-1c3fba7ded92')\"\n",
              "              title=\"Convert this dataframe to an interactive table.\"\n",
              "              style=\"display:none;\">\n",
              "        \n",
              "  <svg xmlns=\"http://www.w3.org/2000/svg\" height=\"24px\"viewBox=\"0 0 24 24\"\n",
              "       width=\"24px\">\n",
              "    <path d=\"M0 0h24v24H0V0z\" fill=\"none\"/>\n",
              "    <path d=\"M18.56 5.44l.94 2.06.94-2.06 2.06-.94-2.06-.94-.94-2.06-.94 2.06-2.06.94zm-11 1L8.5 8.5l.94-2.06 2.06-.94-2.06-.94L8.5 2.5l-.94 2.06-2.06.94zm10 10l.94 2.06.94-2.06 2.06-.94-2.06-.94-.94-2.06-.94 2.06-2.06.94z\"/><path d=\"M17.41 7.96l-1.37-1.37c-.4-.4-.92-.59-1.43-.59-.52 0-1.04.2-1.43.59L10.3 9.45l-7.72 7.72c-.78.78-.78 2.05 0 2.83L4 21.41c.39.39.9.59 1.41.59.51 0 1.02-.2 1.41-.59l7.78-7.78 2.81-2.81c.8-.78.8-2.07 0-2.86zM5.41 20L4 18.59l7.72-7.72 1.47 1.35L5.41 20z\"/>\n",
              "  </svg>\n",
              "      </button>\n",
              "      \n",
              "  <style>\n",
              "    .colab-df-container {\n",
              "      display:flex;\n",
              "      flex-wrap:wrap;\n",
              "      gap: 12px;\n",
              "    }\n",
              "\n",
              "    .colab-df-convert {\n",
              "      background-color: #E8F0FE;\n",
              "      border: none;\n",
              "      border-radius: 50%;\n",
              "      cursor: pointer;\n",
              "      display: none;\n",
              "      fill: #1967D2;\n",
              "      height: 32px;\n",
              "      padding: 0 0 0 0;\n",
              "      width: 32px;\n",
              "    }\n",
              "\n",
              "    .colab-df-convert:hover {\n",
              "      background-color: #E2EBFA;\n",
              "      box-shadow: 0px 1px 2px rgba(60, 64, 67, 0.3), 0px 1px 3px 1px rgba(60, 64, 67, 0.15);\n",
              "      fill: #174EA6;\n",
              "    }\n",
              "\n",
              "    [theme=dark] .colab-df-convert {\n",
              "      background-color: #3B4455;\n",
              "      fill: #D2E3FC;\n",
              "    }\n",
              "\n",
              "    [theme=dark] .colab-df-convert:hover {\n",
              "      background-color: #434B5C;\n",
              "      box-shadow: 0px 1px 3px 1px rgba(0, 0, 0, 0.15);\n",
              "      filter: drop-shadow(0px 1px 2px rgba(0, 0, 0, 0.3));\n",
              "      fill: #FFFFFF;\n",
              "    }\n",
              "  </style>\n",
              "\n",
              "      <script>\n",
              "        const buttonEl =\n",
              "          document.querySelector('#df-fb4f105a-d7a9-4c0c-9cae-1c3fba7ded92 button.colab-df-convert');\n",
              "        buttonEl.style.display =\n",
              "          google.colab.kernel.accessAllowed ? 'block' : 'none';\n",
              "\n",
              "        async function convertToInteractive(key) {\n",
              "          const element = document.querySelector('#df-fb4f105a-d7a9-4c0c-9cae-1c3fba7ded92');\n",
              "          const dataTable =\n",
              "            await google.colab.kernel.invokeFunction('convertToInteractive',\n",
              "                                                     [key], {});\n",
              "          if (!dataTable) return;\n",
              "\n",
              "          const docLinkHtml = 'Like what you see? Visit the ' +\n",
              "            '<a target=\"_blank\" href=https://colab.research.google.com/notebooks/data_table.ipynb>data table notebook</a>'\n",
              "            + ' to learn more about interactive tables.';\n",
              "          element.innerHTML = '';\n",
              "          dataTable['output_type'] = 'display_data';\n",
              "          await google.colab.output.renderOutput(dataTable, element);\n",
              "          const docLink = document.createElement('div');\n",
              "          docLink.innerHTML = docLinkHtml;\n",
              "          element.appendChild(docLink);\n",
              "        }\n",
              "      </script>\n",
              "    </div>\n",
              "  </div>\n",
              "  "
            ]
          },
          "metadata": {},
          "execution_count": 45
        }
      ]
    },
    {
      "cell_type": "code",
      "source": [
        "df.loc[0]['상호명']  # 두 번에 나눠서 호출\n",
        "\n",
        "df.loc[0,'상호명']  # 한 번에 호출하는 것이 더 빠름"
      ],
      "metadata": {
        "colab": {
          "base_uri": "https://localhost:8080/",
          "height": 35
        },
        "id": "ZziHWYXKNnO4",
        "outputId": "66eb6502-d6f2-4bb9-9d0a-1218e035d099"
      },
      "execution_count": null,
      "outputs": [
        {
          "output_type": "execute_result",
          "data": {
            "text/plain": [
              "'제중건강원'"
            ],
            "application/vnd.google.colaboratory.intrinsic+json": {
              "type": "string"
            }
          },
          "metadata": {},
          "execution_count": 52
        }
      ]
    }
  ]
}