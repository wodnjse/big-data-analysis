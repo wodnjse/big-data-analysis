{
  "nbformat": 4,
  "nbformat_minor": 0,
  "metadata": {
    "colab": {
      "name": "coffeebeankorea.ipynb",
      "provenance": [],
      "collapsed_sections": [],
      "mount_file_id": "1iEklmLE7AyEdtJBgFaPfemoxxLIaszTb",
      "authorship_tag": "ABX9TyOs8sZc0wtgb5lMo5Iu2YiI",
      "include_colab_link": true
    },
    "kernelspec": {
      "name": "python3",
      "display_name": "Python 3"
    },
    "language_info": {
      "name": "python"
    }
  },
  "cells": [
    {
      "cell_type": "markdown",
      "metadata": {
        "id": "view-in-github",
        "colab_type": "text"
      },
      "source": [
        "<a href=\"https://colab.research.google.com/github/wodnjse/big-data-analysis/blob/main/Web-Crawling/coffeebeankorea.ipynb\" target=\"_parent\"><img src=\"https://colab.research.google.com/assets/colab-badge.svg\" alt=\"Open In Colab\"/></a>"
      ]
    },
    {
      "cell_type": "code",
      "execution_count": 23,
      "metadata": {
        "id": "NqiJJUSNCyvj",
        "colab": {
          "base_uri": "https://localhost:8080/"
        },
        "outputId": "845ff5bb-6830-4954-d27a-32e440fd2758"
      },
      "outputs": [
        {
          "output_type": "stream",
          "name": "stdout",
          "text": [
            "Looking in indexes: https://pypi.org/simple, https://us-python.pkg.dev/colab-wheels/public/simple/\n",
            "Requirement already satisfied: selenium in /usr/local/lib/python3.7/dist-packages (4.2.0)\n",
            "Requirement already satisfied: trio~=0.17 in /usr/local/lib/python3.7/dist-packages (from selenium) (0.21.0)\n",
            "Requirement already satisfied: trio-websocket~=0.9 in /usr/local/lib/python3.7/dist-packages (from selenium) (0.9.2)\n",
            "Requirement already satisfied: urllib3[secure,socks]~=1.26 in /usr/local/lib/python3.7/dist-packages (from selenium) (1.26.9)\n",
            "Requirement already satisfied: idna in /usr/local/lib/python3.7/dist-packages (from trio~=0.17->selenium) (2.10)\n",
            "Requirement already satisfied: sniffio in /usr/local/lib/python3.7/dist-packages (from trio~=0.17->selenium) (1.2.0)\n",
            "Requirement already satisfied: async-generator>=1.9 in /usr/local/lib/python3.7/dist-packages (from trio~=0.17->selenium) (1.10)\n",
            "Requirement already satisfied: attrs>=19.2.0 in /usr/local/lib/python3.7/dist-packages (from trio~=0.17->selenium) (21.4.0)\n",
            "Requirement already satisfied: outcome in /usr/local/lib/python3.7/dist-packages (from trio~=0.17->selenium) (1.2.0)\n",
            "Requirement already satisfied: sortedcontainers in /usr/local/lib/python3.7/dist-packages (from trio~=0.17->selenium) (2.4.0)\n",
            "Requirement already satisfied: wsproto>=0.14 in /usr/local/lib/python3.7/dist-packages (from trio-websocket~=0.9->selenium) (1.1.0)\n",
            "Requirement already satisfied: cryptography>=1.3.4 in /usr/local/lib/python3.7/dist-packages (from urllib3[secure,socks]~=1.26->selenium) (37.0.2)\n",
            "Requirement already satisfied: certifi in /usr/local/lib/python3.7/dist-packages (from urllib3[secure,socks]~=1.26->selenium) (2022.6.15)\n",
            "Requirement already satisfied: pyOpenSSL>=0.14 in /usr/local/lib/python3.7/dist-packages (from urllib3[secure,socks]~=1.26->selenium) (22.0.0)\n",
            "Requirement already satisfied: PySocks!=1.5.7,<2.0,>=1.5.6 in /usr/local/lib/python3.7/dist-packages (from urllib3[secure,socks]~=1.26->selenium) (1.7.1)\n",
            "Requirement already satisfied: cffi>=1.12 in /usr/local/lib/python3.7/dist-packages (from cryptography>=1.3.4->urllib3[secure,socks]~=1.26->selenium) (1.15.0)\n",
            "Requirement already satisfied: pycparser in /usr/local/lib/python3.7/dist-packages (from cffi>=1.12->cryptography>=1.3.4->urllib3[secure,socks]~=1.26->selenium) (2.21)\n",
            "Requirement already satisfied: h11<1,>=0.9.0 in /usr/local/lib/python3.7/dist-packages (from wsproto>=0.14->trio-websocket~=0.9->selenium) (0.13.0)\n",
            "Requirement already satisfied: typing-extensions in /usr/local/lib/python3.7/dist-packages (from h11<1,>=0.9.0->wsproto>=0.14->trio-websocket~=0.9->selenium) (4.1.1)\n"
          ]
        }
      ],
      "source": [
        "!pip install selenium"
      ]
    },
    {
      "cell_type": "code",
      "source": [
        "!apt-get update\n",
        "!apt install chromium-chromedriver"
      ],
      "metadata": {
        "id": "c96s0N13DpEN",
        "colab": {
          "base_uri": "https://localhost:8080/"
        },
        "outputId": "b9747a6b-dfd4-4381-bbd5-ad8b63e230df"
      },
      "execution_count": 24,
      "outputs": [
        {
          "output_type": "stream",
          "name": "stdout",
          "text": [
            "\r0% [Working]\r            \rHit:1 https://developer.download.nvidia.com/compute/cuda/repos/ubuntu1804/x86_64  InRelease\n",
            "\r0% [Connecting to archive.ubuntu.com] [Connecting to security.ubuntu.com] [Wait\r                                                                               \rHit:2 https://cloud.r-project.org/bin/linux/ubuntu bionic-cran40/ InRelease\n",
            "\r0% [Connecting to archive.ubuntu.com] [Connecting to security.ubuntu.com] [Conn\r0% [1 InRelease gpgv 1,581 B] [Connecting to archive.ubuntu.com] [Connecting to\r                                                                               \rIgn:3 https://developer.download.nvidia.com/compute/machine-learning/repos/ubuntu1804/x86_64  InRelease\n",
            "Hit:4 https://developer.download.nvidia.com/compute/machine-learning/repos/ubuntu1804/x86_64  Release\n",
            "Hit:5 http://security.ubuntu.com/ubuntu bionic-security InRelease\n",
            "Hit:6 http://ppa.launchpad.net/c2d4u.team/c2d4u4.0+/ubuntu bionic InRelease\n",
            "Hit:7 http://archive.ubuntu.com/ubuntu bionic InRelease\n",
            "Hit:8 http://archive.ubuntu.com/ubuntu bionic-updates InRelease\n",
            "Hit:9 http://ppa.launchpad.net/cran/libgit2/ubuntu bionic InRelease\n",
            "Hit:10 http://archive.ubuntu.com/ubuntu bionic-backports InRelease\n",
            "Hit:12 http://ppa.launchpad.net/deadsnakes/ppa/ubuntu bionic InRelease\n",
            "Hit:13 http://ppa.launchpad.net/graphics-drivers/ppa/ubuntu bionic InRelease\n",
            "Reading package lists... Done\n",
            "Reading package lists... Done\n",
            "Building dependency tree       \n",
            "Reading state information... Done\n",
            "chromium-chromedriver is already the newest version (101.0.4951.64-0ubuntu0.18.04.1).\n",
            "The following package was automatically installed and is no longer required:\n",
            "  libnvidia-common-460\n",
            "Use 'apt autoremove' to remove it.\n",
            "0 upgraded, 0 newly installed, 0 to remove and 53 not upgraded.\n"
          ]
        }
      ]
    },
    {
      "cell_type": "code",
      "source": [
        "!cp /usr/lib/chromium-browser/chromedriver /usr/bin"
      ],
      "metadata": {
        "colab": {
          "base_uri": "https://localhost:8080/"
        },
        "id": "KAYhLkHPIJ3O",
        "outputId": "2379c3da-cbc8-4614-b2a2-b2a8b50e32bc"
      },
      "execution_count": 25,
      "outputs": [
        {
          "output_type": "stream",
          "name": "stdout",
          "text": [
            "cp: '/usr/lib/chromium-browser/chromedriver' and '/usr/bin/chromedriver' are the same file\n"
          ]
        }
      ]
    },
    {
      "cell_type": "code",
      "source": [
        "from selenium import webdriver\n",
        "from bs4 import BeautifulSoup as bs\n",
        "from urllib.request import urlopen\n",
        "from urllib.parse import quote_plus\n",
        "from selenium.webdriver.common.keys import Keys\n",
        "import time"
      ],
      "metadata": {
        "id": "tZnyCy3lIWrd"
      },
      "execution_count": 26,
      "outputs": []
    },
    {
      "cell_type": "code",
      "source": [
        "# 코랩이기 때문에 해주는 코드\n",
        "options = webdriver.ChromeOptions()\n",
        "options.add_argument('--headless')  # Head-less 설정\n",
        "options.add_argument('--no-sandbox')\n",
        "options.add_argument('--disable-dev-shm-usage')\n",
        "driver = webdriver.Chrome('chromedriver', options=options)"
      ],
      "metadata": {
        "id": "85QvRCUJJNKd"
      },
      "execution_count": 27,
      "outputs": []
    },
    {
      "cell_type": "code",
      "source": [
        "# 커피빈 매장 페이지 열기\n",
        "\n",
        "url = 'https://www.coffeebeankorea.com/store/store.asp'\n",
        "driver.get(url)"
      ],
      "metadata": {
        "id": "gt3hsd0CJ8Lt"
      },
      "execution_count": 28,
      "outputs": []
    },
    {
      "cell_type": "code",
      "source": [
        "# 매장 정보 페이지를 열기 위해 자바스크립트 함수인 storePop2를 호출\n",
        "driver.execute_script('storePop2(1)')"
      ],
      "metadata": {
        "id": "PDkcC7AzKEpN"
      },
      "execution_count": 29,
      "outputs": []
    },
    {
      "cell_type": "code",
      "source": [
        "# page_source\n",
        "html = driver.page_source"
      ],
      "metadata": {
        "id": "dHAQy3qUKfxM"
      },
      "execution_count": 30,
      "outputs": []
    },
    {
      "cell_type": "code",
      "source": [
        "soupCB1 = bs(html, 'html.parser')"
      ],
      "metadata": {
        "id": "_j7oyXgeK4ft"
      },
      "execution_count": 31,
      "outputs": []
    },
    {
      "cell_type": "code",
      "source": [
        "print(soupCB1.prettify())"
      ],
      "metadata": {
        "id": "0U_rJ7iiLGbs"
      },
      "execution_count": null,
      "outputs": []
    },
    {
      "cell_type": "code",
      "source": [
        "# 지점 이름 가져오기\n",
        "store_name_h2 = soupCB1.select('div.store_txt > h2')\n",
        "store_name_h2"
      ],
      "metadata": {
        "colab": {
          "base_uri": "https://localhost:8080/"
        },
        "id": "OgXsXFBQOBe0",
        "outputId": "0ffcde65-3d85-4e2f-ba71-6b31412d4734"
      },
      "execution_count": 33,
      "outputs": [
        {
          "output_type": "execute_result",
          "data": {
            "text/plain": [
              "[<h2>학동역 DT점</h2>]"
            ]
          },
          "metadata": {},
          "execution_count": 33
        }
      ]
    },
    {
      "cell_type": "code",
      "source": [
        "store_name = store_name_h2[0].string\n",
        "store_name"
      ],
      "metadata": {
        "colab": {
          "base_uri": "https://localhost:8080/",
          "height": 35
        },
        "id": "m3WNAmD4Op4h",
        "outputId": "5d50cba3-46fa-4d8e-c6d2-3b4590d211d5"
      },
      "execution_count": 34,
      "outputs": [
        {
          "output_type": "execute_result",
          "data": {
            "text/plain": [
              "'학동역 DT점'"
            ],
            "application/vnd.google.colaboratory.intrinsic+json": {
              "type": "string"
            }
          },
          "metadata": {},
          "execution_count": 34
        }
      ]
    },
    {
      "cell_type": "code",
      "source": [
        "# 매장정보\n",
        "store_info = soupCB1.select('div.store_txt > table.store_table > tbody > tr > td')\n",
        "store_info"
      ],
      "metadata": {
        "colab": {
          "base_uri": "https://localhost:8080/"
        },
        "id": "c1qxywOsPLH9",
        "outputId": "3316ca7f-a08e-4a10-8e72-f2336c43ba45"
      },
      "execution_count": 36,
      "outputs": [
        {
          "output_type": "execute_result",
          "data": {
            "text/plain": [
              "[<td>평일 06:30~22:00ㅣ주말/공휴일 07:30~22:00</td>,\n",
              " <td>DT(드라이브 스루) 매장입니다. (주차는 불가)</td>,\n",
              " <td>서울시 강남구 학동로 211 1층  <!--span class=\"lot\">(서울시 강남구 학동로 211 1층)</span--></td>,\n",
              " <td>02-3444-9973</td>]"
            ]
          },
          "metadata": {},
          "execution_count": 36
        }
      ]
    },
    {
      "cell_type": "code",
      "source": [
        "# 주소 가져오기\n",
        "store_address_info = list(store_info[2])\n",
        "store_address_info"
      ],
      "metadata": {
        "colab": {
          "base_uri": "https://localhost:8080/"
        },
        "id": "whQ00p4fQOGN",
        "outputId": "b67a583a-6c76-4b6c-9aa5-fae5d2e1ccc4"
      },
      "execution_count": 44,
      "outputs": [
        {
          "output_type": "execute_result",
          "data": {
            "text/plain": [
              "['서울시 강남구 학동로 211 1층  ', 'span class=\"lot\">(서울시 강남구 학동로 211 1층)</span']"
            ]
          },
          "metadata": {},
          "execution_count": 44
        }
      ]
    },
    {
      "cell_type": "code",
      "source": [
        "store_address  = store_address_info[0]\n",
        "store_address"
      ],
      "metadata": {
        "colab": {
          "base_uri": "https://localhost:8080/",
          "height": 35
        },
        "id": "KrqOy1voQWaM",
        "outputId": "fa15b16d-73c4-4be2-bd2d-574209646a64"
      },
      "execution_count": 45,
      "outputs": [
        {
          "output_type": "execute_result",
          "data": {
            "text/plain": [
              "'서울시 강남구 학동로 211 1층  '"
            ],
            "application/vnd.google.colaboratory.intrinsic+json": {
              "type": "string"
            }
          },
          "metadata": {},
          "execution_count": 45
        }
      ]
    },
    {
      "cell_type": "code",
      "source": [
        "# 전화번호 가져오기\n",
        "store_number = store_info[3].string\n",
        "store_number"
      ],
      "metadata": {
        "colab": {
          "base_uri": "https://localhost:8080/",
          "height": 35
        },
        "id": "_XyIJToeQco9",
        "outputId": "8a783d5e-7813-4ce7-fb0f-c677e5dc40d9"
      },
      "execution_count": 46,
      "outputs": [
        {
          "output_type": "execute_result",
          "data": {
            "text/plain": [
              "'02-3444-9973'"
            ],
            "application/vnd.google.colaboratory.intrinsic+json": {
              "type": "string"
            }
          },
          "metadata": {},
          "execution_count": 46
        }
      ]
    },
    {
      "cell_type": "code",
      "source": [
        "# 전체 매장 정보 크롤링 하기\n",
        "# 매장 한 개에 대한 크롤링 작업을 매장의 갯수만큼 반복처리하면서 result 리스트에 저장한다.\n",
        "# 완성된 result 리스트를 csv 파일에 저장하는 코드를 작성"
      ],
      "metadata": {
        "id": "L6RglBhHPlE8"
      },
      "execution_count": 47,
      "outputs": []
    },
    {
      "cell_type": "code",
      "source": [
        "import pandas as pd\n",
        "import datetime"
      ],
      "metadata": {
        "id": "icVndKXlPu0l"
      },
      "execution_count": 42,
      "outputs": []
    },
    {
      "cell_type": "code",
      "source": [
        "def Bean_shop(result):\n",
        "  url = 'https://www.coffeebeankorea.com/store/store.asp'\n",
        "\n",
        "  options = webdriver.ChromeOptions()\n",
        "  options.add_argument('--headless')  # Head-less 설정\n",
        "  options.add_argument('--no-sandbox')\n",
        "  options.add_argument('--disable-dev-shm-usage')\n",
        "  driver = webdriver.Chrome('chromedriver', options=options)\n",
        "\n",
        "  for i in range(1, 400):\n",
        "    driver.get(url)\n",
        "    time.sleep(1)  # 웹 페이지에 연결할 동안 1초 대기\n",
        "\n",
        "    try:\n",
        "      driver.execute_script('storePop2(%d)' %i)\n",
        "      time.sleep(1)  # 스크립트 실행할 동안 1초 대기\n",
        "      html = driver.page_source\n",
        "      soupCB = bs(html, 'html.parser')\n",
        "      \n",
        "      store_name_h2 = soupCB.select('div.store_txt > h2')\n",
        "      store_name = store_name_h2[0].string\n",
        "      print(store_name)  # 매장 이름 출력\n",
        "\n",
        "      store_info = soupCB1.select('div.store_txt > table.store_table > tbody > tr > td')\n",
        "      store_address_info = list(store_info[2])\n",
        "      store_address  = store_address_info[0]\n",
        "\n",
        "      store_number = store_info[3].string\n",
        "\n",
        "      result.append([store_name] + [store_address] + [store_number])\n",
        "\n",
        "    except:\n",
        "      continue\n",
        "\n",
        "  return\n",
        "\n",
        "result = []\n",
        "\n",
        "print('CoffeeBean store crawling >>>>>>>>>>>>>>>>>>>>>>>>>>>')\n",
        "Bean_shop(result)\n",
        "\n",
        "df = pd.DataFrame(result, columns = ('name', 'address', 'number'))\n",
        "df.to_csv('/content/drive/MyDrive/Colab Notebooks/빅데이터분석2/CoffeeBean.csv', encoding = 'cp949')"
      ],
      "metadata": {
        "colab": {
          "base_uri": "https://localhost:8080/"
        },
        "id": "yndPq2wJP0S2",
        "outputId": "7f12a302-403c-4dfe-a1c5-ea8250c6e674"
      },
      "execution_count": 53,
      "outputs": [
        {
          "output_type": "stream",
          "name": "stdout",
          "text": [
            "CoffeeBean store crawling >>>>>>>>>>>>>>>>>>>>>>>>>>>\n",
            "학동역 DT점\n",
            "차병원점\n",
            "강남대로점\n",
            "강남에스점\n",
            "청담에스점\n",
            "신사점\n",
            "압구정역점\n",
            "역삼점\n",
            "양재스포타임점\n",
            "청담성당점\n",
            "영동점\n",
            "도곡점\n",
            "영동고앞점\n",
            "압구정시티점\n",
            "압구정로데오점\n",
            "서초우성점\n",
            "논현팍스타워점\n",
            "삼성오크우드점\n",
            "트레이드타워점\n",
            "삼성봉은사거리점\n",
            "반포엘루체점\n",
            "잠실신천점\n",
            "서초지파이브점\n",
            "논현동수면센터점\n",
            "삼성전자강남사옥점\n",
            "삼성생명강남사옥점\n",
            "방배카페골목점\n",
            "역삼포스틸타워뒷점\n",
            "테헤란로하이닉스뒷점\n",
            "삼성봉은사로점\n",
            "방이점\n",
            "매봉역점\n",
            "남부터미널역점\n",
            "강남역랭기지타워점\n",
            "도심공항타워점\n",
            "청담카페점\n",
            "광화문점\n",
            "경희궁의아침점\n",
            "홍대역점\n",
            "순화점\n",
            "종로관철동점\n",
            "소공동삼화빌딩점\n",
            "강변테크노마트점\n",
            "외대앞점\n",
            "고대안암역점\n",
            "순화동라마다호텔점\n",
            "세종문화회관옆점\n",
            "신촌점\n",
            "건대스타시티점\n",
            "하나은행경복궁역점\n",
            "중계동은행사거리점\n",
            "서울스퀘어점\n",
            "목동점\n",
            "여의도34번지점\n",
            "여의도교보증권점\n",
            "시흥홈플러스점\n",
            "여의도순복음교회옆점\n",
            "부산광복동점\n",
            "인천구월동점\n",
            "대전탄방동점\n",
            "일산라페스타점\n",
            "일산웨스턴돔1호점\n",
            "분당서현점\n",
            "분당플라자점\n",
            "분당차병원점\n",
            "분당수내점\n",
            "동탄라마다호텔점\n",
            "창원상남동점\n",
            "청주지웰시티점\n",
            "무교CBTL점\n",
            "국기원사거리점\n",
            "무교점\n",
            "남대문점\n",
            "올림픽플라자점\n",
            "대학로마로니에점\n",
            "인사점\n",
            "테헤란로비젼타워점\n",
            "서울대입구역점\n",
            "코엑스인터점\n",
            "뉴압구정점\n",
            "디큐브시티점\n",
            "충무로극동빌딩점\n",
            "현대자동차여의도점\n",
            "포스코사거리점\n",
            "선릉로93길점\n",
            "강남역먹자골목점\n",
            "삼성로점\n",
            "선릉로86길점\n",
            "안국역점\n",
            "뉴교보타워옆점\n",
            "IFC MALL2호점\n",
            "상암SBS미디어센터점\n",
            "마리오아울렛점\n",
            "삼성금융플라자점\n",
            "현대자동차남양연구소점\n",
            "뉴가로수길점\n",
            "서초뱅뱅사거리점\n",
            "현대자동차성내점\n",
            "수원인계점\n",
            "판교아브뉴프랑점\n",
            "일산원마운트점\n",
            "남양연구소C1식당점\n",
            "여의도교보증권카페점\n",
            "압구정현대아파트점\n",
            "역삼역4번출구점\n",
            "시청역7번출구점\n",
            "부평문화의거리점\n",
            "강남대로센터점\n",
            "구로G-ValleyMall\n",
            "내방역7번출구유중아트점\n",
            "도심공항점\n",
            "타임스퀘어점\n",
            "차병원사거리점\n",
            "CBTL(커피빈)파르나스몰점\n",
            "광화문역1번출구점\n",
            "남양연구소PT동점\n",
            "현대프리미엄아울렛김포점\n",
            "여의도신영증권별관점\n",
            "이태원제일기획옆점\n",
            "강남역GT타워옆점\n",
            "광교아브뉴프랑점\n",
            "광장동대한제지점\n",
            "신천역점\n",
            "낙성대역점\n",
            "인천공항탑승동130gate앞점\n",
            "인천공항탑승동105gate앞점\n",
            "경주미탐시티점\n",
            "석촌호수점\n",
            "오목교역사거리점\n",
            "을지로입구역점\n",
            "이천하이닉스점\n",
            "송도홈플러스점\n",
            "올림픽공원북2문앞점\n",
            "고대참살이길점\n",
            "삼성역글라스타워뒷점\n",
            "범계역로데오점\n",
            "포스코옆삼성로86길점\n",
            "상암한국지역정보개발원점\n",
            "분당정자점\n",
            "신논현역점\n",
            "강서그랜드아이파크점\n",
            "연대동문회관점\n",
            "장안점\n",
            "수원망포역점\n",
            "매헌역점\n",
            "문래동점\n",
            "해운대점\n",
            "역삼동태광타워점\n",
            "수지동천점\n",
            "파주운정홈플러스점\n",
            "잠원논현역점\n",
            "천호역점\n",
            "홍대역8번출구점\n",
            "산본역점\n",
            "원주AK플라자점\n",
            "화정중앙공원점\n",
            "강남역12번출구점\n",
            "서초부띠크모나코점\n",
            "송파파크하비오점\n",
            "문정역엠스테이트점\n",
            "상봉역점\n",
            "강동경희대병원앞점\n",
            "노원역점\n",
            "종각역점\n",
            "평택소사점\n",
            "몽촌토성역점\n",
            "도곡동지오빌딩점\n",
            "강북구청앞점\n",
            "송도트리플스트리트점\n",
            "구의삼성쉐르빌점\n",
            "여의도SK증권빌딩점\n",
            "현대시티몰가든파이브점\n",
            "위례2차아이파크점\n",
            "혜화역1번출구점\n",
            "한성대입구역점\n",
            "한티역디마크빌딩점\n",
            "논현201-5번지점\n",
            "부산수영역점\n",
            "수원송죽DT점\n",
            "동교동삼거리점\n",
            "성남신흥점\n",
            "응암동점 \n",
            "서수원이마트점\n",
            "양천향교역점\n",
            "성균관대 자연과학캠퍼스점\n",
            "마곡마커스빌딩점 \n",
            "방이역4번출구점\n",
            "IFC MALL 3호점\n",
            "동탄능동DT점\n",
            "수원인계DT점\n",
            "인천공항 제2여객터미널 입구점\n",
            "부산서면서전로점\n",
            "분당차병원본관앞점\n",
            "신용산역래미안점\n",
            "선릉역3번출구세방빌딩점\n",
            "광명아브뉴프랑점\n",
            "새문안로점\n",
            "문정동환인제약빌딩점\n",
            "경희대점\n",
            "파주DT점\n",
            "창원시티세븐점\n",
            "종로구청앞점\n",
            "상수역점\n",
            "안양시청앞점\n",
            "하남신세계백화점 B1점\n",
            "종로센트로폴리스점\n",
            "잠실향군타워점\n",
            "부산서면점\n",
            "영종도운서역점\n",
            "동대입구역점\n",
            "해운대센텀호텔점\n",
            "교대법원점\n",
            "부천북부역사거리점\n",
            "부산남포역점\n",
            "광주상무역점\n",
            "김포장기DT점\n",
            "서초동점\n",
            "남양주화도DT점\n",
            "선정릉역점\n",
            "화곡역점\n",
            "부천스타필드시티점\n",
            "송도푸르지오월드마크점\n",
            "광주문화전당역점\n",
            "대구228공원앞점\n",
            "삼성루첸타워점\n",
            "수원AK플라자점\n",
            "하나은행을지로본점\n",
            "선릉KSA한국표준협회점\n",
            "논현역6번출구앞점\n",
            "이태원몬드리안호텔점\n",
            "광주봉선점\n",
            "KB국민은행노원역점\n",
            "수서역원방빌딩점\n",
            "송파헬리오시티점\n",
            "청계천을지로점\n",
            "서초중앙로점\n",
            "일산동구청점\n",
            "부산화명수정역점\n",
            "용인역북점\n",
            "부산중앙역점\n",
            "천안신부동점\n",
            "제주아라점\n",
            "혜화역점\n",
            "용인에버랜드점\n",
            "명동거리점\n",
            "안양LS타워점\n",
            "상암SBS프리즘타워점\n",
            "용산아이파크몰점\n",
            "이천하이닉스 행복마을점\n",
            "진주LH본사점\n",
            "하나금융명동사옥점\n",
            "제주애월DT점\n"
          ]
        }
      ]
    }
  ]
}