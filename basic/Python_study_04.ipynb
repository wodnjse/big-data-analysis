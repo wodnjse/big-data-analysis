{
  "nbformat": 4,
  "nbformat_minor": 0,
  "metadata": {
    "colab": {
      "name": "Python-study-04.ipynb",
      "provenance": [],
      "collapsed_sections": [],
      "authorship_tag": "ABX9TyMJiUl/OYElvwIBwNMZAOME",
      "include_colab_link": true
    },
    "kernelspec": {
      "name": "python3",
      "display_name": "Python 3"
    },
    "language_info": {
      "name": "python"
    }
  },
  "cells": [
    {
      "cell_type": "markdown",
      "metadata": {
        "id": "view-in-github",
        "colab_type": "text"
      },
      "source": [
        "<a href=\"https://colab.research.google.com/github/wodnjse/big-data-analysis/blob/main/basic/Python_study_04.ipynb\" target=\"_parent\"><img src=\"https://colab.research.google.com/assets/colab-badge.svg\" alt=\"Open In Colab\"/></a>"
      ]
    },
    {
      "cell_type": "code",
      "execution_count": null,
      "metadata": {
        "id": "aAhLqsVJe09c",
        "colab": {
          "base_uri": "https://localhost:8080/"
        },
        "outputId": "5682a7fc-8522-4275-dd58-81235899ebfd"
      },
      "outputs": [
        {
          "output_type": "stream",
          "name": "stdout",
          "text": [
            "[8, 1, 2, 3, 4, 5]\n",
            "[1, 2, 3, 4, 5, 8]\n",
            "[8, 5, 4, 3, 2, 1]\n"
          ]
        }
      ],
      "source": [
        "list1 = [1, 2, 3, 4, 5]\n",
        "\n",
        "# list 첫번째 자리에 8이라는 값을 넣고 나머지 값은 오른쪽으로 한칸씩 밀리게 하세요.\n",
        "list1.insert(0, 8)\n",
        "print(list1)\n",
        "\n",
        "# list1을 작은 값에서 큰 값으로 정렬\n",
        "list1.sort()\n",
        "print(list1)\n",
        "\n",
        "# list1을 큰 값에서 작은값으로 정렬\n",
        "list1.reverse()\n",
        "print(list1)"
      ]
    },
    {
      "cell_type": "code",
      "source": [
        "# 리스트와 문자열\n",
        "\n",
        "list1 = [1, 2, 3, 4, 5, 6]\n",
        "print(list1[0])\n",
        "print(list1[2])\n",
        "\n",
        "str1 = 'Hello world'\n",
        "print(str1[0])\n",
        "print(str1[1])\n",
        "\n",
        "print(3 in list1)\n",
        "\n",
        "print('h' in str1)\n",
        "\n",
        "list1.index(5)\n",
        "str1.index('r')"
      ],
      "metadata": {
        "colab": {
          "base_uri": "https://localhost:8080/"
        },
        "id": "ooc7qgmSgL7w",
        "outputId": "6da3393b-cffa-4bb3-db05-3b3f52222dcb"
      },
      "execution_count": null,
      "outputs": [
        {
          "output_type": "stream",
          "name": "stdout",
          "text": [
            "1\n",
            "3\n",
            "H\n",
            "e\n",
            "True\n",
            "False\n"
          ]
        },
        {
          "output_type": "execute_result",
          "data": {
            "text/plain": [
              "8"
            ]
          },
          "metadata": {},
          "execution_count": 80
        }
      ]
    },
    {
      "cell_type": "code",
      "source": [
        "# 문자 리스트\n",
        "\n",
        "characters = list('abcdef')\n",
        "print(characters)\n",
        "print(type(characters))"
      ],
      "metadata": {
        "colab": {
          "base_uri": "https://localhost:8080/"
        },
        "id": "ILPLhOushWop",
        "outputId": "0f126376-eeb2-483c-aa6f-bef82a8c54a4"
      },
      "execution_count": null,
      "outputs": [
        {
          "output_type": "stream",
          "name": "stdout",
          "text": [
            "['a', 'b', 'c', 'd', 'e', 'f']\n",
            "<class 'list'>\n"
          ]
        }
      ]
    },
    {
      "cell_type": "code",
      "source": [
        "# 문자열 리스트 분리하기\n",
        "# split() 함수\n",
        "\n",
        "words = 'Hello world는 프로그래밍을 배우기에 아주 좋은 사이트입니다.'\n",
        "words_list = words.split()\n",
        "\n",
        "print(words_list)\n",
        "\n",
        "time_str = '10:55:23'\n",
        "time_list = time_str.split(':')\n",
        "\n",
        "print(time_list)"
      ],
      "metadata": {
        "colab": {
          "base_uri": "https://localhost:8080/",
          "height": 72
        },
        "id": "RsJ5CaPwhz-q",
        "outputId": "275875a1-2bd8-43a5-dcf8-dc6f5b65bd52"
      },
      "execution_count": null,
      "outputs": [
        {
          "output_type": "stream",
          "name": "stdout",
          "text": [
            "['Hello', 'world는', '프로그래밍을', '배우기에', '아주', '좋은', '사이트입니다.']\n",
            "['10', '55', '23']\n"
          ]
        },
        {
          "output_type": "execute_result",
          "data": {
            "application/vnd.google.colaboratory.intrinsic+json": {
              "type": "string"
            },
            "text/plain": [
              "'Hello world는 프로그래밍을 배우기에 아주 좋은 사이트입니다.'"
            ]
          },
          "metadata": {},
          "execution_count": 60
        }
      ]
    },
    {
      "cell_type": "code",
      "source": [
        "# 문자열 리스트 합치기\n",
        "# join() 함수\n",
        "\n",
        "print(':'.join(time_list))\n",
        "\n",
        "print(' '.join(words_list))"
      ],
      "metadata": {
        "colab": {
          "base_uri": "https://localhost:8080/"
        },
        "id": "0juJfQ-Xy8kV",
        "outputId": "b32d03aa-8d00-4441-8600-1c1c95ee8237"
      },
      "execution_count": null,
      "outputs": [
        {
          "output_type": "stream",
          "name": "stdout",
          "text": [
            "10:55:23\n",
            "Hello world는 프로그래밍을 배우기에 아주 좋은 사이트입니다.\n"
          ]
        }
      ]
    },
    {
      "cell_type": "code",
      "source": [
        "# 주석의 안내를 따라 빈칸에 코드를 추가하세요.\n",
        "\n",
        "str1_w = '오늘은 날씨가 흐림'\n",
        "\n",
        "# split을 이용해서 str_w을 공백으로 나눈 문자열을 words에 저장하세요.\n",
        "words = str1_w.split()\n",
        "print(words)\n",
        "\n",
        "# index()를 이용하여 \"흐림\"이 몇 번째에 있는지 찾고 position에 저장하세요.\n",
        "position = words.index('흐림')\n",
        "print(position)\n",
        "\n",
        "# position에 저장된 위치를 확인해서 '흐림'을 '맑음'으로 바꿔주세요.\n",
        "words[position] = '맑음'\n",
        "print(words)\n",
        "\n",
        "# join을 이용해서 words를 다시 문자열로 바꿔 new_str에 저장하세요.\n",
        "new_str = \" \".join(words)\n",
        "\n",
        "print(new_str)"
      ],
      "metadata": {
        "colab": {
          "base_uri": "https://localhost:8080/"
        },
        "id": "YdlWs6faj1Fx",
        "outputId": "4f2cd394-2aa6-4048-8cc4-fc4d37732f11"
      },
      "execution_count": null,
      "outputs": [
        {
          "output_type": "stream",
          "name": "stdout",
          "text": [
            "['오늘은', '날씨가', '흐림']\n",
            "2\n",
            "['오늘은', '날씨가', '맑음']\n",
            "오늘은 날씨가 맑음\n"
          ]
        }
      ]
    },
    {
      "cell_type": "code",
      "source": [
        "# 슬라이스 실습\n",
        "list_test = [1, 2, 3, 4, 5]\n",
        "print(list_test[1])\n",
        "\n",
        "text = 'Hello world'\n",
        "print(type(text))\n",
        "print(text[1])\n",
        "\n",
        "# [a:b] a는 포함 b는 b-1까지 가져온다.\n",
        "print(text[0:5])\n",
        "# 앞이 0 혹은 뒤가 마지막자리라면 생략 가능\n",
        "print(text[:3])\n",
        "print(text[3:])\n",
        "# 전체출력\n",
        "print(text[:])\n",
        "\n",
        "list_s = ['영', '일', '이', '삼', '사', '오']\n",
        "# 일, 이가 출력되도록 하세요.\n",
        "list_s[0:2]\n",
        "# 영, 일이 출력되도록 하세요.\n",
        "list_s[3:]\n",
        "# 왼쪽이 비어져있는건 처음부터라는 의미\n",
        "print(list_s[:2])\n",
        "# 오른쪽이 비어져있는건 끝까지라는 의미\n",
        "print(list_s[3:])\n",
        "\n",
        "# 2부터 맨 끝까지\n",
        "print(list_s[2:])\n",
        "print(list_s[2:len(list_s)])\n",
        "\n",
        "# 처음부터 2까지 2가지 방법\n",
        "print(list_s[:2])\n",
        "print(list_s[0:2])\n",
        "\n",
        "# 처음부터 끝까지\n",
        "print(list_s)\n",
        "print(list_s[:])"
      ],
      "metadata": {
        "colab": {
          "base_uri": "https://localhost:8080/"
        },
        "id": "7RSbS0HYrks4",
        "outputId": "1da9a018-c2af-42ef-f8a2-fa2966831560"
      },
      "execution_count": null,
      "outputs": [
        {
          "output_type": "stream",
          "name": "stdout",
          "text": [
            "2\n",
            "<class 'str'>\n",
            "e\n",
            "Hello\n",
            "Hel\n",
            "lo world\n",
            "Hello world\n",
            "['영', '일']\n",
            "['삼', '사', '오']\n",
            "['이', '삼', '사', '오']\n",
            "['이', '삼', '사', '오']\n",
            "['영', '일']\n",
            "['영', '일']\n",
            "['영', '일', '이', '삼', '사', '오']\n",
            "['영', '일', '이', '삼', '사', '오']\n"
          ]
        }
      ]
    }
  ]
}