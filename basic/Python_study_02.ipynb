{
  "nbformat": 4,
  "nbformat_minor": 0,
  "metadata": {
    "colab": {
      "name": "Python-study-02.ipynb",
      "provenance": [],
      "authorship_tag": "ABX9TyMUVrx3WSuReFuv7scBKPho",
      "include_colab_link": true
    },
    "kernelspec": {
      "name": "python3",
      "display_name": "Python 3"
    },
    "language_info": {
      "name": "python"
    }
  },
  "cells": [
    {
      "cell_type": "markdown",
      "metadata": {
        "id": "view-in-github",
        "colab_type": "text"
      },
      "source": [
        "<a href=\"https://colab.research.google.com/github/wodnjse/big-data-analysis/blob/main/Python_study_02.ipynb\" target=\"_parent\"><img src=\"https://colab.research.google.com/assets/colab-badge.svg\" alt=\"Open In Colab\"/></a>"
      ]
    },
    {
      "cell_type": "code",
      "source": [
        "# 랜덤 가위바위보\n",
        "import random\n",
        "\n",
        "user = input('가위,,,,바위,,,,보!\\n')\n",
        "\n",
        "scissor = '가위'\n",
        "paper = '보'\n",
        "rock = '바위'\n",
        "\n",
        "options = ['가위', '바위', '보']\n",
        "\n",
        "win = '이겼다~~이야호!'\n",
        "draw = '다시해임마!'\n",
        "lose = '아니전혀쉿.'\n",
        "\n",
        "cpu = random.choice(options) # 랜덤으로 가위,바위,보 출력\n",
        "print(cpu)\n",
        "\n",
        "if user == cpu:\n",
        "  print(draw)\n",
        "\n",
        "# 이기거나 짐\n",
        "elif user == scissor:\n",
        "  if cpu == paper:\n",
        "    print(win)\n",
        "  else: \n",
        "    print(lose)\n",
        "\n",
        "elif user == rock:\n",
        "  if cpu == scissor:\n",
        "    print(win) \n",
        "  else:\n",
        "    print(lose)\n",
        "\n",
        "elif user == paper:\n",
        "  if cpu == rock:\n",
        "    print(win) \n",
        "  else:\n",
        "    print(lose)\n",
        "\n",
        "\n",
        "\n",
        "# if user() in options: //TODO 가위, 바위, 보 외의 단어 입력시, 다시 시작.\n",
        "#   print(RPC)\n",
        "# elif user not in options:\n",
        "#   print(\"똑바로 내 임마!\")\n",
        "  \n"
      ],
      "metadata": {
        "colab": {
          "base_uri": "https://localhost:8080/"
        },
        "id": "8hbuNiAWpO-s",
        "outputId": "885cbc81-3149-4d28-99b6-828f46f56dee"
      },
      "execution_count": 1,
      "outputs": [
        {
          "output_type": "stream",
          "name": "stdout",
          "text": [
            "가위,,,,바위,,,,보!\n",
            "가위\n",
            "보\n",
            "이겼다~~이야호!\n"
          ]
        }
      ]
    },
    {
      "cell_type": "code",
      "source": [
        "# 함수\n",
        "# 파이썬 문자열 포멧 https://captainbin.tistory.com/entry/%ED%8C%8C%EC%9D%B4%EC%8D%AC-%EB%AC%B8%EC%9E%90%EC%97%B4-%ED%8F%AC%EB%A7%B7\n",
        "\n",
        "def print_cal():\n",
        "  r1 = a + b\n",
        "  r2 = a - b\n",
        "  r3 = a * b\n",
        "  r4 = a / b\n",
        "  \n",
        "  print(\"결과는 {} {} {} {:.2f}\".format(r1,r2,r3,r4))\n",
        "\n",
        "a = 1\n",
        "b = 2\n",
        "\n",
        "print_cal()\n",
        "\n"
      ],
      "metadata": {
        "colab": {
          "base_uri": "https://localhost:8080/"
        },
        "id": "17IMkb7zrcaZ",
        "outputId": "d894e027-1706-4592-8c58-40ef485796e5"
      },
      "execution_count": null,
      "outputs": [
        {
          "output_type": "stream",
          "name": "stdout",
          "text": [
            "결과는 3 -1 2 0.50\n",
            "5.0\n"
          ]
        }
      ]
    },
    {
      "cell_type": "code",
      "source": [
        "# 각 리스틑의 첫번째 값 출력하기\n",
        "list1 = ['가위', '바위', '보']\n",
        "list2 = [37, 23, 10, 29, 40]\n",
        "\n",
        "print(list1[0])\n",
        "print(list2[0])"
      ],
      "metadata": {
        "colab": {
          "base_uri": "https://localhost:8080/"
        },
        "id": "gymuq1__1M6l",
        "outputId": "a36d502d-5aaf-4708-de5a-5f8ba93967c0"
      },
      "execution_count": null,
      "outputs": [
        {
          "output_type": "stream",
          "name": "stdout",
          "text": [
            "가위\n",
            "10\n"
          ]
        }
      ]
    },
    {
      "cell_type": "code",
      "source": [
        "list1 = [1,2,3,4,5]\n",
        "list1.append('바위')\n",
        "print(list1)"
      ],
      "metadata": {
        "colab": {
          "base_uri": "https://localhost:8080/"
        },
        "id": "Rdgvy0nt1-h2",
        "outputId": "16f58ace-672e-428e-ed54-cd4bf3cc8a08"
      },
      "execution_count": 5,
      "outputs": [
        {
          "output_type": "stream",
          "name": "stdout",
          "text": [
            "[1, 2, 3, 4, 5, '바위']\n"
          ]
        }
      ]
    },
    {
      "cell_type": "code",
      "source": [
        "# rainbow 리트스 생성 \n",
        "rainbow = ['red', 'orange', 'yellow', 'green', 'blue', 'navy', 'purple']\n",
        "\n",
        "# first_color 변수를 만들어서 rainbow의 첫번재 값 넣어주기\n",
        "first_color = rainbow[0]\n",
        "print(f'무지개의 첫번째 색은{first_color}이다.')\n",
        "\n",
        "last_color = rainbow[-1]\n",
        "print(f'무지개의 마지막 색은{last_color}')"
      ],
      "metadata": {
        "colab": {
          "base_uri": "https://localhost:8080/"
        },
        "id": "T4r79yhX3KB2",
        "outputId": "c61ce2c0-09bf-4ea0-ae1e-be06508844ba"
      },
      "execution_count": null,
      "outputs": [
        {
          "output_type": "stream",
          "name": "stdout",
          "text": [
            "무지개의 첫번째 색은red이다.\n",
            "무지개의 마지막 색은purple\n"
          ]
        }
      ]
    },
    {
      "cell_type": "code",
      "source": [
        "# 리스트 수정\n",
        "list2 = [37, 23, 10, 33, 29, 40]\n",
        "\n",
        "list2.append(16)\n",
        "print(list2)\n",
        "\n",
        "list3 = list2 + [16]\n",
        "print(list3)\n",
        "\n",
        "list4 = list2 + list3\n",
        "print(list4)"
      ],
      "metadata": {
        "colab": {
          "base_uri": "https://localhost:8080/"
        },
        "id": "uzY9kZ9t5fPO",
        "outputId": "d943f8cd-2d0f-4238-ac12-abc522aff752"
      },
      "execution_count": 7,
      "outputs": [
        {
          "output_type": "stream",
          "name": "stdout",
          "text": [
            "[37, 23, 10, 33, 29, 40, 16]\n",
            "[37, 23, 10, 33, 29, 40, 16, 16]\n",
            "[37, 23, 10, 33, 29, 40, 16, 37, 23, 10, 33, 29, 40, 16, 16]\n"
          ]
        }
      ]
    }
  ]
}