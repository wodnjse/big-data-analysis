{
  "nbformat": 4,
  "nbformat_minor": 0,
  "metadata": {
    "colab": {
      "name": "Python-study-01.ipynb",
      "provenance": [],
      "collapsed_sections": [],
      "authorship_tag": "ABX9TyPHdXr3gghX0hIhoN2DAC+C",
      "include_colab_link": true
    },
    "kernelspec": {
      "name": "python3",
      "display_name": "Python 3"
    },
    "language_info": {
      "name": "python"
    }
  },
  "cells": [
    {
      "cell_type": "markdown",
      "metadata": {
        "id": "view-in-github",
        "colab_type": "text"
      },
      "source": [
        "<a href=\"https://colab.research.google.com/github/wodnjse/big-data-analysis/blob/main/Python_study_01.ipynb\" target=\"_parent\"><img src=\"https://colab.research.google.com/assets/colab-badge.svg\" alt=\"Open In Colab\"/></a>"
      ]
    },
    {
      "cell_type": "markdown",
      "source": [
        "print('Hello, World!')"
      ],
      "metadata": {
        "id": "KuGLPi7kbWjC"
      }
    },
    {
      "cell_type": "code",
      "source": [
        "#변수\n",
        "\n",
        "이름 = '김재원'\n",
        "print(이름)\n",
        "\n",
        "birth_year = '2004'\n",
        "birth_date = 410\n",
        "\n",
        "year_and_date = birth_year + str(birth_date)\n",
        "print(year_and_date)\n",
        "\n"
      ],
      "metadata": {
        "colab": {
          "base_uri": "https://localhost:8080/"
        },
        "id": "jSjCHAcMdVK4",
        "outputId": "c9bfdab5-fb2f-4c60-edd8-e49238c54bfb"
      },
      "execution_count": null,
      "outputs": [
        {
          "output_type": "stream",
          "name": "stdout",
          "text": [
            "김재원\n",
            "2004410\n"
          ]
        }
      ]
    },
    {
      "cell_type": "code",
      "source": [
        "#조건문\n",
        "\n",
        "people = 3\n",
        "apple = 20\n",
        "\n",
        "if people < apple:\n",
        "  print(\"신나는 사과파티!\")\n",
        "\n",
        "if True and True:\n",
        "  print('True and True는 True입니다.')"
      ],
      "metadata": {
        "colab": {
          "base_uri": "https://localhost:8080/"
        },
        "id": "jap1cDIlgV3a",
        "outputId": "1c0527b1-d7b3-4eef-b40b-18cc8c40067a"
      },
      "execution_count": null,
      "outputs": [
        {
          "output_type": "stream",
          "name": "stdout",
          "text": [
            "신나는 레게파티!\n",
            "True and True는 True입니다.\n"
          ]
        }
      ]
    },
    {
      "cell_type": "code",
      "source": [
        "# if문 참/거짓 1\n",
        "if False:\n",
        "  print(\"1\")\n",
        "\n",
        "  if True:\n",
        "    print('2')\n",
        "\n",
        "  if False:\n",
        "    print('3')\n",
        "  \n",
        "  print(\"4\")\n",
        "print(\"5\")"
      ],
      "metadata": {
        "colab": {
          "base_uri": "https://localhost:8080/"
        },
        "id": "S20A-EV4nrAi",
        "outputId": "7f8ac067-e051-495e-f96d-b48e8b40e67d"
      },
      "execution_count": null,
      "outputs": [
        {
          "output_type": "stream",
          "name": "stdout",
          "text": [
            "5\n"
          ]
        }
      ]
    },
    {
      "cell_type": "code",
      "source": [
        "# if문 참/거짓 2\n",
        "if True:\n",
        "  print(\"1\")\n",
        "\n",
        "  if False:\n",
        "    print(\"2\")\n",
        "\n",
        "    if True:\n",
        "      print(\"3\")\n",
        "  \n",
        "  if False:\n",
        "    print(\"4\")\n",
        "\n",
        "  print(\"5\")\n",
        "print(6)"
      ],
      "metadata": {
        "colab": {
          "base_uri": "https://localhost:8080/"
        },
        "id": "soVDzmCnogRd",
        "outputId": "1a9a24db-d2ab-4fac-d703-54f1c24962c1"
      },
      "execution_count": null,
      "outputs": [
        {
          "output_type": "stream",
          "name": "stdout",
          "text": [
            "1\n",
            "5\n",
            "6\n"
          ]
        }
      ]
    },
    {
      "cell_type": "code",
      "source": [
        "# 직접지정 가위바위보\n",
        "rock = '바위'\n",
        "paper = '보'\n",
        "scissor = '가위'\n",
        "\n",
        "win = '이겼다'\n",
        "lose = '졌다'\n",
        "draw = '비겼다'\n",
        "\n",
        "me = rock\n",
        "your = rock\n",
        "\n",
        "if me == your:\n",
        "  print(draw)\n",
        "\n",
        "elif me == rock:\n",
        "  if your == paper:\n",
        "    print(lose)\n",
        "  else:\n",
        "    print(win)\n",
        "\n",
        "elif me == paper:\n",
        "  if your == scissor:\n",
        "    print(lose)\n",
        "  else:\n",
        "    print(win)\n",
        "\n",
        "elif me == scissor:\n",
        "  if your == rock:\n",
        "    print(lose)\n",
        "  else:\n",
        "    print(win)\n",
        "\n",
        "  "
      ],
      "metadata": {
        "colab": {
          "base_uri": "https://localhost:8080/"
        },
        "id": "zAECQdipoz5Z",
        "outputId": "c072d297-4e5c-4f63-ad72-d02a5eb1497e"
      },
      "execution_count": null,
      "outputs": [
        {
          "output_type": "stream",
          "name": "stdout",
          "text": [
            "이겼다\n"
          ]
        }
      ]
    },
    {
      "cell_type": "code",
      "source": [
        "# 각 리스틑의 첫번째 값 출력하기\n",
        "list1 = ['가위', '바위', '보']\n",
        "list2 = [37, 23, 10, 29, 40]\n",
        "\n",
        "print(list1[0])\n",
        "print(list2[0])"
      ],
      "metadata": {
        "colab": {
          "base_uri": "https://localhost:8080/"
        },
        "id": "gymuq1__1M6l",
        "outputId": "a36d502d-5aaf-4708-de5a-5f8ba93967c0"
      },
      "execution_count": null,
      "outputs": [
        {
          "output_type": "stream",
          "name": "stdout",
          "text": [
            "가위\n",
            "10\n"
          ]
        }
      ]
    },
    {
      "cell_type": "code",
      "source": [
        "# list1 2번째에 바위 삽입\n",
        "list1 = [1,2,3,4,5]\n",
        "list1.insert(1,'바위')\n",
        "print(list1)"
      ],
      "metadata": {
        "colab": {
          "base_uri": "https://localhost:8080/"
        },
        "id": "Rdgvy0nt1-h2",
        "outputId": "770bb79b-c7e7-4f83-d9de-ac3ae737d13c"
      },
      "execution_count": null,
      "outputs": [
        {
          "output_type": "stream",
          "name": "stdout",
          "text": [
            "[1, '바위', 2, 3, 4, 5]\n"
          ]
        }
      ]
    },
    {
      "cell_type": "code",
      "source": [
        "# rainbow 리트스 생성 \n",
        "rainbow = ['red', 'orange', 'yellow', 'green', 'blue', 'navy', 'purple']\n",
        "\n",
        "# first_color 변수를 만들어서 rainbow의 첫번재 값 넣어주기\n",
        "first_color = rainbow[0]\n",
        "print(f'무지개의 첫번째 색은{first_color}이다.')\n",
        "\n",
        "last_color = rainbow[-1]\n",
        "print(f'무지개의 마지막 색은{last_color}')"
      ],
      "metadata": {
        "colab": {
          "base_uri": "https://localhost:8080/"
        },
        "id": "T4r79yhX3KB2",
        "outputId": "c61ce2c0-09bf-4ea0-ae1e-be06508844ba"
      },
      "execution_count": null,
      "outputs": [
        {
          "output_type": "stream",
          "name": "stdout",
          "text": [
            "무지개의 첫번째 색은red이다.\n",
            "무지개의 마지막 색은purple\n"
          ]
        }
      ]
    },
    {
      "cell_type": "code",
      "source": [
        "# 리스트 수정\n",
        "list2 = [37, 23, 10, 33, 29, 40]\n",
        "\n",
        "list2.append(16)\n",
        "print(list2)\n",
        "\n",
        "list3 = list2 + [16]\n",
        "print(list3)\n",
        "\n",
        "list4 = list2 + list3\n",
        "print(list4)"
      ],
      "metadata": {
        "colab": {
          "base_uri": "https://localhost:8080/"
        },
        "id": "uzY9kZ9t5fPO",
        "outputId": "cc78db82-95db-4ca1-a4f2-76ce290c24d4"
      },
      "execution_count": null,
      "outputs": [
        {
          "output_type": "stream",
          "name": "stdout",
          "text": [
            "[37, 23, 10, 33, 29, 40, 16]\n",
            "[37, 23, 10, 33, 29, 40, 16, 16]\n",
            "[37, 23, 10, 33, 29, 40, 16, 37, 23, 10, 33, 29, 40, 16, 16]\n"
          ]
        }
      ]
    }
  ]
}