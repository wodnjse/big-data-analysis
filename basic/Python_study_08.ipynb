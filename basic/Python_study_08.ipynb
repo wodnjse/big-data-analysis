{
  "nbformat": 4,
  "nbformat_minor": 0,
  "metadata": {
    "colab": {
      "name": "Python_study_08.ipynb",
      "provenance": [],
      "authorship_tag": "ABX9TyOO6gMGiawx5U6tmmY+RFcS",
      "include_colab_link": true
    },
    "kernelspec": {
      "name": "python3",
      "display_name": "Python 3"
    },
    "language_info": {
      "name": "python"
    }
  },
  "cells": [
    {
      "cell_type": "markdown",
      "metadata": {
        "id": "view-in-github",
        "colab_type": "text"
      },
      "source": [
        "<a href=\"https://colab.research.google.com/github/wodnjse/big-data-analysis/blob/main/basic/Python_study_08.ipynb\" target=\"_parent\"><img src=\"https://colab.research.google.com/assets/colab-badge.svg\" alt=\"Open In Colab\"/></a>"
      ]
    },
    {
      "cell_type": "code",
      "execution_count": 4,
      "metadata": {
        "colab": {
          "base_uri": "https://localhost:8080/"
        },
        "id": "plZpihccXc4z",
        "outputId": "276b58bc-33f8-43e7-a3f0-8136e807c7bd"
      },
      "outputs": [
        {
          "output_type": "stream",
          "name": "stdout",
          "text": [
            "1월\n",
            "2월\n",
            "3월\n",
            "4월\n",
            "5월\n"
          ]
        }
      ],
      "source": [
        "# 실습\n",
        "\n",
        "# for-in 문을 이용해서 days in month의 키를 한 줄씩 출력해 보세요.\n",
        "\n",
        "days_in_month = {\n",
        "    '1월': 31,\n",
        "    '2월': 28,\n",
        "    '3월': 31,\n",
        "    '4월': 30,\n",
        "    '5월': 31\n",
        "}\n",
        "\n",
        "for keys in days_in_month.keys():\n",
        "  print(keys)"
      ]
    },
    {
      "cell_type": "code",
      "source": [
        "# for-in 문을 이용해서 days_in_month를 다음과 같은 형식으로 출력해 보세요.\n",
        "\n",
        "days_in_month = {\n",
        "    '1월': 31,\n",
        "    '2월': 28,\n",
        "    '3월': 31,\n",
        "    '4월': 30,\n",
        "    '5월': 31\n",
        "}\n",
        "\n",
        "for keys, value in days_in_month.items():\n",
        "  print('{}은 {}일이 있습니다.'.format(keys, value))"
      ],
      "metadata": {
        "colab": {
          "base_uri": "https://localhost:8080/"
        },
        "id": "Rfpake66YpYm",
        "outputId": "dddbb4cc-75a7-40b0-ed56-bb2edde76724"
      },
      "execution_count": 33,
      "outputs": [
        {
          "output_type": "stream",
          "name": "stdout",
          "text": [
            "1월은 31일이 있습니다.\n",
            "2월은 28일이 있습니다.\n",
            "3월은 31일이 있습니다.\n",
            "4월은 30일이 있습니다.\n",
            "5월은 31일이 있습니다.\n"
          ]
        }
      ]
    },
    {
      "cell_type": "code",
      "source": [
        "# 실습\n",
        "# 10번 찍어 안넘어가는 나무 없다를 반복문으로 구현해보기\n",
        "# treeHit 값 증가시키는 부분 확인하기\n",
        "# 나무를 1번 찍었습니다. 10번 찍은 경우 10번 찍어 안넘어 가는 나무 없다 출력\n",
        "# while 문 구현\n",
        "\n",
        "treeHit = 0 \n",
        "\n",
        "# while treeHit < 10:\n",
        "#   if treeHit == 10:\n",
        "#     print(\"10번 찍어 안넘어 가는 나무 없다.\")\n",
        "#   else:\n",
        "#     treeHit += 1\n",
        "    # print(f\"나무를 {treeHit}번 찍었습니다.\")\n",
        "\n",
        "while treeHit < 10:\n",
        "  treeHit += 1\n",
        "  print(f\"나무를 {treeHit}번 찍었습니다.\")\n",
        "\n",
        "  if treeHit ==10:\n",
        "    print(\"10번 찍어 안넘어 가는 나무 없다.\")\n"
      ],
      "metadata": {
        "colab": {
          "base_uri": "https://localhost:8080/"
        },
        "id": "i9qdpT8IZQp-",
        "outputId": "100ffec3-80ac-43d8-c19e-74f3b8a205f0"
      },
      "execution_count": 32,
      "outputs": [
        {
          "output_type": "stream",
          "name": "stdout",
          "text": [
            "나무를 1번 찍었습니다.\n",
            "나무를 2번 찍었습니다.\n",
            "나무를 3번 찍었습니다.\n",
            "나무를 4번 찍었습니다.\n",
            "나무를 5번 찍었습니다.\n",
            "나무를 6번 찍었습니다.\n",
            "나무를 7번 찍었습니다.\n",
            "나무를 8번 찍었습니다.\n",
            "나무를 9번 찍었습니다.\n",
            "나무를 10번 찍었습니다.\n",
            "10번 찍어 안넘어 가는 나무 없다.\n"
          ]
        }
      ]
    }
  ]
}