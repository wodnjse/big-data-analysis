{
  "nbformat": 4,
  "nbformat_minor": 0,
  "metadata": {
    "colab": {
      "name": "Python_study_07.ipynb",
      "provenance": [],
      "collapsed_sections": [],
      "authorship_tag": "ABX9TyNzpLSAPWRY87bHZSgWjafq",
      "include_colab_link": true
    },
    "kernelspec": {
      "name": "python3",
      "display_name": "Python 3"
    },
    "language_info": {
      "name": "python"
    }
  },
  "cells": [
    {
      "cell_type": "markdown",
      "metadata": {
        "id": "view-in-github",
        "colab_type": "text"
      },
      "source": [
        "<a href=\"https://colab.research.google.com/github/wodnjse/big-data-analysis/blob/main/basic/Python_study_07.ipynb\" target=\"_parent\"><img src=\"https://colab.research.google.com/assets/colab-badge.svg\" alt=\"Open In Colab\"/></a>"
      ]
    },
    {
      "cell_type": "code",
      "source": [
        "# 실습\n",
        "# range를 이용해서 0부터 3까지 출력하는 코드 완성\n",
        "\n",
        "for i in range(4):\n",
        "  print(i)"
      ],
      "metadata": {
        "colab": {
          "base_uri": "https://localhost:8080/"
        },
        "id": "pLAuKF7-WzR7",
        "outputId": "fd654ac5-3a0d-44f5-f5c0-54d250bdf1a7"
      },
      "execution_count": 16,
      "outputs": [
        {
          "output_type": "stream",
          "name": "stdout",
          "text": [
            "0\n",
            "1\n",
            "2\n",
            "3\n"
          ]
        }
      ]
    },
    {
      "cell_type": "code",
      "execution_count": 22,
      "metadata": {
        "colab": {
          "base_uri": "https://localhost:8080/"
        },
        "id": "UjUh36LaSFO3",
        "outputId": "a962998d-d504-4b59-d822-aeeba0190644"
      },
      "outputs": [
        {
          "output_type": "stream",
          "name": "stdout",
          "text": [
            "빨\n",
            "주\n",
            "노\n",
            "초\n",
            "파\n",
            "남\n",
            "보\n"
          ]
        }
      ],
      "source": [
        "# range를 이용해서 무지개 색을 대입하고 순서대로 색을 출력하는 코드를 완성하세요.\n",
        "# 단 rainbow 리스트에 새로운 값이 추가되더라도 그 값을 모두 출력할 수 있도록 len 이용\n",
        "\n",
        "rainbow = ['빨', '주', '노', '초', '파', '남', '보']\n",
        "\n",
        "for i in range(len(rainbow)):\n",
        "  print(rainbow[i])"
      ]
    },
    {
      "cell_type": "code",
      "source": [
        "# enumerate를 이용해서 무지개 색을 대입하고 순서대로 색을 출력하는 코드를 완성해 보세요.\n",
        "rainbow = ['빨', '주', '노', '초', '파', '남', '보']\n",
        "\n",
        "for i, rainbow in enumerate(rainbow):\n",
        "  print('{}번째 색은 {}'.format(i+1,rainbow))"
      ],
      "metadata": {
        "colab": {
          "base_uri": "https://localhost:8080/"
        },
        "id": "XCU6JwsdXfhM",
        "outputId": "a4a1c503-d2ca-49dd-c053-82b55deb3adb"
      },
      "execution_count": 32,
      "outputs": [
        {
          "output_type": "stream",
          "name": "stdout",
          "text": [
            "1번째 색은 빨\n",
            "2번째 색은 주\n",
            "3번째 색은 노\n",
            "4번째 색은 초\n",
            "5번째 색은 파\n",
            "6번째 색은 남\n",
            "7번째 색은 보\n"
          ]
        }
      ]
    },
    {
      "cell_type": "code",
      "source": [
        "# days에는 1월과 12월까지 그 달에 포함된 일수(날짜의 개수)가 정리되어 있습니다.\n",
        "# for-in문과 range 또는 enumerate를 이용해서 다음과 같이 출력되도록 빈칸을 채워 보세요.\n",
        "\n",
        "# days 리스트에 1월붜 12월 까지 일 수 리스트 값으로 넣기. 2022년 기준\n",
        "# 출력 형식 '1월의 날짜 수는 31일 입니다.'\n",
        "\n",
        "days = [31, 28, 31, 30, 31, 30, 31, 31, 30, 31, 30, 31]\n",
        "\n",
        "for month, days in enumerate(days):\n",
        "  print('{}월의 날짜 수는 {}일 입니다.'.format(month+1, days)) # format함수 사용\n",
        "\"\"\"\n",
        "for month, days in enumerate(days):\n",
        "   print(f\"{month+1}월의 날짜 수는 {days}일 입니다.\") #f-string 사용\n",
        "\"\"\""
      ],
      "metadata": {
        "colab": {
          "base_uri": "https://localhost:8080/",
          "height": 269
        },
        "id": "FdnCctnuYPyB",
        "outputId": "6e84a887-a5a3-402c-fe8e-67ea226dd7f0"
      },
      "execution_count": 44,
      "outputs": [
        {
          "output_type": "stream",
          "name": "stdout",
          "text": [
            "1월의 날짜 수는 31일 입니다.\n",
            "2월의 날짜 수는 28일 입니다.\n",
            "3월의 날짜 수는 31일 입니다.\n",
            "4월의 날짜 수는 30일 입니다.\n",
            "5월의 날짜 수는 31일 입니다.\n",
            "6월의 날짜 수는 30일 입니다.\n",
            "7월의 날짜 수는 31일 입니다.\n",
            "8월의 날짜 수는 31일 입니다.\n",
            "9월의 날짜 수는 30일 입니다.\n",
            "10월의 날짜 수는 31일 입니다.\n",
            "11월의 날짜 수는 30일 입니다.\n",
            "12월의 날짜 수는 31일 입니다.\n"
          ]
        },
        {
          "output_type": "execute_result",
          "data": {
            "text/plain": [
              "'\\nfor month, days in enumerate(days):\\n   print(f\"{month+1}월의 날짜 수는 {days}일 입니다.\") #f-string 사용\\n'"
            ],
            "application/vnd.google.colaboratory.intrinsic+json": {
              "type": "string"
            }
          },
          "metadata": {},
          "execution_count": 44
        }
      ]
    },
    {
      "cell_type": "code",
      "source": [
        "# 딕셔너리와 반복문\n",
        "# seasons 리스트 변수에 봄, 여름, 가을, 겨울 값을 입력하고 출력\n",
        "\n",
        "seasons = ['봄', '여름', '가을', '겨울']\n",
        "\n",
        "for seasons in seasons:\n",
        "  print(seasons)"
      ],
      "metadata": {
        "colab": {
          "base_uri": "https://localhost:8080/"
        },
        "id": "yFBTWz9HeAaK",
        "outputId": "eb437641-d5a4-4423-b6fb-2b43ab3b9349"
      },
      "execution_count": 48,
      "outputs": [
        {
          "output_type": "stream",
          "name": "stdout",
          "text": [
            "봄\n",
            "여름\n",
            "가을\n",
            "겨울\n"
          ]
        }
      ]
    },
    {
      "cell_type": "code",
      "source": [
        "# 나이와 이름을 가지는 딕셔너리 만들기\n",
        "\n",
        "ages = {\n",
        "    'Tod':35,\n",
        "    'Jane': 23,\n",
        "    'Paul': 62\n",
        "    }\n",
        "\n",
        "print(ages)"
      ],
      "metadata": {
        "colab": {
          "base_uri": "https://localhost:8080/"
        },
        "id": "g5OHxAHJeu1g",
        "outputId": "a2c14195-2284-4334-c542-178b0f4c7f01"
      },
      "execution_count": 50,
      "outputs": [
        {
          "output_type": "stream",
          "name": "stdout",
          "text": [
            "{'Tod': 35, 'Jane': 23, 'Paul': 62}\n"
          ]
        }
      ]
    },
    {
      "cell_type": "code",
      "source": [
        "# 키 반복\n",
        "\n",
        "for name in ages:\n",
        "  print(name)\n",
        "\n",
        "for name in ages.keys():\n",
        "  print(name)"
      ],
      "metadata": {
        "colab": {
          "base_uri": "https://localhost:8080/"
        },
        "id": "svvT4FMtfA56",
        "outputId": "dbcb8dea-01b3-4517-dcbf-8f69f57a1d0f"
      },
      "execution_count": 56,
      "outputs": [
        {
          "output_type": "stream",
          "name": "stdout",
          "text": [
            "Tod\n",
            "Jane\n",
            "Paul\n",
            "Tod\n",
            "Jane\n",
            "Paul\n"
          ]
        }
      ]
    },
    {
      "cell_type": "code",
      "source": [
        "# 값 반복\n",
        "\n",
        "for name in ages:\n",
        "  print(ages[name])\n",
        "\n",
        "for name in ages.values():\n",
        "  print(name)"
      ],
      "metadata": {
        "colab": {
          "base_uri": "https://localhost:8080/"
        },
        "id": "9KU3FoA_fCLJ",
        "outputId": "0d9dc6d2-25a1-404c-f402-1819c9d7ec08"
      },
      "execution_count": 59,
      "outputs": [
        {
          "output_type": "stream",
          "name": "stdout",
          "text": [
            "35\n",
            "23\n",
            "62\n",
            "35\n",
            "23\n",
            "62\n"
          ]
        }
      ]
    },
    {
      "cell_type": "code",
      "source": [
        "# 이름과 나이 출력하기\n",
        "# Tod의 나이는 35입니다. 와 같은 형식이 되도록 출력하기\n",
        "# ages가지고 활용하기\n",
        "# 딕셔너리의 valus 값을 출력할 때는 '딕셔너리이름[키값]'\n",
        "    \n",
        "for name in ages:\n",
        "  print(f\"{name}의 나이는 {ages[name]}입니다.\")"
      ],
      "metadata": {
        "colab": {
          "base_uri": "https://localhost:8080/"
        },
        "id": "MK_tPb9LgeMe",
        "outputId": "cea5ae66-3c6f-4cd9-9bc7-cb6b8912627a"
      },
      "execution_count": 84,
      "outputs": [
        {
          "output_type": "stream",
          "name": "stdout",
          "text": [
            "Tod의 나이는 35입니다.\n",
            "Jane의 나이는 23입니다.\n",
            "Paul의 나이는 62입니다.\n"
          ]
        }
      ]
    },
    {
      "cell_type": "code",
      "source": [
        "# items() 함수 이용하기\n",
        "# items() 2개의 값을 반환한다 = 튜플로 반환이 된다\n",
        "\n",
        "print(ages.keys()) # keys: 첫 번째 값\n",
        "print(ages.values()) # values: 두 번째 값\n",
        "print(ages.items()) # items: 둘 다 출력\n",
        "\n",
        "for x, y in ages.items():\n",
        "  print(f'{x}의 나이는 {y}입니다.')"
      ],
      "metadata": {
        "colab": {
          "base_uri": "https://localhost:8080/"
        },
        "id": "UxkxLG3dkTQi",
        "outputId": "868a09f7-ef5b-487b-ea30-e33e9668586e"
      },
      "execution_count": 99,
      "outputs": [
        {
          "output_type": "stream",
          "name": "stdout",
          "text": [
            "dict_keys(['Tod', 'Jane', 'Paul'])\n",
            "dict_values([35, 23, 62])\n",
            "dict_items([('Tod', 35), ('Jane', 23), ('Paul', 62)])\n",
            "Tod의 나이는 35입니다.\n",
            "Jane의 나이는 23입니다.\n",
            "Paul의 나이는 62입니다.\n"
          ]
        }
      ]
    }
  ]
}