{
  "cells": [
    {
      "cell_type": "markdown",
      "metadata": {
        "id": "view-in-github",
        "colab_type": "text"
      },
      "source": [
        "<a href=\"https://colab.research.google.com/github/wodnjse/big-data-analysis/blob/main/basic/Python_study_05(220321).ipynb\" target=\"_parent\"><img src=\"https://colab.research.google.com/assets/colab-badge.svg\" alt=\"Open In Colab\"/></a>"
      ]
    },
    {
      "cell_type": "code",
      "execution_count": null,
      "metadata": {
        "id": "8oJ4nVUVtVi8"
      },
      "outputs": [],
      "source": [
        "# 튜플\n",
        "# 리스트는 순서가 정해진 값의 집합"
      ]
    },
    {
      "cell_type": "code",
      "execution_count": null,
      "metadata": {
        "id": "ehVW1e5muGeT"
      },
      "outputs": [],
      "source": [
        "list1 = [1, 2, 3, 4]\n",
        "list1.append(5)\n",
        "list1"
      ]
    },
    {
      "cell_type": "code",
      "execution_count": null,
      "metadata": {
        "id": "RayuvatCuRAw"
      },
      "outputs": [],
      "source": [
        "# 리스트에서 값 1을 삭제하기\n",
        "\n",
        "list1.remove\n",
        "list1.remove(1)\n",
        "list1"
      ]
    },
    {
      "cell_type": "code",
      "execution_count": null,
      "metadata": {
        "colab": {
          "base_uri": "https://localhost:8080/"
        },
        "id": "GixAhr-LuYXg",
        "outputId": "5c2dfbe1-68a8-44ac-a4a0-521362ec6a1e"
      },
      "outputs": [
        {
          "name": "stdout",
          "output_type": "stream",
          "text": [
            "(1, 2, 3)\n"
          ]
        },
        {
          "data": {
            "text/plain": [
              "tuple"
            ]
          },
          "execution_count": 19,
          "metadata": {},
          "output_type": "execute_result"
        }
      ],
      "source": [
        "# 순서가 있고, 변하지 않는 값의 집합은 튜플을 사용하는게 유리함\n",
        "# 리스트는 대괄호 [], 딕셔너리는 중괄호 {}, 튜플은 소괄호 ()\n",
        "\n",
        "tuple1 = (1, 2, 3)\n",
        "print(tuple1)\n",
        "type(tuple1)"
      ]
    },
    {
      "cell_type": "code",
      "execution_count": null,
      "metadata": {
        "colab": {
          "base_uri": "https://localhost:8080/"
        },
        "id": "dX3nR_cMvetF",
        "outputId": "9c7ae4b7-79e6-4381-88b8-fadff51ce959"
      },
      "outputs": [
        {
          "name": "stdout",
          "output_type": "stream",
          "text": [
            "(1, 2, 3)\n"
          ]
        },
        {
          "data": {
            "text/plain": [
              "tuple"
            ]
          },
          "execution_count": 69,
          "metadata": {},
          "output_type": "execute_result"
        }
      ],
      "source": [
        "# 튜플 다른 방법으로 만들어 보기\n",
        "# 괄호를 넣지 않아도 여러개의 값이 부여되면 튜플로 인식\n",
        "\n",
        "tuple2 = 1, 2, 3\n",
        "print(tuple2)\n",
        "type(tuple2)"
      ]
    },
    {
      "cell_type": "code",
      "execution_count": null,
      "metadata": {
        "colab": {
          "base_uri": "https://localhost:8080/"
        },
        "id": "dFoCtrS8v5qA",
        "outputId": "acecbbc7-5a5f-4104-f37a-6e6a4f144c69"
      },
      "outputs": [
        {
          "name": "stdout",
          "output_type": "stream",
          "text": [
            "1\n",
            "<class 'int'>\n",
            "(1,)\n",
            "<class 'tuple'>\n"
          ]
        }
      ],
      "source": [
        "# 튜플과 일반 변수 비교하기\n",
        "a = 1\n",
        "print(a)\n",
        "print(type(a))\n",
        "\n",
        "a = 1,\n",
        "print(a)\n",
        "print(type(a))\n"
      ]
    },
    {
      "cell_type": "code",
      "execution_count": null,
      "metadata": {
        "colab": {
          "base_uri": "https://localhost:8080/",
          "height": 244
        },
        "id": "htm4a6r05M1E",
        "outputId": "cc772827-2354-4572-866c-5f2559349459"
      },
      "outputs": [
        {
          "name": "stdout",
          "output_type": "stream",
          "text": [
            "[1, 2, 3]\n"
          ]
        },
        {
          "ename": "TypeError",
          "evalue": "ignored",
          "output_type": "error",
          "traceback": [
            "\u001b[0;31m---------------------------------------------------------------------------\u001b[0m",
            "\u001b[0;31mTypeError\u001b[0m                                 Traceback (most recent call last)",
            "\u001b[0;32m<ipython-input-70-81e3b8655031>\u001b[0m in \u001b[0;36m<module>\u001b[0;34m()\u001b[0m\n\u001b[1;32m      3\u001b[0m \u001b[0mlist1\u001b[0m\u001b[0;34m=\u001b[0m\u001b[0;34m[\u001b[0m\u001b[0;36m1\u001b[0m\u001b[0;34m,\u001b[0m\u001b[0;36m2\u001b[0m\u001b[0;34m,\u001b[0m\u001b[0;36m3\u001b[0m\u001b[0;34m]\u001b[0m\u001b[0;34m\u001b[0m\u001b[0;34m\u001b[0m\u001b[0m\n\u001b[1;32m      4\u001b[0m \u001b[0mprint\u001b[0m\u001b[0;34m(\u001b[0m\u001b[0mlist1\u001b[0m\u001b[0;34m)\u001b[0m\u001b[0;34m\u001b[0m\u001b[0;34m\u001b[0m\u001b[0m\n\u001b[0;32m----> 5\u001b[0;31m \u001b[0mtuple3\u001b[0m \u001b[0;34m=\u001b[0m\u001b[0mtuple\u001b[0m\u001b[0;34m(\u001b[0m\u001b[0mlist1\u001b[0m\u001b[0;34m)\u001b[0m\u001b[0;34m\u001b[0m\u001b[0;34m\u001b[0m\u001b[0m\n\u001b[0m\u001b[1;32m      6\u001b[0m \u001b[0mtuple3\u001b[0m\u001b[0;34m\u001b[0m\u001b[0;34m\u001b[0m\u001b[0m\n",
            "\u001b[0;31mTypeError\u001b[0m: 'tuple' object is not callable"
          ]
        }
      ],
      "source": [
        "#리스트를 이용하여 튜플 만들기\n",
        "\n",
        "list1=[1,2,3]\n",
        "print(list1)\n",
        "tuple3 =tuple(list1)\n",
        "tuple3"
      ]
    },
    {
      "cell_type": "code",
      "execution_count": null,
      "metadata": {
        "colab": {
          "base_uri": "https://localhost:8080/"
        },
        "id": "holDRoN15XMV",
        "outputId": "3f22bfd2-0a0f-458a-e6e0-805f3b009c5a"
      },
      "outputs": [
        {
          "name": "stdout",
          "output_type": "stream",
          "text": [
            "[1, 2, 3]\n",
            "[1, 4, 3]\n"
          ]
        }
      ],
      "source": [
        "list1 = [1,2,3]\n",
        "print(list1)\n",
        "list1[1]=4\n",
        "print(list1)"
      ]
    },
    {
      "cell_type": "code",
      "execution_count": null,
      "metadata": {
        "id": "f2tx_bdYwnf1"
      },
      "outputs": [],
      "source": [
        "# 리스트와 튜플의 다른 점\n",
        "type(tuple3)"
      ]
    },
    {
      "cell_type": "code",
      "execution_count": null,
      "metadata": {
        "id": "ozoAJ3TQxBGQ"
      },
      "outputs": [],
      "source": [
        "# 튜플에 있는 값 바꿔보기\n",
        "\n",
        "tuple3[0]=5\n",
        "\n",
        "#튜플은 값 수정이 불가능하다. "
      ]
    },
    {
      "cell_type": "code",
      "execution_count": null,
      "metadata": {
        "colab": {
          "base_uri": "https://localhost:8080/",
          "height": 190
        },
        "id": "eagHf1ShxIlg",
        "outputId": "01990821-ce84-4bec-d34a-92163acdbdc6"
      },
      "outputs": [
        {
          "ename": "NameError",
          "evalue": "ignored",
          "output_type": "error",
          "traceback": [
            "\u001b[0;31m---------------------------------------------------------------------------\u001b[0m",
            "\u001b[0;31mNameError\u001b[0m                                 Traceback (most recent call last)",
            "\u001b[0;32m<ipython-input-36-1da1dd24d82b>\u001b[0m in \u001b[0;36m<module>\u001b[0;34m()\u001b[0m\n\u001b[1;32m      1\u001b[0m \u001b[0;31m# 삭제는 가능할까?\u001b[0m\u001b[0;34m\u001b[0m\u001b[0;34m\u001b[0m\u001b[0;34m\u001b[0m\u001b[0m\n\u001b[0;32m----> 2\u001b[0;31m \u001b[0;32mdel\u001b[0m \u001b[0mtuple3\u001b[0m\u001b[0;34m[\u001b[0m\u001b[0;36m2\u001b[0m\u001b[0;34m]\u001b[0m\u001b[0;34m\u001b[0m\u001b[0;34m\u001b[0m\u001b[0m\n\u001b[0m",
            "\u001b[0;31mNameError\u001b[0m: name 'tuple3' is not defined"
          ]
        }
      ],
      "source": [
        "# 삭제는 가능할까?\n",
        "del tuple3[2]"
      ]
    },
    {
      "cell_type": "code",
      "execution_count": null,
      "metadata": {
        "colab": {
          "base_uri": "https://localhost:8080/",
          "height": 244
        },
        "id": "FW2RcFlPxW9_",
        "outputId": "10f3be34-e7a8-45f7-fc66-9248cfd0219d"
      },
      "outputs": [
        {
          "ename": "TypeError",
          "evalue": "ignored",
          "output_type": "error",
          "traceback": [
            "\u001b[0;31m---------------------------------------------------------------------------\u001b[0m",
            "\u001b[0;31mTypeError\u001b[0m                                 Traceback (most recent call last)",
            "\u001b[0;32m<ipython-input-66-98cd20968e87>\u001b[0m in \u001b[0;36m<module>\u001b[0;34m()\u001b[0m\n\u001b[1;32m      8\u001b[0m \u001b[0;31m# 리스트형을 튜플로 변환\u001b[0m\u001b[0;34m\u001b[0m\u001b[0;34m\u001b[0m\u001b[0;34m\u001b[0m\u001b[0m\n\u001b[1;32m      9\u001b[0m \u001b[0mlist3\u001b[0m \u001b[0;34m=\u001b[0m \u001b[0;34m[\u001b[0m\u001b[0;36m1\u001b[0m\u001b[0;34m,\u001b[0m\u001b[0;36m2\u001b[0m\u001b[0;34m,\u001b[0m\u001b[0;36m3\u001b[0m\u001b[0;34m]\u001b[0m\u001b[0;34m\u001b[0m\u001b[0;34m\u001b[0m\u001b[0m\n\u001b[0;32m---> 10\u001b[0;31m \u001b[0mtuple4\u001b[0m \u001b[0;34m=\u001b[0m \u001b[0mtuple\u001b[0m\u001b[0;34m(\u001b[0m\u001b[0mlist3\u001b[0m\u001b[0;34m)\u001b[0m\u001b[0;34m\u001b[0m\u001b[0;34m\u001b[0m\u001b[0m\n\u001b[0m\u001b[1;32m     11\u001b[0m \u001b[0;34m\u001b[0m\u001b[0m\n\u001b[1;32m     12\u001b[0m \u001b[0;32mif\u001b[0m \u001b[0mtuple1\u001b[0m \u001b[0;34m==\u001b[0m \u001b[0mtuple2\u001b[0m \u001b[0;34m==\u001b[0m \u001b[0mtuple4\u001b[0m\u001b[0;34m:\u001b[0m\u001b[0;34m\u001b[0m\u001b[0;34m\u001b[0m\u001b[0m\n",
            "\u001b[0;31mTypeError\u001b[0m: 'tuple' object is not callable"
          ]
        }
      ],
      "source": [
        "# 실습\n",
        "# 튜플을 선언할 수 있는 다양한 방법 값은 1, 2, 3 으로 부여하기\n",
        "\n",
        "# 튜플 자료형 이용해서 선언\n",
        "tuple1 = (1,2,3)\n",
        "# 여러개의 숫자를 부여해서 선언\n",
        "tuple2 = 1,2,3\n",
        "# 리스트형을 튜플로 변환\n",
        "list3 = [1,2,3]\n",
        "tuple4 = tuple(list3)\n",
        "\n",
        "if tuple1 == tuple2 == tuple4:\n",
        "  print('tuple1, tuple2, tuple4는 모두 같습니다')"
      ]
    },
    {
      "cell_type": "code",
      "execution_count": null,
      "metadata": {
        "colab": {
          "base_uri": "https://localhost:8080/"
        },
        "id": "MVfVUROCy33k",
        "outputId": "76b48d06-6557-406d-990b-d901f7b9cb8e"
      },
      "outputs": [
        {
          "name": "stdout",
          "output_type": "stream",
          "text": [
            "1\n",
            "2\n",
            "<class 'int'>\n",
            "<class 'int'>\n"
          ]
        }
      ],
      "source": [
        "# 패킹과 언패킹\n",
        "# 패킹: 하나의 변수에 여러 개의 값을 넣는 것\n",
        "# 언패킹: 패킹된 변수에서 여러개의 값을 꺼내오는 것\n",
        "\n",
        "a, b = 1, 2\n",
        "print(a)\n",
        "print(b)\n",
        "print(type(a))\n",
        "print(type(b))"
      ]
    },
    {
      "cell_type": "code",
      "execution_count": null,
      "metadata": {
        "colab": {
          "base_uri": "https://localhost:8080/"
        },
        "id": "d-EH6wcGzU5P",
        "outputId": "e077f5d6-34f0-46ee-d57e-fe9383c23028"
      },
      "outputs": [
        {
          "name": "stdout",
          "output_type": "stream",
          "text": [
            "(3, 4)\n",
            "<class 'tuple'>\n",
            "3\n",
            "4\n",
            "<class 'tuple'>\n",
            "<class 'int'>\n",
            "<class 'int'>\n"
          ]
        }
      ],
      "source": [
        "c = (3, 4)\n",
        "print(c)\n",
        "print(type(c))\n",
        "\n",
        "# c의 값을 d와 e라는 변수에 언패킹해서 넣어보겠습니다.\n",
        "\n",
        "d, e = c\n",
        "print(d)\n",
        "print(e)\n",
        "\n",
        "print(type(c))\n",
        "print(type(d))\n",
        "print(type(e))\n"
      ]
    },
    {
      "cell_type": "code",
      "execution_count": null,
      "metadata": {
        "colab": {
          "base_uri": "https://localhost:8080/"
        },
        "id": "siD0aAwsz9IU",
        "outputId": "ea0fbb10-2570-46d4-b4c6-7776312269e1"
      },
      "outputs": [
        {
          "name": "stdout",
          "output_type": "stream",
          "text": [
            "<class 'tuple'>\n"
          ]
        }
      ],
      "source": [
        "# d와 e를 f에 패킹\n",
        "\n",
        "f = d, e\n",
        "print(type(f))"
      ]
    },
    {
      "cell_type": "code",
      "execution_count": null,
      "metadata": {
        "colab": {
          "base_uri": "https://localhost:8080/"
        },
        "id": "VTay9EIe0HLu",
        "outputId": "4831251a-6c2f-484e-dd2f-b23ea04d9f78"
      },
      "outputs": [
        {
          "name": "stdout",
          "output_type": "stream",
          "text": [
            "10\n",
            "5\n"
          ]
        }
      ],
      "source": [
        "# x = 5 y = 10 그 다음에 x와 y에 들어가 있는 값을 바꿔주세요.\n",
        "x = 5\n",
        "y = 10\n",
        "\n",
        "temp = x\n",
        "x = y\n",
        "y = temp\n",
        "\n",
        "print(x)\n",
        "print(y)"
      ]
    },
    {
      "cell_type": "code",
      "execution_count": null,
      "metadata": {
        "colab": {
          "base_uri": "https://localhost:8080/"
        },
        "id": "qxC371qr0o2e",
        "outputId": "f59fb96c-da78-4eb8-d23d-c8ee761497f3"
      },
      "outputs": [
        {
          "name": "stdout",
          "output_type": "stream",
          "text": [
            "10\n",
            "5\n"
          ]
        }
      ],
      "source": [
        "# x = 5 y = 10 그 다음에 x와 y에 들어가 있는 값을 바꿔주세요.\n",
        "x = 5\n",
        "y = 10\n",
        "\n",
        "x, y = y, x\n",
        "\n",
        "print(x)\n",
        "print(y)"
      ]
    },
    {
      "cell_type": "code",
      "execution_count": null,
      "metadata": {
        "colab": {
          "base_uri": "https://localhost:8080/"
        },
        "id": "qWRSekWr5e8s",
        "outputId": "7c4b400b-ceec-4942-9ea0-712642744ef6"
      },
      "outputs": [
        {
          "name": "stdout",
          "output_type": "stream",
          "text": [
            "1\n",
            "2\n",
            "(1, 2)\n"
          ]
        },
        {
          "data": {
            "text/plain": [
              "tuple"
            ]
          },
          "execution_count": 74,
          "metadata": {},
          "output_type": "execute_result"
        }
      ],
      "source": [
        "# 튜플 만드는 함수 만들기\n",
        "\n",
        "def tuple_func():\n",
        "  return 1, 2\n",
        "\n",
        "q, w = tuple_func()\n",
        "\n",
        "print(q)\n",
        "print(w)\n",
        "\n",
        "r = tuple_func()\n",
        "print(r)\n",
        "type(r)"
      ]
    },
    {
      "cell_type": "code",
      "execution_count": null,
      "metadata": {
        "id": "pDwQ9kGM5zdM"
      },
      "outputs": [],
      "source": [
        "# 실습하기\n",
        "# position을 튜플로 만들기\n",
        "\n",
        "x = 3\n",
        "y = 5\n",
        "\n",
        "position = x, y\n",
        "print(position)\n",
        "print(type(position))"
      ]
    },
    {
      "cell_type": "code",
      "execution_count": null,
      "metadata": {
        "colab": {
          "base_uri": "https://localhost:8080/"
        },
        "id": "n43Yhjwo6GQ8",
        "outputId": "07c83bcb-71a3-4c21-dc16-45b30bcff385"
      },
      "outputs": [
        {
          "name": "stdout",
          "output_type": "stream",
          "text": [
            "2\n",
            "1\n"
          ]
        }
      ],
      "source": [
        "# 실습하기2\n",
        "# a와 b의 값 변경하기\n",
        "\n",
        "a = 1\n",
        "b = 2\n",
        "\n",
        "a, b = b, a\n",
        "print(a)\n",
        "print(b)"
      ]
    },
    {
      "cell_type": "code",
      "execution_count": null,
      "metadata": {
        "colab": {
          "background_save": true
        },
        "id": "rXzxA84s6fnc"
      },
      "outputs": [],
      "source": [
        "# while 문\n",
        "\n",
        "selected = None\n",
        "\n",
        "while selected not in ['가위', '바위', '보']:\n",
        "  selected = input('가위, 바위, 보 중에 선택하세요>')\n",
        "\n",
        "print('선택된 값은: ', selected)"
      ]
    },
    {
      "cell_type": "code",
      "source": [
        "# while 문\n",
        "\n",
        "selected = None\n",
        "\n",
        "if selected not in ['가위', '바위', '보']:\n",
        "  selected = input('가위, 바위, 보 중에 선택하세요>')\n",
        "\n",
        "print('선택된 값은: ', selected)"
      ],
      "metadata": {
        "id": "sPOqhjZ890fa"
      },
      "execution_count": null,
      "outputs": []
    },
    {
      "cell_type": "code",
      "source": [
        "# for문으로 위의 코드 바꿔보기\n",
        "\n",
        "patterns = ['가위', '바위', '보']\n",
        "\n",
        "for i in patterns:\n",
        "  print(i)"
      ],
      "metadata": {
        "id": "lE83JPad-Dx_"
      },
      "execution_count": null,
      "outputs": []
    },
    {
      "cell_type": "code",
      "source": [
        "patterns = ['가위', '바위', '보']\n",
        "\n",
        "for i in range(3):\n",
        "  print(patterns[i])"
      ],
      "metadata": {
        "colab": {
          "base_uri": "https://localhost:8080/"
        },
        "id": "PFZkLxrG_vbK",
        "outputId": "61eef484-4b91-493d-f141-728e4dbc73c0"
      },
      "execution_count": null,
      "outputs": [
        {
          "output_type": "stream",
          "name": "stdout",
          "text": [
            "가위\n",
            "바위\n",
            "보\n"
          ]
        }
      ]
    },
    {
      "cell_type": "code",
      "source": [
        "patterns = ['가위', '바위', '보']\n",
        "\n",
        "for i in range(len(patterns)):\n",
        "  print(patterns[i])"
      ],
      "metadata": {
        "colab": {
          "base_uri": "https://localhost:8080/"
        },
        "id": "9VYQeRD0Arw5",
        "outputId": "712ac03e-6c82-4b17-fbf7-abe01ee2b3da"
      },
      "execution_count": null,
      "outputs": [
        {
          "output_type": "stream",
          "name": "stdout",
          "text": [
            "가위\n",
            "바위\n",
            "보\n"
          ]
        }
      ]
    },
    {
      "cell_type": "code",
      "source": [
        "# 위의 코드를 while문으로 바꿔보기\n",
        "\n",
        "patterns = ['가위', '바위', '보']\n",
        "\n",
        "i = 0\n",
        "while i is not len(patterns):\n",
        "  print(patterns[i])\n",
        "  i+=1"
      ],
      "metadata": {
        "colab": {
          "base_uri": "https://localhost:8080/"
        },
        "id": "VLip2PYYA6W5",
        "outputId": "364df367-9869-4815-ae64-cbbddea819c1"
      },
      "execution_count": null,
      "outputs": [
        {
          "output_type": "stream",
          "name": "stdout",
          "text": [
            "가위\n",
            "바위\n",
            "보\n"
          ]
        }
      ]
    }
  ],
  "metadata": {
    "colab": {
      "name": "Python_study_05(220321).ipynb",
      "provenance": [],
      "collapsed_sections": [],
      "authorship_tag": "ABX9TyPbYu1LtqYs2A51ERxWLeUR",
      "include_colab_link": true
    },
    "kernelspec": {
      "display_name": "Python 3",
      "name": "python3"
    },
    "language_info": {
      "name": "python"
    },
    "accelerator": "GPU"
  },
  "nbformat": 4,
  "nbformat_minor": 0
}